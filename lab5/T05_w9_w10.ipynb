{
 "cells": [
  {
   "cell_type": "markdown",
   "id": "75ba224b",
   "metadata": {
    "toc": true
   },
   "source": [
    "<h1>Table of Contents<span class=\"tocSkip\"></span></h1>\n",
    "<div class=\"toc\"><ul class=\"toc-item\"></ul></div>"
   ]
  },
  {
   "cell_type": "markdown",
   "id": "edbef882",
   "metadata": {},
   "source": [
    "<p style=\"font-size:125%; color:#119988; background-color:#EEE\">Задание 1</p>\n",
    "\n",
    "Создайте словарь *food* продуктов питания, ключами которого являются наименования, а значениями цены. Исходные данные для словаря:\n",
    "```\n",
    "titles=('apples,grape,bananas,watermelons,tomatoes'.split(','))\n",
    "prices=(20,25,15,11,15)\n",
    "```"
   ]
  },
  {
   "cell_type": "code",
   "execution_count": 1,
   "id": "7befff06",
   "metadata": {},
   "outputs": [],
   "source": [
    "# 1\n",
    "\n",
    "titles=('apples,grape,bananas,watermelons,tomatoes'.split(','))\n",
    "prices=(20,25,15,11,15)\n",
    "\n"
   ]
  },
  {
   "cell_type": "markdown",
   "id": "815e7957",
   "metadata": {},
   "source": [
    "<p style=\"font-size:125%; color:#119988; background-color:#EEE\">Задание 2</p>\n",
    "\n",
    "Удалите из словаря *food* арбузы (watermelons) и добавьте дыни (melons) по той же цене."
   ]
  },
  {
   "cell_type": "code",
   "execution_count": 19,
   "id": "50964e18",
   "metadata": {},
   "outputs": [
    {
     "data": {
      "text/plain": [
       "{'apples': 20, 'grape': 25, 'bananas': 15, 'tomatoes': 15, 'melons': 11}"
      ]
     },
     "execution_count": 19,
     "metadata": {},
     "output_type": "execute_result"
    }
   ],
   "source": [
    "# 2\n",
    "\n"
   ]
  },
  {
   "cell_type": "markdown",
   "id": "09da5372",
   "metadata": {},
   "source": [
    "<p style=\"font-size:125%; color:#119988; background-color:#EEE\">Задание 3</p>\n",
    "\n",
    "Все цены снижены на 15%. Обновите словарь продуктов."
   ]
  },
  {
   "cell_type": "code",
   "execution_count": 2,
   "id": "b88d99a1",
   "metadata": {},
   "outputs": [],
   "source": [
    "# 3\n"
   ]
  },
  {
   "cell_type": "markdown",
   "id": "ea04b336",
   "metadata": {},
   "source": [
    "<p style=\"font-size:125%; color:#119988; background-color:#EEE\">Задание 4</p>\n",
    "\n",
    "Поменяйте местами цены и названия, пусть ключами словаря станут цены, а значениями - названия. Изменилось ли при этом количество элементов словаря? Если да, то объясните, почему."
   ]
  },
  {
   "cell_type": "code",
   "execution_count": 3,
   "id": "968cf531",
   "metadata": {},
   "outputs": [],
   "source": [
    "# 4\n"
   ]
  },
  {
   "cell_type": "markdown",
   "id": "ef49adb3",
   "metadata": {},
   "source": [
    "<p style=\"font-size:125%; color:#119988; background-color:#EEE\">Задание 5</p>\n",
    "\n",
    "Напишите функцию, возвращающую максимальную степень некоторого натурального числа $k$ (например $k=2$), меньшую данного натурального числа $n$. Пусть $k$ и $n$ будут параметрами функции."
   ]
  },
  {
   "cell_type": "code",
   "execution_count": 4,
   "id": "a56f047a",
   "metadata": {},
   "outputs": [],
   "source": [
    "# 5\n",
    "\n"
   ]
  },
  {
   "cell_type": "markdown",
   "id": "dafc63f5",
   "metadata": {},
   "source": [
    "<p style=\"font-size:125%; color:#119988; background-color:#EEE\">Задание 6</p>\n",
    "\n",
    "Создайте функцию, возвращающую ряд Фибоначчи до определенного натурального числа $n$."
   ]
  },
  {
   "cell_type": "code",
   "execution_count": 5,
   "id": "de7f401f",
   "metadata": {},
   "outputs": [],
   "source": [
    "# 6\n",
    "\n"
   ]
  },
  {
   "cell_type": "markdown",
   "id": "119e660a",
   "metadata": {},
   "source": [
    "<p style=\"font-size:125%; color:#119988; background-color:#EEE\">Задание 7</p>\n",
    "\n",
    "Создайте рекурсивную функцию, возвращающую ряд Фибоначчи до определенного натурального числа $n$."
   ]
  },
  {
   "cell_type": "code",
   "execution_count": 6,
   "id": "31838c27",
   "metadata": {},
   "outputs": [],
   "source": [
    "# 7\n",
    "\n"
   ]
  },
  {
   "cell_type": "markdown",
   "id": "ec8400ea",
   "metadata": {},
   "source": [
    "<p style=\"font-size:125%; color:#119988; background-color:#EEE\">Задание 8</p>\n",
    "\n",
    "Создайте функцию, которая проверяет, является ли число членом ряда Фибоначчи."
   ]
  },
  {
   "cell_type": "code",
   "execution_count": null,
   "id": "a8715c73",
   "metadata": {},
   "outputs": [],
   "source": [
    "# 8\n",
    "\n"
   ]
  },
  {
   "cell_type": "markdown",
   "id": "eed2994e",
   "metadata": {},
   "source": [
    "<p style=\"font-size:125%; color:#119988; background-color:#EEE\">Задание 9</p>\n",
    "\n",
    "Студентка Александра родилась 11 июня 2003 года в 12 часов дня. Рассчитать время в минутах с момента рождения."
   ]
  },
  {
   "cell_type": "code",
   "execution_count": 7,
   "id": "6d81786f",
   "metadata": {},
   "outputs": [],
   "source": [
    "# 9\n",
    "\n"
   ]
  }
 ],
 "metadata": {
  "kernelspec": {
   "display_name": "Python 3 (ipykernel)",
   "language": "python",
   "name": "python3"
  },
  "language_info": {
   "codemirror_mode": {
    "name": "ipython",
    "version": 3
   },
   "file_extension": ".py",
   "mimetype": "text/x-python",
   "name": "python",
   "nbconvert_exporter": "python",
   "pygments_lexer": "ipython3",
   "version": "3.9.7"
  },
  "toc": {
   "base_numbering": 1,
   "nav_menu": {},
   "number_sections": true,
   "sideBar": true,
   "skip_h1_title": false,
   "title_cell": "Table of Contents",
   "title_sidebar": "Contents",
   "toc_cell": true,
   "toc_position": {},
   "toc_section_display": true,
   "toc_window_display": false
  },
  "varInspector": {
   "cols": {
    "lenName": 16,
    "lenType": 16,
    "lenVar": 40
   },
   "kernels_config": {
    "python": {
     "delete_cmd_postfix": "",
     "delete_cmd_prefix": "del ",
     "library": "var_list.py",
     "varRefreshCmd": "print(var_dic_list())"
    },
    "r": {
     "delete_cmd_postfix": ") ",
     "delete_cmd_prefix": "rm(",
     "library": "var_list.r",
     "varRefreshCmd": "cat(var_dic_list()) "
    }
   },
   "types_to_exclude": [
    "module",
    "function",
    "builtin_function_or_method",
    "instance",
    "_Feature"
   ],
   "window_display": false
  }
 },
 "nbformat": 4,
 "nbformat_minor": 5
}
