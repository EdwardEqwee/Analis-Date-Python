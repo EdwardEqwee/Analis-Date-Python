{
 "cells": [
  {
   "cell_type": "markdown",
   "metadata": {
    "toc": true
   },
   "source": [
    "<h1>Table of Contents<span class=\"tocSkip\"></span></h1>\n",
    "<div class=\"toc\"><ul class=\"toc-item\"><li><span><a href=\"#Библиотека-Pandas\" data-toc-modified-id=\"Библиотека-Pandas-1\"><span class=\"toc-item-num\">1&nbsp;&nbsp;</span>Библиотека Pandas</a></span></li><li><span><a href=\"#Раздел-1.-Создание-таблиц-из-коллекций\" data-toc-modified-id=\"Раздел-1.-Создание-таблиц-из-коллекций-2\"><span class=\"toc-item-num\">2&nbsp;&nbsp;</span>Раздел 1. Создание таблиц из коллекций</a></span></li><li><span><a href=\"#Раздел-2.-Извлечение-данных-по-условию\" data-toc-modified-id=\"Раздел-2.-Извлечение-данных-по-условию-3\"><span class=\"toc-item-num\">3&nbsp;&nbsp;</span>Раздел 2. Извлечение данных по условию</a></span><ul class=\"toc-item\"><li><ul class=\"toc-item\"><li><span><a href=\"#Работа-с-набором-данных-Financial-Sample\" data-toc-modified-id=\"Работа-с-набором-данных-Financial-Sample-3.0.1\"><span class=\"toc-item-num\">3.0.1&nbsp;&nbsp;</span>Работа с набором данных <em>Financial Sample</em></a></span></li><li><span><a href=\"#Извлечение-данных-по-условию\" data-toc-modified-id=\"Извлечение-данных-по-условию-3.0.2\"><span class=\"toc-item-num\">3.0.2&nbsp;&nbsp;</span>Извлечение данных по условию</a></span></li></ul></li><li><span><a href=\"#Раздел-3.-Группировка-данных\" data-toc-modified-id=\"Раздел-3.-Группировка-данных-3.1\"><span class=\"toc-item-num\">3.1&nbsp;&nbsp;</span>Раздел 3. Группировка данных</a></span></li></ul></li></ul></div>"
   ]
  },
  {
   "cell_type": "markdown",
   "metadata": {
    "id": "2Yn_cT5q5eWw"
   },
   "source": [
    "\n",
    "\n",
    "# Библиотека Pandas"
   ]
  },
  {
   "cell_type": "code",
   "execution_count": 1,
   "metadata": {
    "id": "O3_eV5N1mBsX"
   },
   "outputs": [],
   "source": [
    "import pandas as pd"
   ]
  },
  {
   "cell_type": "markdown",
   "metadata": {},
   "source": [
    "# Раздел 1. Создание таблиц из коллекций"
   ]
  },
  {
   "cell_type": "markdown",
   "metadata": {
    "id": "5lpvxhPt14Rz"
   },
   "source": [
    "<p style=\"font-size:125%; color:#119988; background-color:#EEE\">Задание 1.1</p>\n",
    "\n",
    "Имеется *серия*, содержащая числа от 10 до 1000. Какое число содержит элемент с индексом 175? Вычислите разность элементов с индексами 900 и 16."
   ]
  },
  {
   "cell_type": "code",
   "execution_count": 4,
   "metadata": {
    "id": "dwKG6XBG2aGI"
   },
   "outputs": [],
   "source": [
    "# 1.1. Ваш код здесь\n",
    "s = pd.Series(range(10,1001))\n",
    "\n"
   ]
  },
  {
   "cell_type": "markdown",
   "metadata": {
    "id": "KxLDOxlXHcnw"
   },
   "source": [
    "<p style=\"font-size:125%; color:#119988; background-color:#EEE\">Задание 1.2</p>\n",
    "\n",
    "Мебельная фабрика выпускает продукцию  наименований: диваны, кровати, трюмо. Создайте таблицу *DatаFrame*, содержащую: количество призведенной продукции каждого наименования, остаток на складе фабрики. Наименования разместите в строках, а количество и остаток в столбцах."
   ]
  },
  {
   "cell_type": "code",
   "execution_count": 4,
   "metadata": {
    "id": "dwKG6XBG2aGI"
   },
   "outputs": [],
   "source": [
    "# 1.2. Ваш код здесь\n",
    "\n"
   ]
  },
  {
   "cell_type": "markdown",
   "metadata": {
    "id": "4-VMbARUiXxB"
   },
   "source": [
    "<p style=\"font-size:125%; color:#119988; background-color:#EEE\">Задание 1.3</p>\n",
    "\n",
    "Разделите столбец **car** таблицы **market** на два столбца: **mark** (марка) и **model** (модель).\n",
    "\n",
    "```\n",
    "market = pd.DataFrame({'car':['Lada Granta','Lada Vesta','Kia Rio','Hyunday Creta'], \n",
    "                       'year':[2019,2018,2010,2015], \n",
    "                       'condition':[75,104,20,90], 'km':[130000,210000,75000,94000]})\n",
    "```"
   ]
  },
  {
   "cell_type": "code",
   "execution_count": 16,
   "metadata": {},
   "outputs": [],
   "source": [
    "# 1.3. Ваш код здесь\n",
    "\n"
   ]
  },
  {
   "cell_type": "markdown",
   "metadata": {},
   "source": [
    "<p style=\"font-size:125%; color:#119988; background-color:#EEE\">Задание 1.4</p>\n",
    "\n",
    "Имеются исторические данные о цене акции в виде таблицы DataFrame.\n",
    "\n",
    "```\n",
    "history=pd.DataFrame([[150,20,140,140],[140,31,152,150],\n",
    "                     [147,17,180,164],[129,33,150,167]],\n",
    "                     columns=['Open','Low','High','Close'],\n",
    "                     index=['2020-12-07','2020-12-08','2020-12-09','2020-12-10'])\n",
    "```\n",
    "Найдите минимальную и максимальную цены закрытия, стандартное отклонение цены открытия, среднее значение самой низкой (Low) цены и медиану самой высокой (High) цены."
   ]
  },
  {
   "cell_type": "code",
   "execution_count": 13,
   "metadata": {},
   "outputs": [],
   "source": [
    "# 1.4. Ваш код здесь\n",
    "\n"
   ]
  },
  {
   "cell_type": "markdown",
   "metadata": {},
   "source": [
    "# Раздел 2. Извлечение данных по условию\n",
    "\n",
    "### Работа с набором данных *Financial Sample*"
   ]
  },
  {
   "cell_type": "code",
   "execution_count": 2,
   "metadata": {},
   "outputs": [
    {
     "data": {
      "text/html": [
       "<div>\n",
       "<style scoped>\n",
       "    .dataframe tbody tr th:only-of-type {\n",
       "        vertical-align: middle;\n",
       "    }\n",
       "\n",
       "    .dataframe tbody tr th {\n",
       "        vertical-align: top;\n",
       "    }\n",
       "\n",
       "    .dataframe thead th {\n",
       "        text-align: right;\n",
       "    }\n",
       "</style>\n",
       "<table border=\"1\" class=\"dataframe\">\n",
       "  <thead>\n",
       "    <tr style=\"text-align: right;\">\n",
       "      <th></th>\n",
       "      <th>Name</th>\n",
       "      <th>Meaning</th>\n",
       "    </tr>\n",
       "  </thead>\n",
       "  <tbody>\n",
       "    <tr>\n",
       "      <th>0</th>\n",
       "      <td>Segment</td>\n",
       "      <td>Сегмент рынка</td>\n",
       "    </tr>\n",
       "    <tr>\n",
       "      <th>1</th>\n",
       "      <td>Country</td>\n",
       "      <td>Страна</td>\n",
       "    </tr>\n",
       "    <tr>\n",
       "      <th>2</th>\n",
       "      <td>Product</td>\n",
       "      <td>Сделано в</td>\n",
       "    </tr>\n",
       "    <tr>\n",
       "      <th>3</th>\n",
       "      <td>DiscountBand</td>\n",
       "      <td>Группа скидок</td>\n",
       "    </tr>\n",
       "    <tr>\n",
       "      <th>4</th>\n",
       "      <td>UnitsSold</td>\n",
       "      <td>Продано штук</td>\n",
       "    </tr>\n",
       "    <tr>\n",
       "      <th>5</th>\n",
       "      <td>ManufacturingPrice</td>\n",
       "      <td>Цена производства</td>\n",
       "    </tr>\n",
       "    <tr>\n",
       "      <th>6</th>\n",
       "      <td>SalePrice</td>\n",
       "      <td>Цена единицы товара</td>\n",
       "    </tr>\n",
       "    <tr>\n",
       "      <th>7</th>\n",
       "      <td>GrossSales</td>\n",
       "      <td>Валовая продажа</td>\n",
       "    </tr>\n",
       "    <tr>\n",
       "      <th>8</th>\n",
       "      <td>Discounts</td>\n",
       "      <td>Скидка</td>\n",
       "    </tr>\n",
       "    <tr>\n",
       "      <th>9</th>\n",
       "      <td>Sales</td>\n",
       "      <td>Стоимость партии товара</td>\n",
       "    </tr>\n",
       "    <tr>\n",
       "      <th>10</th>\n",
       "      <td>COGS</td>\n",
       "      <td>Себестоимость проданных товаров</td>\n",
       "    </tr>\n",
       "    <tr>\n",
       "      <th>11</th>\n",
       "      <td>Profit</td>\n",
       "      <td>Прибыль</td>\n",
       "    </tr>\n",
       "    <tr>\n",
       "      <th>12</th>\n",
       "      <td>Date</td>\n",
       "      <td>Дата</td>\n",
       "    </tr>\n",
       "    <tr>\n",
       "      <th>13</th>\n",
       "      <td>MonthNumber</td>\n",
       "      <td>Месяц номер</td>\n",
       "    </tr>\n",
       "    <tr>\n",
       "      <th>14</th>\n",
       "      <td>MonthName</td>\n",
       "      <td>Месяц</td>\n",
       "    </tr>\n",
       "    <tr>\n",
       "      <th>15</th>\n",
       "      <td>Year</td>\n",
       "      <td>Год</td>\n",
       "    </tr>\n",
       "  </tbody>\n",
       "</table>\n",
       "</div>"
      ],
      "text/plain": [
       "                  Name                          Meaning\n",
       "0              Segment                    Сегмент рынка\n",
       "1              Country                           Страна\n",
       "2              Product                        Сделано в\n",
       "3         DiscountBand                    Группа скидок\n",
       "4            UnitsSold                     Продано штук\n",
       "5   ManufacturingPrice                Цена производства\n",
       "6            SalePrice              Цена единицы товара\n",
       "7           GrossSales                  Валовая продажа\n",
       "8            Discounts                           Скидка\n",
       "9                Sales          Стоимость партии товара\n",
       "10                COGS  Себестоимость проданных товаров\n",
       "11              Profit                          Прибыль\n",
       "12                Date                             Дата\n",
       "13         MonthNumber                      Месяц номер\n",
       "14           MonthName                            Месяц\n",
       "15                Year                              Год"
      ]
     },
     "execution_count": 2,
     "metadata": {},
     "output_type": "execute_result"
    }
   ],
   "source": [
    "with open('../Data/FinancialSampleFields.csv', encoding='utf-8') as f:\n",
    "  content = f.readlines()\n",
    "  content = [x.replace('\\n','').split(';') for x in content]\n",
    "\n",
    "pd.DataFrame(content[1:],columns = content[0])"
   ]
  },
  {
   "cell_type": "markdown",
   "metadata": {
    "id": "O19QRQijxc8j"
   },
   "source": [
    "### Извлечение данных по условию\n",
    "\n",
    "Использование условий позволяет выбирать только отвечающие условиям данные.\n",
    "\n",
    "Примеры:\n",
    "\n",
    "`fs[fs['SalePrice']>90] # отобрать результаты, для которых цена продажи больше 90`\n",
    "\n",
    "В результате операции сравнения в квадратных скобках создается список из *True* и *False*, который показывает, какие строки *DataFrame* нужно оставить, а какие убрать.\n",
    "\n",
    "`fs[fs['Discounts']>fs['Discounts'].mean()] # результаты, для которых сумма скидок превышает среднюю сумму скидок`\n",
    "\n",
    "Условия можно комбинировать, используя операторы **&** (логическое И) и | (логическое ИЛИ).\n",
    "\n",
    "`fs[(fs['Discounts']>fs['Discounts'].mean()) & (fs['UnitsSold']<fs['UnitsSold'].mean())].sort_values('Country') # сумма скидок выше среднего, продано товара ниже среднего по выборке`\n",
    "\n",
    "`fs[fs['Segment']=='Enterprise']['COGS'].mean() # найти среднюю себестоимость товаров промышленного (Enterprise) сегмента`\n",
    "\n",
    "Проверьте приведенные примеры в своих ноутбуках."
   ]
  },
  {
   "cell_type": "markdown",
   "metadata": {},
   "source": [
    "<p style=\"font-size:125%; color:#119988; background-color:#EEE\">Задание 2.1</p>\n",
    "\n",
    "Загрузите этот набор данных в таблицу *DataFrame*. Какова сумма валовых продаж (GrossSales) товаров, произведеных *Amarilla* для малого бизнеса?"
   ]
  },
  {
   "cell_type": "code",
   "execution_count": null,
   "metadata": {},
   "outputs": [],
   "source": [
    "# 2.1. Ваш код здесь\n",
    "\n"
   ]
  },
  {
   "cell_type": "markdown",
   "metadata": {},
   "source": [
    "<p style=\"font-size:125%; color:#119988; background-color:#EEE\">Задание 2.2</p>\n",
    "\n",
    "Определите среднюю стоимость производства (ManufacturingPrice) товаров, выпущенных для Мексики стоимостью (SalePrice) выше, чем стоимость 70% товаров."
   ]
  },
  {
   "cell_type": "code",
   "execution_count": null,
   "metadata": {},
   "outputs": [],
   "source": [
    "# 2.2. Ваш код здесь\n",
    "\n"
   ]
  },
  {
   "cell_type": "markdown",
   "metadata": {},
   "source": [
    "<p style=\"font-size:125%; color:#119988; background-color:#EEE\">Задание 2.3</p>\n",
    "\n",
    "Найдите минимальную цену производства товара правительственого сегмента, для которого цена продажи ниже цены производства."
   ]
  },
  {
   "cell_type": "code",
   "execution_count": null,
   "metadata": {},
   "outputs": [],
   "source": [
    "# 2.3. Ваш код здесь\n",
    "\n"
   ]
  },
  {
   "cell_type": "markdown",
   "metadata": {},
   "source": [
    "<p style=\"font-size:125%; color:#119988; background-color:#EEE\">Задание 2.4</p>\n",
    "\n",
    "Какова средняя цена товара, стоимость производства которого ниже средней?"
   ]
  },
  {
   "cell_type": "code",
   "execution_count": null,
   "metadata": {},
   "outputs": [],
   "source": [
    "# 2.4. Ваш код здесь\n",
    "\n"
   ]
  },
  {
   "cell_type": "markdown",
   "metadata": {},
   "source": [
    "<p style=\"font-size:125%; color:#119988; background-color:#EEE\">Задание 2.5</p>\n",
    "\n",
    "Во сколько раз средняя себестоимость (COGS) товаров промышленного сегмента (Enterprize) отличается от средней себестоимости товаров малого бизнеса?"
   ]
  },
  {
   "cell_type": "code",
   "execution_count": 3,
   "metadata": {},
   "outputs": [],
   "source": [
    "# 2.5. Ваш код здесь\n",
    "\n"
   ]
  },
  {
   "cell_type": "markdown",
   "metadata": {},
   "source": [
    "<p style=\"font-size:125%; color:#119988; background-color:#EEE\">Задание 2.6</p>\n",
    "\n",
    "Какова суммарная прибыль всех сделок в правительственном сегменте, заключенных компаниями Carretera и Paseo?"
   ]
  },
  {
   "cell_type": "code",
   "execution_count": 4,
   "metadata": {},
   "outputs": [],
   "source": [
    "# 2.6. Ваш код здесь\n",
    "\n"
   ]
  },
  {
   "cell_type": "markdown",
   "metadata": {
    "id": "mLSdzFG55hyA"
   },
   "source": [
    "## Раздел 3. Группировка данных\n",
    "\n"
   ]
  },
  {
   "cell_type": "markdown",
   "metadata": {},
   "source": [
    "<p style=\"font-size:125%; color:#119988; background-color:#EEE\">Задание 3.1</p>\n",
    "\n",
    "Сколько разных систем скидок представлено в таблице?"
   ]
  },
  {
   "cell_type": "code",
   "execution_count": 5,
   "metadata": {},
   "outputs": [],
   "source": [
    "# 3.1. Ваш код здесь\n",
    "\n"
   ]
  },
  {
   "cell_type": "markdown",
   "metadata": {},
   "source": [
    "<p style=\"font-size:125%; color:#119988; background-color:#EEE\">Задание 3.2</p>\n",
    "\n",
    "Какая из систем скидок применяется реже всего?"
   ]
  },
  {
   "cell_type": "code",
   "execution_count": 5,
   "metadata": {},
   "outputs": [],
   "source": [
    "# 3.2. Ваш код здесь\n",
    "\n"
   ]
  },
  {
   "cell_type": "markdown",
   "metadata": {},
   "source": [
    "<p style=\"font-size:125%; color:#119988; background-color:#EEE\">Задание 3.3</p>\n",
    "\n",
    "Сколько раз представлены в выборке разные страны?"
   ]
  },
  {
   "cell_type": "code",
   "execution_count": 6,
   "metadata": {},
   "outputs": [],
   "source": [
    "# 3.3. Ваш код здесь\n",
    "\n"
   ]
  },
  {
   "cell_type": "markdown",
   "metadata": {},
   "source": [
    "<p style=\"font-size:125%; color:#119988; background-color:#EEE\">Задание 3.4</p>\n",
    "\n",
    "Разбейте значения столбца себестоимости (COGS) для Канады на шесть интервалов."
   ]
  },
  {
   "cell_type": "code",
   "execution_count": 7,
   "metadata": {},
   "outputs": [],
   "source": [
    "# 3.4. Ваш код здесь\n",
    "\n"
   ]
  },
  {
   "cell_type": "markdown",
   "metadata": {},
   "source": [
    "<p style=\"font-size:125%; color:#119988; background-color:#EEE\">Задание 3.5</p>\n",
    "\n",
    "Разбейте значения столбца себестоимости (COGS) для Канады на шесть интервалов."
   ]
  },
  {
   "cell_type": "code",
   "execution_count": 8,
   "metadata": {},
   "outputs": [],
   "source": [
    "# 3.5. Ваш код здесь\n",
    "\n"
   ]
  }
 ],
 "metadata": {
  "colab": {
   "collapsed_sections": [],
   "name": "Тема 8 ГК (запросы) Лекция",
   "provenance": []
  },
  "kernelspec": {
   "display_name": "Python 3 (ipykernel)",
   "language": "python",
   "name": "python3"
  },
  "language_info": {
   "codemirror_mode": {
    "name": "ipython",
    "version": 3
   },
   "file_extension": ".py",
   "mimetype": "text/x-python",
   "name": "python",
   "nbconvert_exporter": "python",
   "pygments_lexer": "ipython3",
   "version": "3.9.7"
  },
  "toc": {
   "base_numbering": 1,
   "nav_menu": {},
   "number_sections": true,
   "sideBar": true,
   "skip_h1_title": false,
   "title_cell": "Table of Contents",
   "title_sidebar": "Contents",
   "toc_cell": true,
   "toc_position": {},
   "toc_section_display": true,
   "toc_window_display": false
  },
  "varInspector": {
   "cols": {
    "lenName": 16,
    "lenType": 16,
    "lenVar": 40
   },
   "kernels_config": {
    "python": {
     "delete_cmd_postfix": "",
     "delete_cmd_prefix": "del ",
     "library": "var_list.py",
     "varRefreshCmd": "print(var_dic_list())"
    },
    "r": {
     "delete_cmd_postfix": ") ",
     "delete_cmd_prefix": "rm(",
     "library": "var_list.r",
     "varRefreshCmd": "cat(var_dic_list()) "
    }
   },
   "types_to_exclude": [
    "module",
    "function",
    "builtin_function_or_method",
    "instance",
    "_Feature"
   ],
   "window_display": false
  }
 },
 "nbformat": 4,
 "nbformat_minor": 4
}
