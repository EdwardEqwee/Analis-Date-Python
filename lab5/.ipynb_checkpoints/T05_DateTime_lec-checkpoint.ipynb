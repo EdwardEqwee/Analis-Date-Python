{
 "cells": [
  {
   "cell_type": "markdown",
   "metadata": {
    "toc": true
   },
   "source": [
    "<h1>Table of Contents<span class=\"tocSkip\"></span></h1>\n",
    "<div class=\"toc\"><ul class=\"toc-item\"><li><span><a href=\"#Обработка-данных-в-формате-даты-и-времени\" data-toc-modified-id=\"Обработка-данных-в-формате-даты-и-времени-1\"><span class=\"toc-item-num\">1&nbsp;&nbsp;</span>Обработка данных в формате даты и времени</a></span><ul class=\"toc-item\"><li><span><a href=\"#1.-Класс-Date\" data-toc-modified-id=\"1.-Класс-Date-1.1\"><span class=\"toc-item-num\">1.1&nbsp;&nbsp;</span>1. Класс <em>Date</em></a></span><ul class=\"toc-item\"><li><span><a href=\"#Список-методов-класса-Date\" data-toc-modified-id=\"Список-методов-класса-Date-1.1.1\"><span class=\"toc-item-num\">1.1.1&nbsp;&nbsp;</span>Список методов класса <em>Date</em></a></span></li></ul></li><li><span><a href=\"#2.-Класс-Time\" data-toc-modified-id=\"2.-Класс-Time-1.2\"><span class=\"toc-item-num\">1.2&nbsp;&nbsp;</span>2. Класс <em>Time</em></a></span><ul class=\"toc-item\"><li><span><a href=\"#Перечень-методов-класса-Time\" data-toc-modified-id=\"Перечень-методов-класса-Time-1.2.1\"><span class=\"toc-item-num\">1.2.1&nbsp;&nbsp;</span>Перечень методов класса Time</a></span></li></ul></li><li><span><a href=\"#3.-Класс-Datetime\" data-toc-modified-id=\"3.-Класс-Datetime-1.3\"><span class=\"toc-item-num\">1.3&nbsp;&nbsp;</span>3. Класс <em>Datetime</em></a></span><ul class=\"toc-item\"><li><span><a href=\"#Список-методов-класса-Datetime\" data-toc-modified-id=\"Список-методов-класса-Datetime-1.3.1\"><span class=\"toc-item-num\">1.3.1&nbsp;&nbsp;</span>Список методов класса Datetime</a></span></li></ul></li><li><span><a href=\"#4.-Класс-Timedelta\" data-toc-modified-id=\"4.-Класс-Timedelta-1.4\"><span class=\"toc-item-num\">1.4&nbsp;&nbsp;</span>4. Класс Timedelta</a></span></li><li><span><a href=\"#5.-Форматирование-даты-и-времени\" data-toc-modified-id=\"5.-Форматирование-даты-и-времени-1.5\"><span class=\"toc-item-num\">1.5&nbsp;&nbsp;</span>5. Форматирование даты и времени</a></span></li><li><span><a href=\"#5.1.-Метод-strftime()\" data-toc-modified-id=\"5.1.-Метод-strftime()-1.6\"><span class=\"toc-item-num\">1.6&nbsp;&nbsp;</span>5.1. Метод <em>strftime()</em></a></span></li><li><span><a href=\"#5.2.-Метод-strptime()\" data-toc-modified-id=\"5.2.-Метод-strptime()-1.7\"><span class=\"toc-item-num\">1.7&nbsp;&nbsp;</span>5.2. Метод <em>strptime()</em></a></span></li><li><span><a href=\"#6.-Обработка-информации-о-часовом-поясе\" data-toc-modified-id=\"6.-Обработка-информации-о-часовом-поясе-1.8\"><span class=\"toc-item-num\">1.8&nbsp;&nbsp;</span>6. Обработка информации о часовом поясе</a></span></li><li><span><a href=\"#7.-Вычисление-временного-интервала-в-минутах\" data-toc-modified-id=\"7.-Вычисление-временного-интервала-в-минутах-1.9\"><span class=\"toc-item-num\">1.9&nbsp;&nbsp;</span>7. Вычисление временного интервала в минутах</a></span></li></ul></li></ul></div>"
   ]
  },
  {
   "cell_type": "markdown",
   "metadata": {},
   "source": [
    "\n",
    "\n",
    "# Обработка данных в формате даты и времени"
   ]
  },
  {
   "cell_type": "markdown",
   "metadata": {},
   "source": [
    "В Python дата и время не являются самостоятельными типами данных, но можно импортировать модуль *datetime* для работы с датой и временем. Модуль *datetime* встроен в Python, поэтому его не нужно устанавливать.\n",
    "\n",
    "Модуль *datetime* содержит классы для работы с датой и временем. Эти классы предоставляют ряд функций для работы с датами, временем и временными интервалами. Дата и дата-время являются объектами в Python, поэтому, когда мы манипулируем ими, мы на самом деле манипулируете объектами, а не строками.\n",
    "\n",
    "Модуль DateTime подразделяется на 6 основных классов:\n",
    "\n",
    "- date — идеализированная наивная дата, предполагающая, что текущий григорианский календарь всегда был и всегда будет действовать. Его атрибутами являются год, месяц и день.\n",
    "\n",
    "- time — идеализированное время, не зависящее от какого-либо конкретного дня, при условии, что каждый день имеет ровно $24 \\times 60 \\times 60$ секунд. Его атрибутами являются часы, минуты, секунды, микросекунды и часовой пояс.\n",
    "\n",
    "- datetime — это комбинация даты и времени, а также атрибутов: год, месяц, день, час, минута, секунда, микросекунды и часовой пояс.\n",
    "\n",
    "- timedelta — продолжительность, выражающая разницу между двумя значениями даты, времени или даты-времени с разрешением в микросекундах.\n",
    "\n",
    "- tzinfo — предоставляет объекты с информацией о часовом поясе.\n",
    "\n",
    "- timezone — класс, который реализует абстрактный базовый класс tzinfo как фиксированное смещение от универсального времени Coordinated Universal Time UTC."
   ]
  },
  {
   "cell_type": "markdown",
   "metadata": {},
   "source": [
    "## 1. Класс *Date*\n",
    "\n",
    "Класс *date* используется для создания объектов даты в Python. Когда создается экземпляр объекта этого класса, он представляет дату в формате ГГГГ-ММ-ДД. Конструктору этого класса нужны три обязательных аргумента: год, месяц и день.\n",
    "\n",
    "Синтаксис конструктора\n",
    "```\n",
    "class datetime.date(year, month, day)\n",
    "```\n",
    "\n",
    "Аргументы должны быть в следующем диапазоне –\n",
    "\n",
    "- MINYEAR <= год <= MAXYEAR\n",
    "- 1 <= месяц <= 12\n",
    "- 1 <= день <= количество дней в данном месяце данного года\n",
    "\n",
    "Примечание. Если аргумент не является целым числом, он вызовет ошибку TypeError, а если он выходит за пределы диапазона, будет вызвана ошибка ValueError.\n",
    "\n",
    "<p style=\"font-size:125%\">Пример 1.1. Объект даты</p>"
   ]
  },
  {
   "cell_type": "code",
   "execution_count": 7,
   "metadata": {},
   "outputs": [
    {
     "name": "stdout",
     "output_type": "stream",
     "text": [
      "В конструктор передана следующая дата: 1996-10-31\n"
     ]
    }
   ],
   "source": [
    "# импорт класса date\n",
    "from datetime import date\n",
    "\n",
    "# инициализация конструкторая и передача аргументов\n",
    "my_date = date(1996, 10, 31)\n",
    "\n",
    "print(\"В конструктор передана следующая дата:\", my_date)\n",
    "\n",
    "# Если убрать комментарий\n",
    "# то будет исключение ValueError\n",
    "#date(1996, 12, 39)\n",
    "\n",
    "# Если убрать комментарий my_date = date('1996', 12, 11)\n",
    "# то будет ошибка TypeError\n",
    "#my_date = date('1996', 12, 11)"
   ]
  },
  {
   "cell_type": "markdown",
   "metadata": {},
   "source": [
    "<p style=\"font-size:125%\">Пример 1.2. Получить текущую дату</p>\n",
    "\n",
    "Для возврата текущей локальной даты используется функция `today()` класса date. Функция `today()` имеет несколько атрибутов (год, месяц и день). Их можно распечатать по отдельности."
   ]
  },
  {
   "cell_type": "code",
   "execution_count": 8,
   "metadata": {},
   "outputs": [
    {
     "name": "stdout",
     "output_type": "stream",
     "text": [
      "Сегодня 2022-10-31\n"
     ]
    }
   ],
   "source": [
    "from datetime import date\n",
    "\n",
    "# вызов функции today класса date\n",
    "today = date.today()\n",
    "\n",
    "print(\"Сегодня\", today)"
   ]
  },
  {
   "cell_type": "markdown",
   "metadata": {},
   "source": [
    "<p style=\"font-size:125%\">Пример 1.3. Получение текущего года, месяца и даты</p>\n",
    "\n",
    "Мы можем получить атрибуты года, месяца и даты из объекта даты, используя атрибут года, месяца и даты класса даты."
   ]
  },
  {
   "cell_type": "code",
   "execution_count": 9,
   "metadata": {},
   "outputs": [
    {
     "name": "stdout",
     "output_type": "stream",
     "text": [
      "Сейчас год: 2022\n",
      "Сейчас месяц: 10\n",
      "Сейчас день: 31\n"
     ]
    }
   ],
   "source": [
    "from datetime import date\n",
    "\n",
    "today = date.today()\n",
    "\n",
    "print(\"Сейчас год:\", today.year)\n",
    "print(\"Сейчас месяц:\", today.month)\n",
    "print(\"Сейчас день:\", today.day)"
   ]
  },
  {
   "cell_type": "code",
   "execution_count": 11,
   "metadata": {},
   "outputs": [
    {
     "data": {
      "text/plain": [
       "int"
      ]
     },
     "execution_count": 11,
     "metadata": {},
     "output_type": "execute_result"
    }
   ],
   "source": [
    "type(today.year)"
   ]
  },
  {
   "cell_type": "markdown",
   "metadata": {},
   "source": [
    "<p style=\"font-size:125%\">Пример 1.4. Получить дату из метки времени <i>timestamp</i></p>\n",
    "\n",
    "Мы можем создавать объекты даты из меток времени *timestamps*, а именно используя метод `fromtimestamp()`.  Метка времени *timestamp* — это число секунд, начиная с 1 января 1970 года по всемирному координированному времени."
   ]
  },
  {
   "cell_type": "code",
   "execution_count": 2,
   "metadata": {},
   "outputs": [
    {
     "name": "stdout",
     "output_type": "stream",
     "text": [
      "Дата и время, рассчитанное с помощью меток времени:\n",
      "2029-10-25 19:17:48\n"
     ]
    }
   ],
   "source": [
    "from datetime import datetime\n",
    "\n",
    "date_time = datetime.fromtimestamp(1887639468)\n",
    "print(\"Дата и время, рассчитанное с помощью меток времени:\", date_time, sep=\"\\n\")"
   ]
  },
  {
   "cell_type": "markdown",
   "metadata": {},
   "source": [
    "<p style=\"font-size:125%\">Пример 1.5. Преобразование даты в строку</p>\n",
    "\n",
    "Мы можем преобразовать объект даты в строковое представление, используя две функции `isoformat()` и `strftime()`."
   ]
  },
  {
   "cell_type": "code",
   "execution_count": 15,
   "metadata": {},
   "outputs": [
    {
     "name": "stdout",
     "output_type": "stream",
     "text": [
      "Строковое представление даты: 2022-10-31\n",
      "<class 'str'>\n"
     ]
    }
   ],
   "source": [
    "from datetime import date\n",
    "\n",
    "# Вызов функции today класса date\n",
    "today = date.today()\n",
    "\n",
    "# Преобразование даты в строку\n",
    "Str = date.isoformat(today)\n",
    "print(\"Строковое представление даты:\", Str)\n",
    "print(type(Str))"
   ]
  },
  {
   "cell_type": "markdown",
   "metadata": {},
   "source": [
    "### Список методов класса *Date*\n",
    "\n",
    "<html>\n",
    "<head>\n",
    "<style>\n",
    "#tal {text-align:left;}\n",
    "</style>\n",
    "</head>\n",
    "    \n",
    "<Table align=left>\n",
    "    <tr><th style=\"text-align:left\">Function Name</th>\n",
    "        <th style=\"text-align:left\">Description</th></tr>\n",
    "    <tr><td style=\"text-align:left\">ctime()</td>\n",
    "        <td style=\"text-align:left\">Returns a string representing the date</td></tr>\n",
    "    <tr><td style=\"text-align:left\">fromisocalendar()</td>\n",
    "        <td style=\"text-align:left\">Returns a date corresponding to the ISO calendar</td></tr>\n",
    "    <tr><td  style=\"text-align:left\">fromisoformat()</td>\n",
    "        <td style=\"text-align:left\">\n",
    "            Returns a date object from the string representation of the date</td></tr>\n",
    "    <tr><td style=\"text-align:left\">fromordinal()</td>\n",
    "        <td style=\"text-align:left\">Returns a date object from the proleptic Gregorian ordinal, where January 1 of year 1 has ordinal 1</td></tr>\n",
    "    <tr><td style=\"text-align:left\">fromtimestamp()</td>\n",
    "        <td style=\"text-align:left\">Returns a date object from the POSIX timestamp</td></tr>\n",
    "    <tr><td style=\"text-align:left\">isocalendar()</td>\n",
    "        <td style=\"text-align:left\">Returns a tuple year, week, and weekday</td></tr>\n",
    "    <tr><td style=\"text-align:left\">isoformat()</td>\n",
    "        <td style=\"text-align:left\">Returns the string representation of the date</td></tr>\n",
    "    <tr><td style=\"text-align:left\">isoweekday()</td>\n",
    "        <td style=\"text-align:left\">Returns the day of the week as integer where Monday is 1 and Sunday is 7</td></tr>\n",
    "    <tr><td style=\"text-align:left\">replace()</td>\n",
    "        <td style=\"text-align:left\">Changes the value of the date object with the given parameter</td></tr>\n",
    "    <tr><td style=\"text-align:left\">strftime()</td>\n",
    "        <td style=\"text-align:left\">Returns a string representation of the date with the given format</td></tr>\n",
    "    <tr><td style=\"text-align:left\">timetuple()</td>\n",
    "        <td style=\"text-align:left\">Returns an object of type time.struct_time</td></tr>\n",
    "    <tr><td style=\"text-align:left\">today()</td>\n",
    "        <td style=\"text-align:left\">Returns the current local date</td></tr>\n",
    "    <tr><td style=\"text-align:left\">toordinal()</td>\n",
    "        <td style=\"text-align:left\">Return the proleptic Gregorian ordinal of the date, where January 1 of year 1 has ordinal 1</td></tr>\n",
    "    <tr><td style=\"text-align:left\">weekday()</td>\n",
    "        <td style=\"text-align:left\">Returns the day of the week as integer where Monday is 0 and Sunday is 6</td></tr>\n",
    "</Table>\n",
    "</html>"
   ]
  },
  {
   "cell_type": "markdown",
   "metadata": {},
   "source": [
    "## 2. Класс *Time*"
   ]
  },
  {
   "cell_type": "markdown",
   "metadata": {},
   "source": [
    "Класс времени *time* создает объект времени, который представляет местное время, независимое от любого дня. Синтаксис конструктора:\n",
    "\n",
    "```\n",
    "class datetime.time(hour=0, minute=0, second=0, microsecond=0, tzinfo=None, *, fold=0)\n",
    "```\n",
    "\n",
    "Все аргументы являются необязательными, в противном случае все атрибуты должны быть целыми числами в следующем диапазоне:\n",
    "\n",
    "- 0 <= часы < 24\n",
    "- 0 <= минуты < 60\n",
    "- 0 <= секунды < 60\n",
    "- 0 <= микросекунды < 1000000\n",
    "- fold в интервале [0, 1]\n",
    "\n",
    "<p style=\"font-size:125%\">Пример 2.1.</u> Объект класса <i>time</i></p>"
   ]
  },
  {
   "cell_type": "code",
   "execution_count": 19,
   "metadata": {},
   "outputs": [
    {
     "name": "stdout",
     "output_type": "stream",
     "text": [
      "Введено время 13:24:56\n",
      "\n",
      "Время с одним аргументом 00:12:00\n",
      "\n",
      "Время без аргументов 00:00:00\n"
     ]
    }
   ],
   "source": [
    "from datetime import time\n",
    "\n",
    "# calling the constructor\n",
    "my_time = time(13, 24, 56)\n",
    "\n",
    "print(\"Введено время\", my_time)\n",
    "\n",
    "# Вызов конструктора с одним аргументом\n",
    "my_time = time(minute=12)\n",
    "print(\"\\nВремя с одним аргументом\", my_time)\n",
    "\n",
    "# Вызов конструктора без аргкментов\n",
    "my_time = time()\n",
    "print(\"\\nВремя без аргументов\", my_time)\n",
    "\n",
    "# Удаление комментария time(hour = 26)\n",
    "# вызовет исключение ValueError\n",
    "\n",
    "# удалние комментария time(hour ='23')\n",
    "# вызовет исключение TypeError"
   ]
  },
  {
   "cell_type": "markdown",
   "metadata": {},
   "source": [
    "<p style=\"font-size:125%\">Пример 2.2. Получение часов, минут, секунд и микросекунд</p>\n",
    "\n",
    "После создания объекта времени его атрибуты также можно распечатать отдельно."
   ]
  },
  {
   "cell_type": "code",
   "execution_count": 20,
   "metadata": {},
   "outputs": [
    {
     "name": "stdout",
     "output_type": "stream",
     "text": [
      "Часов = 11\n",
      "Минут = 34\n",
      "Секунд = 56\n",
      "Микросекунд = 0\n"
     ]
    }
   ],
   "source": [
    "from datetime import time\n",
    "\n",
    "Time = time(11, 34, 56)\n",
    "\n",
    "print(\"Часов =\", Time.hour)\n",
    "print(\"Минут =\", Time.minute)\n",
    "print(\"Секунд =\", Time.second)\n",
    "print(\"Микросекунд =\", Time.microsecond)"
   ]
  },
  {
   "cell_type": "markdown",
   "metadata": {},
   "source": [
    "<p style=\"font-size:125%\">Пример 2.3. Преобразование объекта времени в строку</p>\n",
    "\n",
    "Мы можем преобразовать объект времени *time* в строку, используя метод `isoformat()`."
   ]
  },
  {
   "cell_type": "code",
   "execution_count": 20,
   "metadata": {},
   "outputs": [
    {
     "name": "stdout",
     "output_type": "stream",
     "text": [
      "Строковое представление даты: 12:24:36.001212\n",
      "<class 'str'>\n"
     ]
    }
   ],
   "source": [
    "from datetime import time\n",
    "\n",
    "# Создание объекта времени\n",
    "Time = time(12,24,36,1212)\n",
    "\n",
    "# Превращение в строку\n",
    "Str = Time.isoformat()\n",
    "print(\"Строковое представление даты:\", Str)\n",
    "print(type(Str))"
   ]
  },
  {
   "cell_type": "markdown",
   "metadata": {},
   "source": [
    "### Перечень методов класса Time\n",
    "\n",
    "Function Name\tDescription\n",
    "- dst() Returns tzinfo.dst() is tzinfo is not None\n",
    "- fromisoformat() Returns a time object from the string representation of the time\n",
    "- isoformat()\tReturns the string representation of time from the time object\n",
    "- replace()\tChanges the value of the time object with the given parameter\n",
    "- strftime()\tReturns a string representation of the time with the given format\n",
    "- tzname()\tReturns tzinfo.tzname() is tzinfo is not None\n",
    "- utcoffset()\tReturns tzinfo.utcffsets() is tzinfo is not None"
   ]
  },
  {
   "cell_type": "markdown",
   "metadata": {},
   "source": [
    "## 3. Класс *Datetime*\n",
    "\n",
    "Класс DateTime содержит информацию как о дате, так и о времени. Подобно объекту даты, datetime предполагает текущий григорианский календарь, расширенный в обоих направлениях; как и объект времени, datetime предполагает, что в каждом дне ровно 3600*24 секунды.\n",
    "\n",
    "Синтаксис конструктора:\n",
    "\n",
    "```\n",
    "class datetime.datetime(year, month, day, hour=0, minute=0, second=0, microsecond=0, tzinfo=None, *, fold=0)\n",
    "```\n",
    "\n",
    "Аргументы года, месяца и дня являются обязательными. tzinfo может быть None, остальные атрибуты должны быть целыми числами в следующем диапазоне:\n",
    "\n",
    "- MINYEAR <= year <= MAXYEAR\n",
    "- 1 <= month <= 12\n",
    "- 1 <= day <= number of days in the given month and year\n",
    "- 0 <= hour < 24\n",
    "- 0 <= minute < 60\n",
    "- 0 <= second < 60\n",
    "- 0 <= microsecond < 1000000\n",
    "- fold in [0, 1]\n",
    "\n",
    "Примечание. Передача аргумента, отличного от целого, вызовет ошибку TypeError, а передача аргументов за пределами диапазона вызовет ошибку ValueError.\n",
    "\n",
    "<p style=\"font-size:125%\">Пример 3.1. Объект класса DateTime</p>"
   ]
  },
  {
   "cell_type": "code",
   "execution_count": 24,
   "metadata": {},
   "outputs": [
    {
     "name": "stdout",
     "output_type": "stream",
     "text": [
      "1999-12-12 00:00:00\n",
      "1999-12-12 12:12:12.342380\n"
     ]
    }
   ],
   "source": [
    "from datetime import datetime\n",
    "\n",
    "# Инициализация конструктора\n",
    "a = datetime(1999, 12, 12)\n",
    "print(a)\n",
    "\n",
    "# Передача также параметров времени\n",
    "a = datetime(1999, 12, 12, 12, 12, 12, 342380)\n",
    "print(a)"
   ]
  },
  {
   "cell_type": "markdown",
   "metadata": {},
   "source": [
    "<p style=\"font-size:125%\">Пример 3.2. Получение года, месяца, часа, минуты и метки времени.</p>\n",
    "\n",
    "После создания объекта DateTime его атрибуты также можно распечатать отдельно."
   ]
  },
  {
   "cell_type": "code",
   "execution_count": 25,
   "metadata": {},
   "outputs": [
    {
     "name": "stdout",
     "output_type": "stream",
     "text": [
      "год = 1999\n",
      "месяц = 12\n",
      "час = 12\n",
      "минута = 12\n",
      "timestamp = 944989932.0\n"
     ]
    }
   ],
   "source": [
    "from datetime import datetime\n",
    "\n",
    "a = datetime(1999, 12, 12, 12, 12, 12)\n",
    "\n",
    "print(\"год =\", a.year)\n",
    "print(\"месяц =\", a.month)\n",
    "print(\"час =\", a.hour)\n",
    "print(\"минута =\", a.minute)\n",
    "print(\"timestamp =\", a.timestamp())"
   ]
  },
  {
   "cell_type": "markdown",
   "metadata": {},
   "source": [
    "<p style=\"font-size:125%\">Пример 3.3. Текущая дата и время</p>\n",
    "\n",
    "Вы можете распечатать текущую дату и время, используя функцию `Datetime.now()`. Функция `now()` возвращает текущую локальную дату и время."
   ]
  },
  {
   "cell_type": "code",
   "execution_count": 25,
   "metadata": {},
   "outputs": [
    {
     "name": "stdout",
     "output_type": "stream",
     "text": [
      "Московское время 2022-10-31 15:07:30.380474\n"
     ]
    }
   ],
   "source": [
    "from datetime import datetime\n",
    "\n",
    "today = datetime.now()\n",
    "\n",
    "print(\"Московское время\", today)"
   ]
  },
  {
   "cell_type": "markdown",
   "metadata": {},
   "source": [
    "<p style=\"font-size:125%\">Пример 3.4. Преобразование даты и времени в строку</p>\n",
    "\n",
    "Мы можем преобразовать Datetime в строку в Python, используя методы `datetime.strftime` и `datetime.isoformat`."
   ]
  },
  {
   "cell_type": "code",
   "execution_count": 30,
   "metadata": {},
   "outputs": [
    {
     "name": "stdout",
     "output_type": "stream",
     "text": [
      "2022-10-31T11:17:23.014354\n",
      "<class 'str'>\n"
     ]
    }
   ],
   "source": [
    "from datetime import datetime as dt\n",
    "\n",
    "# Текущее значение даты и времени\n",
    "now = dt.now()\n",
    "\n",
    "String = dt.isoformat(now)\n",
    "print(String)\n",
    "print(type(String))"
   ]
  },
  {
   "cell_type": "markdown",
   "metadata": {},
   "source": [
    "### Список методов класса Datetime\n",
    "\n",
    "- Function Name\tDescription\n",
    "- astimezone()\tReturns the DateTime object containing timezone information.\n",
    "- combine()\tCombines the date and time objects and return a DateTime object\n",
    "- ctime()\tReturns a string representation of date and time\n",
    "- date()\tReturn the Date class object\n",
    "- fromisoformat()\tReturns a datetime object from the string representation of the date and time\n",
    "- fromordinal()\tReturns a date object from the proleptic Gregorian ordinal, where January 1 of year 1 - has ordinal 1. The hour, minute, second, and microsecond are 0\n",
    "- fromtimestamp()\tReturn date and time from POSIX timestamp\n",
    "- isocalendar()\tReturns a tuple year, week, and weekday\n",
    "- isoformat()\tReturn the string representation of date and time\n",
    "- isoweekday()\tReturns the day of the week as integer where Monday is 1 and Sunday is 7\n",
    "- now()\tReturns current local date and time with tz parameter\n",
    "- replace()\tChanges the specific attributes of the DateTime object\n",
    "- strftime()\tReturns a string representation of the DateTime object with the given format\n",
    "- strptime()\tReturns a DateTime object corresponding to the date string\n",
    "- time()\tReturn the Time class object\n",
    "- timetuple()\tReturns an object of type time.struct_time\n",
    "- timetz()\tReturn the Time class object\n",
    "- today()\tReturn local DateTime with tzinfo as None\n",
    "- toordinal()\tReturn the proleptic Gregorian ordinal of the date, where January 1 of year 1 has ordinal 1\n",
    "- tzname()\tReturns the name of the timezone\n",
    "- utcfromtimestamp()\tReturn UTC from POSIX timestamp\n",
    "- utcoffset()\tReturns the UTC offset\n",
    "- utcnow()\tReturn current UTC date and time\n",
    "- weekday()\tReturns the day of the week as integer where Monday is 0 and Sunday is 6"
   ]
  },
  {
   "cell_type": "markdown",
   "metadata": {},
   "source": [
    "## 4. Класс Timedelta\n",
    "\n",
    "Класс timedelta используется для вычисления разницы в датах, а также может использоваться для манипуляций с датами в Python. Это один из самых простых способов выполнения манипуляций с датами.\n",
    "\n",
    "Синтаксис конструктора:\n",
    "\n",
    "```\n",
    "class datetime.timedelta(days=0, seconds=0, microseconds=0, milliseconds=0, minutes=0, hours=0, weeks=0)\n",
    "Returns : Date \n",
    "```\n",
    "\n",
    "<p style=\"font-size:125%\">Пример 4.1. Добавление дней к объекту datetime</p>"
   ]
  },
  {
   "cell_type": "code",
   "execution_count": 26,
   "metadata": {},
   "outputs": [
    {
     "name": "stdout",
     "output_type": "stream",
     "text": [
      "Сегодня 2022-10-31 15:13:39.084981\n",
      "future_date_after_2yrs: 2024-10-30 15:13:39.084981\n",
      "future_date_after_2days: 2022-11-02 15:13:39.084981\n"
     ]
    }
   ],
   "source": [
    "from datetime import datetime, timedelta\n",
    "\n",
    "# Текущее время\n",
    "ini_time_for_now = datetime.now()\n",
    "print(\"Сегодня\", str(ini_time_for_now))\n",
    "\n",
    "# Вычисление даты в будущем, через два года\n",
    "future_date_after_2yrs = ini_time_for_now + timedelta(days=730)\n",
    "\n",
    "# Вычисление даты в будущем, через два дня\n",
    "future_date_after_2days = ini_time_for_now + timedelta(days=2)\n",
    "\n",
    "# Печать\n",
    "print('future_date_after_2yrs:', str(future_date_after_2yrs))\n",
    "print('future_date_after_2days:', str(future_date_after_2days))"
   ]
  },
  {
   "cell_type": "markdown",
   "metadata": {},
   "source": [
    "<p style=\"font-size:125%\">Пример 4.2. Разница между двумя значениями даты и времени</p>\n",
    "\n",
    "Разницу в дате и времени также можно найти с помощью этого класса."
   ]
  },
  {
   "cell_type": "code",
   "execution_count": 32,
   "metadata": {},
   "outputs": [
    {
     "name": "stdout",
     "output_type": "stream",
     "text": [
      "initial_date 2022-10-31 15:18:04.332902\n",
      "new_final_time 2022-11-02 15:18:04.332902\n",
      "Time difference: 2 days, 0:00:00\n"
     ]
    }
   ],
   "source": [
    "from datetime import datetime, timedelta\n",
    "\n",
    "# текущее время\n",
    "ini_time_for_now = datetime.now()\n",
    "\n",
    "# Начальная дата\n",
    "print(\"initial_date\", str(ini_time_for_now))\n",
    "\n",
    "# Другая дата\n",
    "new_final_time = ini_time_for_now + timedelta(days=2)\n",
    "\n",
    "# Печать\n",
    "print(\"new_final_time\", str(new_final_time))\n",
    "\n",
    "# Печать разницы в датах\n",
    "print('Time difference:', str(new_final_time - ini_time_for_now))"
   ]
  },
  {
   "cell_type": "markdown",
   "metadata": {},
   "source": [
    "Операции, поддерживаемые классом Timedelta\n",
    "\n",
    "- Operator\tDescription\n",
    "- Addition (+)\tAdds and returns two timedelta objects\n",
    "- Subtraction (-)\tSubtracts and returns two timedelta objects\n",
    "- Multiplication (*)\tMultiplies timedelta object with float or int \n",
    "- Division (/)\tDivides the timedelta object with float or int\n",
    "- Floor division (//)\tDivides the timedelta object with float or int and return the int of floor value of the output \n",
    "- Modulo (%)\tDivides two timedelta object and returns the remainder\n",
    "- +(timedelta)\tReturns the same timedelta object\n",
    "- -(timedelta)\tReturns the resultant of -1*timedelta\n",
    "- abs(timedelta)\tReturns the +(timedelta) if timedelta.days > 1=0 else returns -(timedelta)\n",
    "- str(timedelta)\tReturns a string in the form (+/-) day[s],  HH:MM:SS.UUUUUU\n",
    "- repr(timedelta)\tReturns the string representation in the form of the constructor call"
   ]
  },
  {
   "cell_type": "markdown",
   "metadata": {},
   "source": [
    "## 5. Форматирование даты и времени\n",
    "\n",
    "Форматирование даты и времени может быть очень необходимо, так как представление даты может отличаться от места к месту. Например, в некоторых странах это может быть гггг-мм-дд, а в другой стране это может быть дд-мм-гггг. Для форматирования Python Datetime можно использовать функции strptime и strftime.\n",
    "\n",
    "\n",
    "## 5.1. Метод *strftime()*\n",
    "\n",
    "Метод `strftime()` преобразует заданную дату, время или объект datetime в строковое представление заданного формата.\n",
    "\n",
    "<p style=\"font-size:125%\">Пример. Форматирование даты и времени</p>"
   ]
  },
  {
   "cell_type": "code",
   "execution_count": 35,
   "metadata": {},
   "outputs": [
    {
     "name": "stdout",
     "output_type": "stream",
     "text": [
      "Without formatting 2022-10-31 15:25:46.973319\n",
      "\n",
      "Example 1: Monday 10 2022\n",
      "\n",
      "Example 2: Mon 10 22\n",
      "\n",
      "Example 3: PM 03-25-46\n",
      "\n",
      "Example 4: 15:25:46\n"
     ]
    }
   ],
   "source": [
    "from datetime import datetime as dt\n",
    "\n",
    "# Getting current date and time\n",
    "now = dt.now()\n",
    "print(\"Without formatting\", now)\n",
    "\n",
    "# Example 1\n",
    "s = now.strftime(\"%A %m %Y\")\n",
    "print('\\nExample 1:', s)\n",
    "\n",
    "# Example 2\n",
    "s = now.strftime(\"%a %m %y\")\n",
    "print('\\nExample 2:', s)\n",
    "\n",
    "# Example 3\n",
    "s = now.strftime(\"%p %I-%M-%S\")\n",
    "print('\\nExample 3:', s)\n",
    "\n",
    "# Example 4\n",
    "s = now.strftime(\"%H:%M:%S\")\n",
    "print('\\nExample 4:', s)"
   ]
  },
  {
   "cell_type": "markdown",
   "metadata": {},
   "source": [
    "Более подробно\n",
    "https://www.geeksforgeeks.org/python-strftime-function/"
   ]
  },
  {
   "cell_type": "markdown",
   "metadata": {},
   "source": [
    "## 5.2. Метод *strptime()*\n",
    "\n",
    "strptime() создает объект datetime из заданной строки.\n",
    "\n",
    "<p style=\"font-size:125%\">Пример: DateTime strptime</p>"
   ]
  },
  {
   "cell_type": "code",
   "execution_count": 36,
   "metadata": {},
   "outputs": [
    {
     "name": "stdout",
     "output_type": "stream",
     "text": [
      "1999-05-25 02:35:08.023000\n",
      "1999-05-26 12:45:00.003000\n",
      "1999-05-27 07:35:05.523000\n",
      "1999-05-28 05:15:55.523000\n"
     ]
    }
   ],
   "source": [
    "# import datetime module from datetime\n",
    "from datetime import datetime\n",
    "\n",
    "# consider the time stamps from a list in string\n",
    "# format DD/MM/YY H:M:S.micros\n",
    "time_data = [\"25/05/99 02:35:8.023\", \"26/05/99 12:45:0.003\",\n",
    "             \"27/05/99 07:35:5.523\", \"28/05/99 05:15:55.523\"]\n",
    "\n",
    "# format the string in the given format : day/month/year\n",
    "# hours/minutes/seconds-micro seconds\n",
    "format_data = \"%d/%m/%y %H:%M:%S.%f\"\n",
    "\n",
    "# Using strptime with datetime we will format string\n",
    "# into datetime\n",
    "for i in time_data:\n",
    "    print(datetime.strptime(i, format_data))\n"
   ]
  },
  {
   "cell_type": "markdown",
   "metadata": {},
   "source": [
    "## 6. Обработка информации о часовом поясе\n",
    "\n",
    "Часовые пояса в DateTime можно использовать в том случае, если нужно отображать время в соответствии с часовым поясом определенного региона. Это можно сделать с помощью модуля <a href=\"https://www.geeksforgeeks.org/python-pytz/\">pytz</a> Python. Этот модуль выполняет функции преобразования даты и времени и помогает пользователям обслуживать международные клиентские базы."
   ]
  },
  {
   "cell_type": "code",
   "execution_count": 45,
   "metadata": {},
   "outputs": [
    {
     "name": "stdout",
     "output_type": "stream",
     "text": [
      "2022-10-31 08:36:47 UTC+0000\n",
      "2022-10-31 14:06:47 IST+0530\n",
      "2022-10-31 10:36:47 EET+0200\n",
      "2022-10-31 04:36:47 EDT-0400\n"
     ]
    }
   ],
   "source": [
    "from datetime import datetime\n",
    "from pytz import timezone\n",
    "\n",
    "format = \"%Y-%m-%d %H:%M:%S %Z%z\"\n",
    "\n",
    "# Current time in UTC\n",
    "now_utc = datetime.now(timezone('UTC'))\n",
    "print(now_utc.strftime(format))\n",
    "\n",
    "timezones = ['Asia/Kolkata', 'Europe/Kiev', 'America/New_York']\n",
    "\n",
    "for tzone in timezones:\n",
    "\n",
    "# Convert to Asia/Kolkata time zone\n",
    "    now_asia = now_utc.astimezone(timezone(tzone))\n",
    "    print(now_asia.strftime(format))\n"
   ]
  },
  {
   "cell_type": "markdown",
   "metadata": {},
   "source": [
    "## 7. Вычисление временного интервала в минутах\n",
    "\n",
    "Чтобы найти разницу между двумя датами в Python, можно использовать класс *timedelta*, который присутствует в библиотеке datetime. Класс *timedelta* хранит разницу между двумя объектами datetime.\n",
    "Чтобы найти разницу между двумя датами в виде минут, можно использовать атрибут секунды объекта timedelta, который можно разделить на 60 для преобразования в минуты.\n",
    "\n",
    "<p style=\"font-size:125%\">Пример</p>\n",
    "Следующая программа берет два объекта datetime и находит разницу между ними в минутах."
   ]
  },
  {
   "cell_type": "code",
   "execution_count": 2,
   "metadata": {},
   "outputs": [
    {
     "name": "stdout",
     "output_type": "stream",
     "text": [
      "Difference:  36 days, 0:04:20\n",
      "Total difference in minutes:  51844.333333333336\n",
      "Difference in minutes:  4.333333333333333\n"
     ]
    }
   ],
   "source": [
    "import datetime\n",
    "\n",
    "# datetime(year, month, day, hour, minute, second)\n",
    "a = datetime.datetime(2017, 6, 21, 18, 25, 30)\n",
    "b = datetime.datetime(2017, 5, 16, 18, 21, 10)\n",
    "\n",
    "# returns a timedelta object\n",
    "c = a-b\n",
    "print('Difference: ', c)\n",
    "\n",
    "minutes = c.total_seconds() / 60\n",
    "print('Total difference in minutes: ', minutes)\n",
    "\n",
    "# returns the difference of the time of the day\n",
    "minutes = c.seconds / 60\n",
    "print('Difference in minutes: ', minutes)"
   ]
  }
 ],
 "metadata": {
  "kernelspec": {
   "display_name": "Python 3 (ipykernel)",
   "language": "python",
   "name": "python3"
  },
  "language_info": {
   "codemirror_mode": {
    "name": "ipython",
    "version": 3
   },
   "file_extension": ".py",
   "mimetype": "text/x-python",
   "name": "python",
   "nbconvert_exporter": "python",
   "pygments_lexer": "ipython3",
   "version": "3.11.4"
  },
  "toc": {
   "base_numbering": 1,
   "nav_menu": {},
   "number_sections": true,
   "sideBar": true,
   "skip_h1_title": false,
   "title_cell": "Table of Contents",
   "title_sidebar": "Contents",
   "toc_cell": true,
   "toc_position": {},
   "toc_section_display": true,
   "toc_window_display": false
  },
  "varInspector": {
   "cols": {
    "lenName": 16,
    "lenType": 16,
    "lenVar": 40
   },
   "kernels_config": {
    "python": {
     "delete_cmd_postfix": "",
     "delete_cmd_prefix": "del ",
     "library": "var_list.py",
     "varRefreshCmd": "print(var_dic_list())"
    },
    "r": {
     "delete_cmd_postfix": ") ",
     "delete_cmd_prefix": "rm(",
     "library": "var_list.r",
     "varRefreshCmd": "cat(var_dic_list()) "
    }
   },
   "types_to_exclude": [
    "module",
    "function",
    "builtin_function_or_method",
    "instance",
    "_Feature"
   ],
   "window_display": false
  }
 },
 "nbformat": 4,
 "nbformat_minor": 4
}
