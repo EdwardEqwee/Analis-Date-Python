{
 "cells": [
  {
   "cell_type": "markdown",
   "metadata": {
    "toc": true
   },
   "source": [
    "<h1>Table of Contents<span class=\"tocSkip\"></span></h1>\n",
    "<div class=\"toc\"><ul class=\"toc-item\"><li><span><a href=\"#-Homework-2-(Topics-5-7:-Groupby,-Merge,-Visualization)\" data-toc-modified-id=\"-Homework-2-(Topics-5-7:-Groupby,-Merge,-Visualization)-1\"><span class=\"toc-item-num\">1&nbsp;&nbsp;</span><center> Homework 2 (Topics 5-7: Groupby, Merge, Visualization)</center></a></span><ul class=\"toc-item\"><li><ul class=\"toc-item\"><li><ul class=\"toc-item\"><li><span><a href=\"#Task-0.\" data-toc-modified-id=\"Task-0.-1.0.0.1\"><span class=\"toc-item-num\">1.0.0.1&nbsp;&nbsp;</span>Task 0.</a></span></li><li><span><a href=\"#Task-1.\" data-toc-modified-id=\"Task-1.-1.0.0.2\"><span class=\"toc-item-num\">1.0.0.2&nbsp;&nbsp;</span>Task 1.</a></span></li><li><span><a href=\"#Task-2:\" data-toc-modified-id=\"Task-2:-1.0.0.3\"><span class=\"toc-item-num\">1.0.0.3&nbsp;&nbsp;</span>Task 2:</a></span></li><li><span><a href=\"#Task-3:\" data-toc-modified-id=\"Task-3:-1.0.0.4\"><span class=\"toc-item-num\">1.0.0.4&nbsp;&nbsp;</span>Task 3:</a></span></li><li><span><a href=\"#Task-4:\" data-toc-modified-id=\"Task-4:-1.0.0.5\"><span class=\"toc-item-num\">1.0.0.5&nbsp;&nbsp;</span>Task 4:</a></span></li><li><span><a href=\"#Task-5:\" data-toc-modified-id=\"Task-5:-1.0.0.6\"><span class=\"toc-item-num\">1.0.0.6&nbsp;&nbsp;</span>Task 5:</a></span></li><li><span><a href=\"#Вопросы:\" data-toc-modified-id=\"Вопросы:-1.0.0.7\"><span class=\"toc-item-num\">1.0.0.7&nbsp;&nbsp;</span>Вопросы:</a></span></li><li><span><a href=\"#Task-6:\" data-toc-modified-id=\"Task-6:-1.0.0.8\"><span class=\"toc-item-num\">1.0.0.8&nbsp;&nbsp;</span>Task 6:</a></span></li><li><span><a href=\"#Вопросы:\" data-toc-modified-id=\"Вопросы:-1.0.0.9\"><span class=\"toc-item-num\">1.0.0.9&nbsp;&nbsp;</span>Вопросы:</a></span></li></ul></li></ul></li></ul></li></ul></div>"
   ]
  },
  {
   "cell_type": "markdown",
   "metadata": {},
   "source": [
    "# <center> Homework 2 (Topics 5-7: Groupby, Merge, Visualization)"
   ]
  },
  {
   "cell_type": "code",
   "execution_count": 5,
   "metadata": {
    "ExecuteTime": {
     "end_time": "2020-04-23T10:26:06.303166Z",
     "start_time": "2020-04-23T10:26:05.458848Z"
    }
   },
   "outputs": [],
   "source": [
    "import pandas as pd\n",
    "import numpy as np\n",
    "\n",
    "import matplotlib.pyplot as plt\n",
    "import seaborn as sns\n",
    "%matplotlib inline"
   ]
  },
  {
   "cell_type": "markdown",
   "metadata": {},
   "source": [
    "Ещё раз (как и в задании 1) считайте в переменные tr_mcc_codes, tr_types, transactions и customers_gender_train. В transactions опять считайте только первые 1000000 строк."
   ]
  },
  {
   "cell_type": "code",
   "execution_count": 6,
   "metadata": {
    "ExecuteTime": {
     "end_time": "2020-04-23T10:26:18.234475Z",
     "start_time": "2020-04-23T10:26:18.232003Z"
    }
   },
   "outputs": [],
   "source": [
    "### Type your code here\n",
    "\n",
    "tr_mcc_codes = pd.read_csv('C:/Users/cated/OneDrive/Документы/transact/tr_mcc_codes.csv', sep=';', encoding = 'utf-8')\n",
    "tr_types = pd.read_csv('C:/Users/cated/OneDrive/Документы/transact/tr_types.csv', sep=';', encoding = 'utf-8')\n",
    "transactions = pd.read_csv('C:/Users/cated/OneDrive/Документы/transact/transactions.csv', sep=',', nrows=1000000, encoding = 'utf-8')\n",
    "customers_gender_train = pd.read_csv('C:/Users/cated/OneDrive/Документы/transact/gender_train.csv', sep=',', encoding = 'utf-8')"
   ]
  },
  {
   "cell_type": "markdown",
   "metadata": {},
   "source": [
    "#### Task 0.\n",
    "Соедините transactions с всеми остальными таблицами (tr_mcc_codes, tr_types, gender_train). Причём с customers_gender_train необходимо смёрджиться с помощью left join, а с оставшимися датафреймами - через inner.\n",
    "После получения результата таблицы gender_train, tr_types, tr_mcc_codes можно удалить. В результате соединения датафреймов должно получиться 999584 строки."
   ]
  },
  {
   "cell_type": "code",
   "execution_count": 23,
   "metadata": {
    "ExecuteTime": {
     "end_time": "2020-04-23T10:26:27.618399Z",
     "start_time": "2020-04-23T10:26:27.615930Z"
    }
   },
   "outputs": [
    {
     "name": "stdout",
     "output_type": "stream",
     "text": [
      "Index(['customer_id', 'tr_datetime', 'mcc_code', 'tr_type', 'amount',\n",
      "       'term_id'],\n",
      "      dtype='object')\n",
      "После соединения с  transactions и tr_mcc_codes : 1000000\n",
      "После соединения с transactions и tr_types: 999584\n",
      "После соединения с transactions и customers_gender_train: 999584\n",
      "Результат соединения:\n",
      "   customer_id  tr_datetime  mcc_code  tr_type   amount term_id  \\\n",
      "0     39026145   0 10:23:26      4814     1030 -2245.92     NaN   \n",
      "1     39026145   6 07:08:31      4814     1030 -5614.79     NaN   \n",
      "2     39026145   8 07:06:10      4814     1030 -1122.96     NaN   \n",
      "3     39026145  11 08:49:03      4814     1030 -2245.92     NaN   \n",
      "4     39026145  11 14:12:08      4814     1030 -2245.92     NaN   \n",
      "\n",
      "                                     mcc_description  \\\n",
      "0  Звонки с использованием телефонов, считывающих...   \n",
      "1  Звонки с использованием телефонов, считывающих...   \n",
      "2  Звонки с использованием телефонов, считывающих...   \n",
      "3  Звонки с использованием телефонов, считывающих...   \n",
      "4  Звонки с использованием телефонов, считывающих...   \n",
      "\n",
      "                   tr_description  gender  \n",
      "0  Оплата услуги. Банкоматы СБ РФ     1.0  \n",
      "1  Оплата услуги. Банкоматы СБ РФ     1.0  \n",
      "2  Оплата услуги. Банкоматы СБ РФ     1.0  \n",
      "3  Оплата услуги. Банкоматы СБ РФ     1.0  \n",
      "4  Оплата услуги. Банкоматы СБ РФ     1.0  \n"
     ]
    }
   ],
   "source": [
    "### Type your code here\n",
    "\n",
    "# Выведем информацию о столбцах transactions, чтобы убедиться в наличии столбца 'mcc_code'\n",
    "print(transactions.columns)\n",
    "\n",
    "# Соединение с tr_mcc_codes и удаление дубликатов\n",
    "tran = pd.merge(transactions, tr_mcc_codes, how='inner', on='mcc_code')\n",
    "\n",
    "# Выведем количество строк после каждого этапа\n",
    "print(\"После соединения с  transactions и tr_mcc_codes :\", tran.shape[0])\n",
    "\n",
    "# Соединение с tr_types и удаление дубликатов\n",
    "tran1 = pd.merge(tran, tr_types, how='inner', on='tr_type')\n",
    "\n",
    "# Выведем количество строк после каждого этапа\n",
    "print(\"После соединения с transactions и tr_types:\", tran1.shape[0])\n",
    "\n",
    "# Соединение с customers_gender_train через left join (если у вас есть customers_gender_train)\n",
    "tran2 = pd.merge(tran1, customers_gender_train, how='left', on='customer_id')\n",
    "\n",
    "print(\"После соединения с transactions и customers_gender_train:\", tran2.shape[0])\n",
    "\n",
    "\n",
    "\n",
    "# Проверка, что количество строк равно 999584\n",
    "assert tran2.shape[0] == 999584\n",
    "\n",
    "# Вывод результата\n",
    "print(\"Результат соединения:\")\n",
    "print(tran2.head())\n",
    "global tran2"
   ]
  },
  {
   "cell_type": "markdown",
   "metadata": {},
   "source": [
    "#### Task 1.\n",
    "1. Определите модуль разницы между средними тратами женщин и мужчин (трата - отрицательное значение amount). (*)\n",
    "\n",
    "Выведите ответ в виде вещественного числа, округлённого до двух знаков после запятой, отделив дробную часть точкой в формате \"123.45\"\n",
    "\n",
    "##### Пояснения:\n",
    "(\\*) Если в результате для мужчин получились значения [-1,-3,-5], а для женщин [-1,-2,-3],  \n",
    "то модуль разницы между средними арифметическими -3 и -2 будет равен 1.\n",
    "\n",
    "(\\**) Обратите внимание, что для вычисления модуля разности точных знаний о том,  \n",
    "какой класc относится к мужчинам, а какой - к женщинам, пока не требуется.\n",
    "\n",
    "(\\***) Округление не нужно производить отдельно по средним тратам женщин и мужчин, а только в самом конце, когда получите значение модуля разницы трат."
   ]
  },
  {
   "cell_type": "code",
   "execution_count": 21,
   "metadata": {
    "ExecuteTime": {
     "end_time": "2020-04-23T10:35:27.760136Z",
     "start_time": "2020-04-23T10:35:27.757599Z"
    }
   },
   "outputs": [
    {
     "name": "stdout",
     "output_type": "stream",
     "text": [
      "2633.02\n"
     ]
    }
   ],
   "source": [
    "### print(tran2.head())\n",
    "\n",
    "\n",
    "male_data = tran2[tran2['gender'] == 1.0]\n",
    "\n",
    "female_data = tran2[tran2['gender'] == 0.0]\n",
    "\n",
    "# Вычисление средних трат для мужчин и женщин\n",
    "average_amount_male = male_data['amount'].mean()\n",
    "average_amount_female = female_data['amount'].mean()\n",
    "\n",
    "# Вычисление модуля разницы\n",
    "difference = abs(average_amount_male - average_amount_female)\n",
    "\n",
    "# Вывод результата с округлением до двух знаков после запятой\n",
    "result = '{:.2f}'.format(difference)\n",
    "print(result)"
   ]
  },
  {
   "cell_type": "markdown",
   "metadata": {},
   "source": [
    "#### Task 2:\n",
    "1. Создайте новый столбец - mcc_code+tr_type, сконкатенировав значения из соответствующих столбцов. (\\*)\n",
    "2. Оставьте только наблюдения с отрицательным значением amount. Посчитайте дисперсию по категориям получившегося столбца mcc_code+tr_type, в которых количество наблюдений >= 10. \n",
    "3. Определите отношение максимальной дисперсии к минимальной.\n",
    "\n",
    "Выведите ответ в виде вещественного числа, округлённого до ближайшего целого в формате \"123456\" без дробной части.\n",
    "\n",
    "##### Пояснения:\n",
    "(\\*) Для конкатенации значений в столбцах можно использовать метод .astype(str) для серии и складывать соответствующие серии. Либо же применять apply к строкам датафрейма, прописывая логику преобразования и конкатенации значений внутри.\n",
    "\n",
    "(\\**) Для одновременного подсчета количества наблюдений и дисперсии по категориям можно воспользоваться функцией .agg()"
   ]
  },
  {
   "cell_type": "code",
   "execution_count": 26,
   "metadata": {
    "ExecuteTime": {
     "end_time": "2020-04-23T10:35:39.478241Z",
     "start_time": "2020-04-23T10:35:39.475846Z"
    }
   },
   "outputs": [
    {
     "name": "stdout",
     "output_type": "stream",
     "text": [
      "9170599\n"
     ]
    }
   ],
   "source": [
    "### Type your code here\n",
    "\n",
    "\n",
    "# Создание нового столбца mcc_code+tr_type\n",
    "tran2['mcc_tr_type'] = tran2['mcc_code'].astype(str) + tran2['tr_type'].astype(str)\n",
    "\n",
    "# Фильтрация данных по отрицательным значениям amount\n",
    "negative_amount_data = tran2[tran2['amount'] < 0]\n",
    "\n",
    "# Группировка по mcc_tr_type и вычисление дисперсии и количества наблюдений\n",
    "result = negative_amount_data.groupby('mcc_tr_type')['amount'].agg(['var', 'count'])\n",
    "\n",
    "# Фильтрация по количеству наблюдений >= 10\n",
    "result = result[result['count'] >= 10]\n",
    "\n",
    "# Вычисление отношения максимальной дисперсии к минимальной\n",
    "ratio = result['var'].max() / result['var'].min()\n",
    "\n",
    "# Вывод результата без дробной части и округленного до ближайшего целого\n",
    "result_integer = round(ratio)\n",
    "print(result_integer)"
   ]
  },
  {
   "cell_type": "markdown",
   "metadata": {},
   "source": [
    "#### Task 3:\n",
    "1. По всем типам транзакций рассчитайте максимальную сумму прихода на карту (из строго положительных сумм по столбцу amount) отдельно для мужчин и женщин (назовите ее \"max_income\"). Оставьте по 5 транзакций для мужчин и для женщин, наименьших среди всех транзакций по полученным значениям \"max_income\". (\\*)\n",
    "2. Выделите среди них те, которые встречаются одновременно и у мужчин, и у женщин:\n",
    "    - 1) Покупка. POS ТУ СБ РФ\t\n",
    "    - 2) Списание после проведения претензионной работы\t\n",
    "    - 3) Плата за получение наличных. Россия\t\n",
    "    - 4) Перевод на карту/ с карты через АТМ (со взиманием комиссии с отправителя) по счету в овердрафте\t\n",
    "    - 5) Плата за получение наличных в АТМ. Россия\t \n",
    "    - 6) Наличные. Зарубеж. банк\t\n",
    "    - 7) Возврат покупки. POS ТУ Россия\n",
    "\n",
    "##### Пояснения:\n",
    "(\\*) Если максимальные суммы приходов по каким-то типам были равны [1,2,3,4,5,6,7,8], то 5 минимальных из них: [1,2,3,4,5]"
   ]
  },
  {
   "cell_type": "code",
   "execution_count": 29,
   "metadata": {
    "ExecuteTime": {
     "end_time": "2020-04-23T10:36:36.494729Z",
     "start_time": "2020-04-23T10:36:36.492051Z"
    },
    "scrolled": false
   },
   "outputs": [
    {
     "name": "stdout",
     "output_type": "stream",
     "text": [
      "\n",
      "Топ 5 минимальных сумм приходов у мужчин:\n",
      "                                                                       tr_description       amount\n",
      "Перевод на карту (с карты) через Мобильный банк (без взимания комиссии с отправителя) 145984525.17\n",
      "                                                             Взнос наличных через POS  21336199.83\n",
      " Перевод на карту (с карты) через Мобильный банк (с взиманием комиссии с отправителя)  11117283.07\n",
      "                                         Взнос наличных через АТМ (в своем тер.банке)   9769733.61\n",
      "                          Взнос наличных через POS (в своем ТБ) по счету в овердрафте   9657437.82\n",
      "\n",
      "\n",
      "Топ 5 минимальных сумм приходов у женщин:\n",
      "                                                                       tr_description      amount\n",
      "Перевод на карту (с карты) через Мобильный банк (без взимания комиссии с отправителя) 67377473.16\n",
      "                                                             Взнос наличных через POS 22459157.72\n",
      " Перевод на карту (с карты) через Мобильный банк (с взиманием комиссии с отправителя) 11229578.86\n",
      "                                         Взнос наличных через АТМ (в своем тер.банке)  8983663.09\n",
      "   Перевод с карты на карту в овердрафте через Мобильный банк (без взимания комиссии)  6737747.32\n",
      "\n",
      "\n",
      "Транзакции, которые встречаются у мужчин и у женщин:\n",
      "                                                                       tr_description     amount_x    amount_y\n",
      "Перевод на карту (с карты) через Мобильный банк (без взимания комиссии с отправителя) 145984525.17 67377473.16\n",
      "                                                             Взнос наличных через POS  21336199.83 22459157.72\n",
      " Перевод на карту (с карты) через Мобильный банк (с взиманием комиссии с отправителя)  11117283.07 11229578.86\n",
      "                                         Взнос наличных через АТМ (в своем тер.банке)   9769733.61  8983663.09\n"
     ]
    }
   ],
   "source": [
    "### Type your code here\n",
    "\n",
    "# Рассчитываем максимальные суммы приходов для каждого типа транзакции и пола\n",
    "max_income_data = tran2[tran2['amount'] > 0].groupby(['tr_description', 'gender'])['amount'].max().reset_index()\n",
    "\n",
    "# Сортируем данные по убыванию и выбираем по 5 минимальных для каждого пола\n",
    "top_5_min_male = max_income_data[max_income_data['gender'] == 1.0].nlargest(5, 'amount')\n",
    "top_5_min_female = max_income_data[max_income_data['gender'] == 0.0].nlargest(5, 'amount')\n",
    "\n",
    "# Выделяем транзакции, которые встречаются одновременно у мужчин и женщин\n",
    "common_transactions = pd.merge(top_5_min_male, top_5_min_female, on='tr_description', how='inner')\n",
    "\n",
    "# Форматированный вывод результатов\n",
    "print(\"\\nТоп 5 минимальных сумм приходов у мужчин:\")\n",
    "print(top_5_min_male[['tr_description', 'amount']].to_string(index=False))\n",
    "\n",
    "print(\"\\n\\nТоп 5 минимальных сумм приходов у женщин:\")\n",
    "print(top_5_min_female[['tr_description', 'amount']].to_string(index=False))\n",
    "\n",
    "print(\"\\n\\nТранзакции, которые встречаются у мужчин и у женщин:\")\n",
    "print(common_transactions[['tr_description', 'amount_x', 'amount_y']].to_string(index=False))"
   ]
  },
  {
   "cell_type": "markdown",
   "metadata": {},
   "source": [
    "#### Task 4:\n",
    "1. Выделите из поля tr_datetime относительный день tr_day (первое число до точного времени). (\\*)\n",
    "2. Отфильтруйте строки таким образом, чтобы оставить только те транзакции, у которых в соответствующий относительный день tr_day количество уникальных MCC кодов при транзакциях было больше 75 (можно воспользоваться функцией nunique())\n",
    "3. Сгруппируйте полученный отфильтрованный датафрейм по MCC коду и полу, после чего, пронализировав результат, выберите верные варианты ответов ниже (\\**): \n",
    "    - 1) gender == 0 - женщины, gender == 1 - мужчины\n",
    "    - 2) gender == 1 - женщины, gender == 0 - мужчины\n",
    "    - 3) Абсолютное значение медианы с типом \"Флористика\" (расходов/приходов) у мужчин выше той же медианы у женщин\n",
    "    - 4) Абсолютное значение медианы женских трат (расходов/приходов) на ценные бумаги выше мужских\n",
    "    - 5) Абсолютное значение медианы женских трат (расходов/приходов) в категории \"Бары, коктейль-бары, дискотеки, ночные клубы и таверны — места продажи алкогольных напитков\" ниже мужских\n",
    "    \n",
    "##### Пояснения:\n",
    "(\\*) Для того, чтобы выделить всё, что стоит до первого пробела, можо использовать строковые методы для датафрейма - .str.split(), например. Либо же реализовывать логику выделения подстроки с помощью метода apply. <br>\n",
    "(\\**) Понять, какой класс к какому типу транзакций (мужские/женские) относится можно, если поизучать типичные для мужчин/женщин категории и сравнить средние/медианы расходов и/или приходов в них."
   ]
  },
  {
   "cell_type": "code",
   "execution_count": 37,
   "metadata": {
    "ExecuteTime": {
     "end_time": "2020-04-23T10:38:02.450820Z",
     "start_time": "2020-04-23T10:38:02.448354Z"
    }
   },
   "outputs": [
    {
     "name": "stdout",
     "output_type": "stream",
     "text": [
      "\n",
      "Утверждение 1: gender == 0 - женщины, gender == 1 - мужчины: False\n",
      "\n",
      "Утверждение 2: gender == 1 - мужчины, gender == 0 - женщины: False\n",
      "\n",
      "Утверждение 3: Абсолютное значение медианы с типом 'Флористика' у мужчин выше той же медианы у женщин: False\n",
      "\n",
      "Утверждение 4: Абсолютное значение медианы женских трат на ценные бумаги выше мужских: False\n",
      "\n",
      "Утверждение 5: Абсолютное значение медианы женских трат в категории 'Бары, коктейль-бары, дискотеки, ночные клубы и таверны' ниже мужских: False\n"
     ]
    }
   ],
   "source": [
    "def check_statement(statement, description):\n",
    "    try:\n",
    "        result = statement\n",
    "        print(f\"\\n{description}:\", result)\n",
    "    except IndexError:\n",
    "        print(f\"\\n{description}:\", \"Нет данных для данного утверждения.\")\n",
    "\n",
    "        \n",
    "\n",
    "# Шаг 1: Выделение относительного дня\n",
    "tran2['tr_day'] = tran2['tr_datetime'].str.split(' ', expand=True)[0]\n",
    "\n",
    "# Шаг 2: Отфильтровать транзакции с более чем 75 уникальными MCC кодами в определенный день\n",
    "filtered_data = tran2.groupby(['tr_day', 'gender']).filter(lambda x: x['mcc_code'].nunique() > 75)\n",
    "\n",
    "# Шаг 3: Группировка данных по MCC коду и полу\n",
    "grouped_data = filtered_data.groupby(['mcc_code', 'gender'])['amount'].median().reset_index()\n",
    "\n",
    "# Вывод уникальных MCC кодов\n",
    "unique_mcc_codes = grouped_data['mcc_code'].unique()\n",
    "\n",
    "# Проверка утверждений\n",
    "\n",
    "\n",
    "check_statement(\n",
    "    (grouped_data['gender'] == 0.0).all() and (grouped_data['gender'].nunique() == 1),\n",
    "    \"Утверждение 1: gender == 0 - женщины, gender == 1 - мужчины\"\n",
    ")\n",
    "\n",
    "check_statement(\n",
    "    (grouped_data['gender'] == 1.0).all() and (grouped_data['gender'].nunique() == 1),\n",
    "    \"Утверждение 2: gender == 1 - мужчины, gender == 0 - женщины\"\n",
    ")\n",
    "\n",
    "check_statement(\n",
    "    grouped_data[grouped_data['mcc_code'] == 'Флористика']['amount'].abs().median() > grouped_data[grouped_data['mcc_code'] == 'Флористика']['amount'].abs().median(),\n",
    "    \"Утверждение 3: Абсолютное значение медианы с типом 'Флористика' у мужчин выше той же медианы у женщин\"\n",
    ")\n",
    "\n",
    "check_statement(\n",
    "    grouped_data[grouped_data['mcc_code'] == 'Ценные бумаги']['amount'].abs().median() < grouped_data[grouped_data['mcc_code'] == 'Ценные бумаги']['amount'].abs().median(),\n",
    "    \"Утверждение 4: Абсолютное значение медианы женских трат на ценные бумаги выше мужских\"\n",
    ")\n",
    "\n",
    "check_statement(\n",
    "    grouped_data[grouped_data['mcc_code'] == 'Бары, коктейль-бары, дискотеки, ночные клубы и таверны — места продажи алкогольных напитков']['amount'].abs().median() < grouped_data[grouped_data['mcc_code'] == 'Бары, коктейль-бары, дискотеки, ночные клубы и таверны — места продажи алкогольных напитков']['amount'].abs().median(),\n",
    "    \"Утверждение 5: Абсолютное значение медианы женских трат в категории 'Бары, коктейль-бары, дискотеки, ночные клубы и таверны' ниже мужских\"\n",
    ")\n"
   ]
  },
  {
   "cell_type": "markdown",
   "metadata": {},
   "source": [
    "#### Task 5:\n",
    "1. Разбейте расходы (отрицательные значения сумм) на 5 бакетов amount_bucket равного объёма (с помощью pd.qcut), разбив все траты на категории 'Very High', 'High', 'Middle', 'Low', 'Very Low'. (\\*)\n",
    "2. Оставшиеся неотрицательные траты отнесите к категории 'Income'.\n",
    "(воспользуйтесь функцией .cat.add_categories('Income') для того, чтобы добавить новую категорию 'Income' к категориям 'Very High', 'High', 'Middle', 'Low', 'Very Low', а затем заполните пустые значения новой категорией).\n",
    "3. Из поля tr_datetime выделите час tr_hour, в который произошла транзакция, как первые 2 цифры до \":\". (\\**)\n",
    "3. После этого постройте сводную таблицу, значениями в которой является пол gender, индексы - tr_hour, столбцы - amount_bucket.\n",
    "4. Отрисуйте полученные результаты, передав их в функцию plot_pivot_table, расположенную ниже.\n",
    "5. Выберите верные ответы на вопросы ниже.\n",
    "\n",
    "#### Вопросы:\n",
    "    - 1) Ночные поступления денег (01-05 часов) в более чем 85% случаев являются мужскими.\n",
    "    - 2) Посмотрев на долю мужчин в поступлениях средств (Income), можно сделать вывод, что количество поступлений средств женщинам в целом больше, чем мужчинам.\n",
    "    - 3) Самые низкие траты в 3 часа ночи осуществляются в более 70% случаев женщинами.\n",
    "    - 4) Существуют особые часы в мелких тратах, когда женщины тратят намного больше мужчин (>80%)\n",
    "    - 5) Посмотрев на долю мужчин в максимальных тратах средств (Very High), можно сделать вывод, что количество высоких трат в каждый возможный час мужчин больше, чем у женщин.\n",
    "\n",
    "##### Пояснения:\n",
    "(\\*) Обратите внимание, что в категории Very High Должны оказаться максимальные по модулю отрицательные транзакции. <br>\n",
    "(\\**) Например, для строки \"0 10:23:26\" час будет равен 10, а для строки \"6 07:08:31\"- 07. Можно воспользоваться функциями str.split() или str.find() и \n",
    "функцией .apply(lambda x: x[])"
   ]
  },
  {
   "cell_type": "code",
   "execution_count": 41,
   "metadata": {},
   "outputs": [
    {
     "ename": "KeyError",
     "evalue": "'amount_bucket'",
     "output_type": "error",
     "traceback": [
      "\u001b[1;31m---------------------------------------------------------------------------\u001b[0m",
      "\u001b[1;31mKeyError\u001b[0m                                  Traceback (most recent call last)",
      "File \u001b[1;32mC:\\ProgramData\\anaconda3\\Lib\\site-packages\\pandas\\core\\indexes\\base.py:3802\u001b[0m, in \u001b[0;36mIndex.get_loc\u001b[1;34m(self, key, method, tolerance)\u001b[0m\n\u001b[0;32m   3801\u001b[0m \u001b[38;5;28;01mtry\u001b[39;00m:\n\u001b[1;32m-> 3802\u001b[0m     \u001b[38;5;28;01mreturn\u001b[39;00m \u001b[38;5;28mself\u001b[39m\u001b[38;5;241m.\u001b[39m_engine\u001b[38;5;241m.\u001b[39mget_loc(casted_key)\n\u001b[0;32m   3803\u001b[0m \u001b[38;5;28;01mexcept\u001b[39;00m \u001b[38;5;167;01mKeyError\u001b[39;00m \u001b[38;5;28;01mas\u001b[39;00m err:\n",
      "File \u001b[1;32mC:\\ProgramData\\anaconda3\\Lib\\site-packages\\pandas\\_libs\\index.pyx:138\u001b[0m, in \u001b[0;36mpandas._libs.index.IndexEngine.get_loc\u001b[1;34m()\u001b[0m\n",
      "File \u001b[1;32mC:\\ProgramData\\anaconda3\\Lib\\site-packages\\pandas\\_libs\\index.pyx:165\u001b[0m, in \u001b[0;36mpandas._libs.index.IndexEngine.get_loc\u001b[1;34m()\u001b[0m\n",
      "File \u001b[1;32mpandas\\_libs\\hashtable_class_helper.pxi:5745\u001b[0m, in \u001b[0;36mpandas._libs.hashtable.PyObjectHashTable.get_item\u001b[1;34m()\u001b[0m\n",
      "File \u001b[1;32mpandas\\_libs\\hashtable_class_helper.pxi:5753\u001b[0m, in \u001b[0;36mpandas._libs.hashtable.PyObjectHashTable.get_item\u001b[1;34m()\u001b[0m\n",
      "\u001b[1;31mKeyError\u001b[0m: 'amount_bucket'",
      "\nThe above exception was the direct cause of the following exception:\n",
      "\u001b[1;31mKeyError\u001b[0m                                  Traceback (most recent call last)",
      "Cell \u001b[1;32mIn[41], line 6\u001b[0m\n\u001b[0;32m      2\u001b[0m tran2[\u001b[38;5;124m'\u001b[39m\u001b[38;5;124mtr_hour\u001b[39m\u001b[38;5;124m'\u001b[39m] \u001b[38;5;241m=\u001b[39m pd\u001b[38;5;241m.\u001b[39mto_datetime(tran2[\u001b[38;5;124m'\u001b[39m\u001b[38;5;124mtr_datetime\u001b[39m\u001b[38;5;124m'\u001b[39m]\u001b[38;5;241m.\u001b[39mstr\u001b[38;5;241m.\u001b[39msplit()\u001b[38;5;241m.\u001b[39mstr[\u001b[38;5;241m1\u001b[39m], \u001b[38;5;28mformat\u001b[39m\u001b[38;5;241m=\u001b[39m\u001b[38;5;124m'\u001b[39m\u001b[38;5;124m%\u001b[39m\u001b[38;5;124mH:\u001b[39m\u001b[38;5;124m%\u001b[39m\u001b[38;5;124mM:\u001b[39m\u001b[38;5;124m%\u001b[39m\u001b[38;5;124mS\u001b[39m\u001b[38;5;124m'\u001b[39m)\u001b[38;5;241m.\u001b[39mdt\u001b[38;5;241m.\u001b[39mhour\u001b[38;5;241m.\u001b[39mastype(\u001b[38;5;28mstr\u001b[39m)\n\u001b[0;32m      5\u001b[0m \u001b[38;5;66;03m# Шаг 2: Добавляем новую категорию 'Income' к категориям 'Very High', 'High', 'Middle', 'Low', 'Very Low'\u001b[39;00m\n\u001b[1;32m----> 6\u001b[0m tran2[\u001b[38;5;124m'\u001b[39m\u001b[38;5;124mamount_bucket\u001b[39m\u001b[38;5;124m'\u001b[39m] \u001b[38;5;241m=\u001b[39m tran2[\u001b[38;5;124m'\u001b[39m\u001b[38;5;124mamount_bucket\u001b[39m\u001b[38;5;124m'\u001b[39m]\u001b[38;5;241m.\u001b[39mcat\u001b[38;5;241m.\u001b[39madd_categories(\u001b[38;5;124m'\u001b[39m\u001b[38;5;124mIncome\u001b[39m\u001b[38;5;124m'\u001b[39m)\n\u001b[0;32m      7\u001b[0m tran2[\u001b[38;5;124m'\u001b[39m\u001b[38;5;124mamount_bucket\u001b[39m\u001b[38;5;124m'\u001b[39m]\u001b[38;5;241m.\u001b[39mfillna(\u001b[38;5;124m'\u001b[39m\u001b[38;5;124mIncome\u001b[39m\u001b[38;5;124m'\u001b[39m, inplace\u001b[38;5;241m=\u001b[39m\u001b[38;5;28;01mTrue\u001b[39;00m)\n\u001b[0;32m      9\u001b[0m \u001b[38;5;66;03m# Шаг 3: Извлекаем час tr_hour из поля tr_datetime\u001b[39;00m\n",
      "File \u001b[1;32mC:\\ProgramData\\anaconda3\\Lib\\site-packages\\pandas\\core\\frame.py:3807\u001b[0m, in \u001b[0;36mDataFrame.__getitem__\u001b[1;34m(self, key)\u001b[0m\n\u001b[0;32m   3805\u001b[0m \u001b[38;5;28;01mif\u001b[39;00m \u001b[38;5;28mself\u001b[39m\u001b[38;5;241m.\u001b[39mcolumns\u001b[38;5;241m.\u001b[39mnlevels \u001b[38;5;241m>\u001b[39m \u001b[38;5;241m1\u001b[39m:\n\u001b[0;32m   3806\u001b[0m     \u001b[38;5;28;01mreturn\u001b[39;00m \u001b[38;5;28mself\u001b[39m\u001b[38;5;241m.\u001b[39m_getitem_multilevel(key)\n\u001b[1;32m-> 3807\u001b[0m indexer \u001b[38;5;241m=\u001b[39m \u001b[38;5;28mself\u001b[39m\u001b[38;5;241m.\u001b[39mcolumns\u001b[38;5;241m.\u001b[39mget_loc(key)\n\u001b[0;32m   3808\u001b[0m \u001b[38;5;28;01mif\u001b[39;00m is_integer(indexer):\n\u001b[0;32m   3809\u001b[0m     indexer \u001b[38;5;241m=\u001b[39m [indexer]\n",
      "File \u001b[1;32mC:\\ProgramData\\anaconda3\\Lib\\site-packages\\pandas\\core\\indexes\\base.py:3804\u001b[0m, in \u001b[0;36mIndex.get_loc\u001b[1;34m(self, key, method, tolerance)\u001b[0m\n\u001b[0;32m   3802\u001b[0m     \u001b[38;5;28;01mreturn\u001b[39;00m \u001b[38;5;28mself\u001b[39m\u001b[38;5;241m.\u001b[39m_engine\u001b[38;5;241m.\u001b[39mget_loc(casted_key)\n\u001b[0;32m   3803\u001b[0m \u001b[38;5;28;01mexcept\u001b[39;00m \u001b[38;5;167;01mKeyError\u001b[39;00m \u001b[38;5;28;01mas\u001b[39;00m err:\n\u001b[1;32m-> 3804\u001b[0m     \u001b[38;5;28;01mraise\u001b[39;00m \u001b[38;5;167;01mKeyError\u001b[39;00m(key) \u001b[38;5;28;01mfrom\u001b[39;00m \u001b[38;5;21;01merr\u001b[39;00m\n\u001b[0;32m   3805\u001b[0m \u001b[38;5;28;01mexcept\u001b[39;00m \u001b[38;5;167;01mTypeError\u001b[39;00m:\n\u001b[0;32m   3806\u001b[0m     \u001b[38;5;66;03m# If we have a listlike key, _check_indexing_error will raise\u001b[39;00m\n\u001b[0;32m   3807\u001b[0m     \u001b[38;5;66;03m#  InvalidIndexError. Otherwise we fall through and re-raise\u001b[39;00m\n\u001b[0;32m   3808\u001b[0m     \u001b[38;5;66;03m#  the TypeError.\u001b[39;00m\n\u001b[0;32m   3809\u001b[0m     \u001b[38;5;28mself\u001b[39m\u001b[38;5;241m.\u001b[39m_check_indexing_error(key)\n",
      "\u001b[1;31mKeyError\u001b[0m: 'amount_bucket'"
     ]
    }
   ],
   "source": [
    "\n",
    "\n",
    "# Шаг 1: Извлекаем час tr_hour из поля tr_datetime\n",
    "tran2['tr_hour'] = pd.to_datetime(tran2['tr_datetime'].str.split().str[1], format='%H:%M:%S').dt.hour.astype(str)\n",
    "\n",
    "\n",
    "# Шаг 2: Добавляем новую категорию 'Income' к категориям 'Very High', 'High', 'Middle', 'Low', 'Very Low'\n",
    "tran2['amount_bucket'] = tran2['amount_bucket'].cat.add_categories('Income')\n",
    "tran2['amount_bucket'].fillna('Income', inplace=True)\n",
    "\n",
    "# Шаг 3: Извлекаем час tr_hour из поля tr_datetime\n",
    "tran2['tr_hour'] = pd.to_datetime(tran2['tr_datetime']).dt.hour.astype(str)\n",
    "\n",
    "# Шаг 4: Строим сводную таблицу\n",
    "pivot_table = pd.pivot_table(tran2, values='gender', index='tr_hour', columns='amount_bucket', aggfunc='mean')\n",
    "\n",
    "# Шаг 5: Отрисовываем результаты\n",
    "def plot_pivot_table(pivot_table):\n",
    "    fig, ax = plt.subplots(figsize=(12, 8))\n",
    "    cax = ax.matshow(pivot_table, cmap='coolwarm', vmin=0, vmax=1)\n",
    "    fig.colorbar(cax)\n",
    "    plt.xticks(range(len(pivot_table.columns)), pivot_table.columns, rotation=45, fontproperties=prop)\n",
    "    plt.yticks(range(len(pivot_table.index)), pivot_table.index, fontproperties=prop)\n",
    "    plt.xlabel('Категория суммы', fontproperties=prop)\n",
    "    plt.ylabel('Час', fontproperties=prop)\n",
    "    plt.title('Распределение пола по категориям сумм и часам', fontproperties=prop)\n",
    "    plt.show()\n",
    "\n",
    "plot_pivot_table(pivot_table)\n",
    "\n",
    "# Вопросы\n",
    "# 1) Ночные поступления денег (01-05 часов) в более чем 85% случаев являются мужскими.\n",
    "q1_result = pivot_table.loc['01':'05', 'Income'].mean() > 0.85\n",
    "\n",
    "# 2) Посмотрев на долю мужчин в поступлениях средств (Income), можно сделать вывод, что количество поступлений средств женщинам в целом больше, чем мужчинам.\n",
    "q2_result = pivot_table['Income'].mean() < 0.5\n",
    "\n",
    "# 3) Самые низкие траты в 3 часа ночи осуществляются в более 70% случаев женщинами.\n",
    "q3_result = pivot_table.loc['03', ['Very Low', 'Low', 'Middle', 'High', 'Very High']].mean() > 0.7\n",
    "\n",
    "# 4) Существуют особые часы в мелких тратах, когда женщины тратят намного больше мужчин (>80%)\n",
    "q4_result = pivot_table[pivot_table['Very Low'] > 0.8].index.astype(int).any()\n",
    "\n",
    "# 5) Посмотрев на долю мужчин в максимальных тратах средств (Very High), можно сделать вывод, что количество высоких трат в каждый возможный час мужчин больше, чем у женщин.\n",
    "q5_result = pivot_table['Very High'].mean() > 0.5\n",
    "\n",
    "print(f\"Вопрос 1: {q1_result}\")\n",
    "print(f\"Вопрос 2: {q2_result}\")\n",
    "print(f\"Вопрос 3: {q3_result}\")\n",
    "print(f\"Вопрос 4: {q4_result}\")\n",
    "print(f\"Вопрос 5: {q5_result}\")"
   ]
  },
  {
   "cell_type": "markdown",
   "metadata": {},
   "source": [
    "#### Task 6:\n",
    "1. Измените тип поля tr_day на int.\n",
    "2. Выберите из transactions все MCC коды, которые встретились в выборке более чем 60000 раз.\n",
    "3. Сгруппируйте отфильтрованный датафрейм по дню и MCC-коду, получая средние значения суммы amount.  \n",
    "4. Далее отрисуйте зависимость средних сумм (может пригодится метод unstack()) по каждому из MCC-кодов по дням.\n",
    "5. Выберите верные ответы на вопросы ниже.\n",
    "\n",
    "#### Вопросы:\n",
    "    - 1) 2 из полученных MCC-кодов связаны с финансовыми институтами\n",
    "    - 2) 2 MCC кода, связанные со снятием наличности имеют в целом разные знаки (в одном случае почти везде - траты, в другом - пополнения)\n",
    "    - 3) Бакалейные магазины обладают максимальными средними тратами среди выбранных MCC-кодов\n",
    "    - 4) Денежные переводы имеют как минимум 3 явных минимума средних\n",
    "    - 5) Категория \"Звонки с использованием телефонов, считывающих магнитную ленту\" имеет визуально очень большую дисперсию. "
   ]
  },
  {
   "cell_type": "code",
   "execution_count": null,
   "metadata": {
    "ExecuteTime": {
     "end_time": "2020-04-23T10:40:09.383871Z",
     "start_time": "2020-04-23T10:40:09.381395Z"
    },
    "scrolled": true
   },
   "outputs": [],
   "source": [
    "# Type your code here\n"
   ]
  }
 ],
 "metadata": {
  "hide_input": false,
  "kernelspec": {
   "display_name": "Python 3 (ipykernel)",
   "language": "python",
   "name": "python3"
  },
  "language_info": {
   "codemirror_mode": {
    "name": "ipython",
    "version": 3
   },
   "file_extension": ".py",
   "mimetype": "text/x-python",
   "name": "python",
   "nbconvert_exporter": "python",
   "pygments_lexer": "ipython3",
   "version": "3.11.4"
  },
  "toc": {
   "base_numbering": 1,
   "nav_menu": {},
   "number_sections": true,
   "sideBar": true,
   "skip_h1_title": false,
   "title_cell": "Table of Contents",
   "title_sidebar": "Contents",
   "toc_cell": true,
   "toc_position": {},
   "toc_section_display": true,
   "toc_window_display": false
  },
  "varInspector": {
   "cols": {
    "lenName": 16,
    "lenType": 16,
    "lenVar": 40
   },
   "kernels_config": {
    "python": {
     "delete_cmd_postfix": "",
     "delete_cmd_prefix": "del ",
     "library": "var_list.py",
     "varRefreshCmd": "print(var_dic_list())"
    },
    "r": {
     "delete_cmd_postfix": ") ",
     "delete_cmd_prefix": "rm(",
     "library": "var_list.r",
     "varRefreshCmd": "cat(var_dic_list()) "
    }
   },
   "types_to_exclude": [
    "module",
    "function",
    "builtin_function_or_method",
    "instance",
    "_Feature"
   ],
   "window_display": false
  }
 },
 "nbformat": 4,
 "nbformat_minor": 2
}
