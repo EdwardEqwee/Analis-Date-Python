{
 "cells": [
  {
   "cell_type": "markdown",
   "metadata": {
    "toc": true
   },
   "source": [
    "<h1>Table of Contents<span class=\"tocSkip\"></span></h1>\n",
    "<div class=\"toc\"><ul class=\"toc-item\"><li><span><a href=\"#Тема-1.-Введение-в-программирование-на-языке-Python\" data-toc-modified-id=\"Тема-1.-Введение-в-программирование-на-языке-Python-1\"><span class=\"toc-item-num\">1&nbsp;&nbsp;</span>Тема 1. Введение в программирование на языке Python</a></span></li><li><span><a href=\"#Задания\" data-toc-modified-id=\"Задания-2\"><span class=\"toc-item-num\">2&nbsp;&nbsp;</span>Задания</a></span></li><li><span><a href=\"#1.-Числовые-и-строковые-типы-данных-языка-Python.-Управляющие-конструкции.\" data-toc-modified-id=\"1.-Числовые-и-строковые-типы-данных-языка-Python.-Управляющие-конструкции.-3\"><span class=\"toc-item-num\">3&nbsp;&nbsp;</span>1. Числовые и строковые типы данных языка Python. Управляющие конструкции.</a></span><ul class=\"toc-item\"><li><span><a href=\"#1.1.-Работа-с-числами.-Базовые-числовые-типы-int-и-float\" data-toc-modified-id=\"1.1.-Работа-с-числами.-Базовые-числовые-типы-int-и-float-3.1\"><span class=\"toc-item-num\">3.1&nbsp;&nbsp;</span>1.1. Работа с числами. Базовые числовые типы int и float</a></span></li><li><span><a href=\"#1.2.-Строки,-функции-и-методы-работы-со-строками\" data-toc-modified-id=\"1.2.-Строки,-функции-и-методы-работы-со-строками-3.2\"><span class=\"toc-item-num\">3.2&nbsp;&nbsp;</span>1.2. Строки, функции и методы работы со строками</a></span></li></ul></li></ul></div>"
   ]
  },
  {
   "cell_type": "markdown",
   "metadata": {},
   "source": [
    "\n",
    "# Тема 1. Введение в программирование на языке Python"
   ]
  },
  {
   "cell_type": "markdown",
   "metadata": {},
   "source": [
    "# Задания\n",
    "\n",
    "Выполните задания\n",
    "\n",
    "# 1. Числовые и строковые типы данных языка Python. Управляющие конструкции.\n",
    "\n",
    "## 1.1. Работа с числами. Базовые числовые типы int и float\n",
    "\n",
    "1. Значения переменных А и В ввести с клавиатуры и вывести на экран. После этого значения меняются местами, т.е. A нужно присвоить значение B, а B – значение A, и вновь значения переменных вывести на экран.\n",
    "\n",
    "2. Значение x вводится с клавиатуры. Вычислите $y=(x+1)^2\\cdot \\sqrt{x^3+1}$ Выведите на экран значения $x$ и $y$ с тремя знаками после запятой.\n",
    "\n",
    "3. Вычислите сумму цифр пятизначного числа.\n",
    "\n",
    "4. Для заданного трехзначного числа выведите число, у которого цифры идут в обратном порядке, например, для числа 123 ответ 321.\n",
    "\n",
    "5. Ввести координаты 2 точек: $(x_1,y_1)$ и $(x_2,y_2)$. Вычислите расстояние между этими точками.  Результат выведите с 5 знаками после запятой.\n",
    "\n",
    "6. Разработать программу вычисления по известному радиусу площади круга и длины окружности.\n",
    "\n",
    "7. Разработать программу по вычислению площади кольца по известным значениям его внешнего и внутреннего радиусов.\n",
    "\n",
    "8. Разработать программу вычисления радиуса круга и его площади по известной длине окружности.\n",
    "\n",
    "9. Разработать программу вычисления объема шара: а) по радиусу; б) по длине его экваториальной параллели. Объём шара рассчитывается по формуле $V=\\frac{4}{3}\\pi{r^3}$, где $r$ - радиус.\n",
    "\n",
    "10. Имеются два $n$–мерных вектора $x$ и $y$, которые задают координаты $n$ точек на плоскости (случайные целые числа). Найти наиболее близкие друг другу точки.\n",
    "\n",
    "11. Треугольник задан координатами своих вершин: $(x_1,y_1),(x_2,y_2),(x_3,y_3)$. Значения координат определите с помощью присваивания. Они могут быть нецелыми. Найти периметр и площадь треугольника.\n",
    "\n",
    "12. Пусть пользователь вводит 5 чисел: а, b, c, d, e. Реализуйте программу расчета выражения вида $res=\\frac{a+bc}{2d-e}+Ost[b^e/c]$, где $Ost$ - остаток от деления. Учесть невозможность деления на 0.\n",
    "\n",
    "\n",
    "## 1.2. Строки, функции и методы работы со строками\n",
    "\n",
    "1. Введите строку, состоящую из двух цифр. Преобразуйте ее в целое и вещественное число. Выведите полученные три значения (строку, целое число, вещественное число) на экран в одной строке через запятую, затем пропустите строку и вновь выведите значения по одному на строке. Перед каждым значением выведите его тип.\n",
    "\n",
    "2. Для строки 'Финансовый университет' двумя способами получить подстроку с 1-го по 4-й символы включительно.\n",
    "\n",
    "3. Составить строку из всех четных символов строки 'Финансовый университет'.\n",
    "\n",
    "4. Получить подстроку неизвестной заранее строки, содержащую половину символов строки и расположенную посередине строки.\n",
    "\n",
    "5. Коротко записать создание строки 'oneoneoneoneoneonetwotwotwo'\n",
    "\n",
    "6. Для введенной строки выведите (на отдельной строке):\n",
    "- второй символ этой строки;\n",
    "- предпоследний символ этой строки;\n",
    "- всю строку, кроме последних двух символов;\n",
    "- все символы с четными индексами (считая, что индексация начинается с 0, поэтому символы выводятся, начиная с первого);\n",
    "- все символы с нечетными индексами, то есть начиная со второго символа строки;\n",
    "- все символы в обратном порядке;\n",
    "- все символы строки через один в обратном порядке, начиная с последнего;\n",
    "- длину данной строки.\n",
    "\n",
    "7. Не используя метод count, для заданной строки выполните:\n",
    "- если символ * в данной строке отсутствует, выведите текст «нет символа»;\n",
    "- если символ * встречается в строке только один раз, выведите его индекс;\n",
    "- если символ * встречается два и более раз, выведите индекс его первого, второго и последнего вхождения, удалите первый и последний символ * из строки.\n",
    "\n",
    "8. Дана строка, состоящая из слов, разделенных пробелами. В этой строке:\n",
    "- удалите все лишние пробелы (в начале, в конце, между словами оставить ровно один пробел);\n",
    "- поменяйте регистр символов (строчные сделать прописными, прописные – строчными);\n",
    "- определите, сколько в ней слов.\n",
    "\n",
    "9. Строка содержит фамилию, имя и отчество, записанные через пробелы. Например «Иванов Иван Иванович». Для этой строки:\n",
    "- выведите информацию в виде:\n",
    "```\n",
    "Фамилия       Иванов\n",
    "Имя           Иван\n",
    "Отчество      Иванович\n",
    "```\n",
    "- получите строки вида «Иванов И.И.» и «И.И. Иванов».\n",
    "\n",
    "10. Напишите программу, которая осуществляет вывод кошки на экран. Примечание: кошка выглядят примерно так:\n",
    "```\n",
    "         /\\_/\\ \n",
    "         /@ @\\ \n",
    "        (~~0~~)\n",
    "\n",
    " ```\n",
    "\n",
    "11. Для двух произвольных строк провести сравнение на совпадение содержимого без учета регистра букв и начальных и конечных пробельных символов. Например, для двух строк ' HeLLO WOrlD' и 'hello WORLD ' такое сравнение должно возвращать True (содержание строк совпадает).\n",
    "\n",
    "12. По номеру года определите, является ли данный год високосным. (год является високосным, если его номер кратен 4, но не кратен 100, а также если он кратен 400).\n",
    "\n",
    "18. Даны точки $A=(1,1),B=(5,5),C=(1,4),D=(7,2)$. Найти точку пересечения отрезков $AB$ и $CD$."
   ]
  },
  {
   "cell_type": "markdown",
   "metadata": {},
   "source": [
    "## Выполненое задание 1 раздел\n",
    "#1 Значения переменных А и В ввести с клавиатуры и вывести на экран. После этого значения меняются местами, т.е. A нужно присвоить значение B, а B – значение A, и вновь значения переменных вывести на экран."
   ]
  },
  {
   "cell_type": "code",
   "execution_count": 6,
   "metadata": {},
   "outputs": [
    {
     "name": "stdout",
     "output_type": "stream",
     "text": [
      "2\n",
      "4\n",
      "a =  2  b =  4\n",
      "a =  4  b =  2\n"
     ]
    }
   ],
   "source": [
    "a = int (input())\n",
    "b = int (input())\n",
    "print (\"a = \",a,\" b = \",b)\n",
    "a, b = b, a\n",
    "print (\"a = \",a,\" b = \",b)"
   ]
  },
  {
   "cell_type": "markdown",
   "metadata": {},
   "source": [
    "#2 Значение x вводится с клавиатуры. Вычислите $y=(x+1)^2\\cdot \\sqrt{x^3+1}$ Выведите на экран значения  𝑥 и  𝑦 с тремя знаками после запятой."
   ]
  },
  {
   "cell_type": "code",
   "execution_count": 13,
   "metadata": {},
   "outputs": [
    {
     "name": "stdout",
     "output_type": "stream",
     "text": [
      "3\n",
      "x=  3  y=  84.66\n"
     ]
    }
   ],
   "source": [
    "x= int (input())\n",
    "\n",
    "y= (x+1)**2*(x**3+1)**(1/2)\n",
    "\n",
    "print (\"x= \",x,\" y= \",round(y, 2))"
   ]
  },
  {
   "cell_type": "markdown",
   "metadata": {},
   "source": [
    "#3 Вычислите сумму цифр пятизначного числа."
   ]
  },
  {
   "cell_type": "code",
   "execution_count": 11,
   "metadata": {},
   "outputs": [
    {
     "name": "stdout",
     "output_type": "stream",
     "text": [
      "12345\n",
      "Сумма: 15\n"
     ]
    }
   ],
   "source": [
    "a = int (input())\n",
    "su = 0\n",
    "while a > 0:\n",
    "    d = a % 10\n",
    "    su = su + d\n",
    "    a = a // 10\n",
    " \n",
    "print(\"Сумма= \", su)"
   ]
  },
  {
   "cell_type": "markdown",
   "metadata": {},
   "source": [
    "#4 Для заданного трехзначного числа выведите число, у которого цифры идут в обратном порядке, например, для числа 123 ответ 321."
   ]
  },
  {
   "cell_type": "code",
   "execution_count": 15,
   "metadata": {},
   "outputs": [
    {
     "name": "stdout",
     "output_type": "stream",
     "text": [
      "1234\n",
      "Инверсия=  4321\n"
     ]
    }
   ],
   "source": [
    "a = int(input())\n",
    " \n",
    "d = a % 10\n",
    "b = d\n",
    "a = a // 10\n",
    " \n",
    "while a > 0:\n",
    "    \n",
    "    d = a % 10\n",
    "    a = a // 10\n",
    "    b = b * 10\n",
    "    b = b + d\n",
    " \n",
    "print(\"Инверсия= \", b)"
   ]
  },
  {
   "cell_type": "markdown",
   "metadata": {},
   "source": [
    "#5 Ввести координаты 2 точек: $(x_1,y_1)$ и $(x_2,y_2)$. Вычислите расстояние между этими точками.  Результат выведите с 5 знаками после запятой."
   ]
  },
  {
   "cell_type": "code",
   "execution_count": 18,
   "metadata": {},
   "outputs": [
    {
     "name": "stdout",
     "output_type": "stream",
     "text": [
      "x1=  1\n",
      "y1=  2\n",
      "x2=  4\n",
      "y2=  5\n",
      "a=  4.24264\n"
     ]
    }
   ],
   "source": [
    "import math\n",
    "x1 = float(input(\"x1=  \"))\n",
    "y1 = float(input(\"y1=  \"))\n",
    "x2 = float(input(\"x2=  \"))\n",
    "y2 = float(input(\"y2=  \"))\n",
    "a = math.sqrt((x2-x1)**2+(y2-y1)**2)\n",
    "print(\"a= \",round(a,5))"
   ]
  },
  {
   "cell_type": "markdown",
   "metadata": {},
   "source": [
    "#6 Разработать программу вычисления по известному радиусу площади круга и длины окружности."
   ]
  },
  {
   "cell_type": "code",
   "execution_count": 21,
   "metadata": {},
   "outputs": [
    {
     "name": "stdout",
     "output_type": "stream",
     "text": [
      "r= 5\n",
      "Длина окружности=  31.41592653589793 Площадь окружности=  78.53981633974483\n"
     ]
    }
   ],
   "source": [
    "import math\n",
    "\n",
    "r=float(input(\"r= \"))\n",
    "\n",
    "print (\"Длина окружности= \",2*math.pi*r ,\"Площадь окружности= \",math.pi*r**2)\n"
   ]
  },
  {
   "cell_type": "markdown",
   "metadata": {},
   "source": [
    "#7 Разработать программу по вычислению площади кольца по известным значениям его внешнего и внутреннего радиусов."
   ]
  },
  {
   "cell_type": "code",
   "execution_count": 29,
   "metadata": {},
   "outputs": [
    {
     "name": "stdout",
     "output_type": "stream",
     "text": [
      "R= 6\n",
      "r= 2\n",
      "100.53096491487338\n"
     ]
    }
   ],
   "source": [
    "from math import pi\n",
    " \n",
    "def ring(R, r):\n",
    "    if 0 <= r <= R:\n",
    "        a = pi * (R ** 2- r ** 2)\n",
    "    return a\n",
    " \n",
    "print(ring(int( input(\"R= \")), int (input(\"r= \"))))\n"
   ]
  },
  {
   "cell_type": "markdown",
   "metadata": {},
   "source": [
    "#8 Разработать программу вычисления радиуса круга и его площади по известной длине окружности."
   ]
  },
  {
   "cell_type": "code",
   "execution_count": 5,
   "metadata": {},
   "outputs": [
    {
     "name": "stdout",
     "output_type": "stream",
     "text": [
      "Введите длину окружности: 12\n",
      "Радиус круга: 1.909859317102744\n",
      "Площадь круга: 11.459155902616464\n"
     ]
    }
   ],
   "source": [
    "from math import pi\n",
    "circumference = float(input(\"Введите длину окружности: \"))\n",
    "radius = circumference / (2 * pi)\n",
    "area = pi * (radius ** 2)\n",
    "\n",
    "print(f\"Радиус круга: {radius}\")\n",
    "print(f\"Площадь круга: {area}\")"
   ]
  },
  {
   "cell_type": "markdown",
   "metadata": {},
   "source": [
    "#9 Разработать программу вычисления объема шара: а) по радиусу; б) по длине его экваториальной параллели. Объём шара рассчитывается по формуле $V=\\frac{4}{3}\\pi{r^3}$, где $r$ - радиус."
   ]
  },
  {
   "cell_type": "code",
   "execution_count": 3,
   "metadata": {},
   "outputs": [
    {
     "name": "stdout",
     "output_type": "stream",
     "text": [
      "Введите радиус шара: 12\n",
      "Введите длину его экваритариальной длины паралели: 11\n",
      "Радиус: 7238.229473870882\n",
      "Экваритальная паралельная длина: 246.394882945366\n"
     ]
    }
   ],
   "source": [
    "import math\n",
    "\n",
    "def calculate_volume_by_radius(radius):\n",
    "    volume = (4/3) * math.pi * radius**3\n",
    "    return volume\n",
    "\n",
    "def calculate_volume_by_equatorial_parallel_length(length):\n",
    "    radius = length / (2 * math.sqrt(2))\n",
    "    volume = (4/3) * math.pi * radius**3\n",
    "    return volume\n",
    "\n",
    "radius = float(input(\"Введите радиус шара: \"))\n",
    "volume_by_radius = calculate_volume_by_radius(radius)\n",
    "\n",
    "\n",
    "length = float(input(\"Введите длину его экваритариальной длины паралели: \"))\n",
    "volume_by_length = calculate_volume_by_equatorial_parallel_length(length)\n",
    "\n",
    "print(f\"Радиус: {volume_by_radius}\")\n",
    "print(f\"Экваритальная паралельная длина: {volume_by_length}\")\n"
   ]
  },
  {
   "cell_type": "markdown",
   "metadata": {},
   "source": [
    "#10 Имеются два $n$–мерных вектора $x$ и $y$, которые задают координаты $n$ точек на плоскости (случайные целые числа). Найти наиболее близкие друг другу точки."
   ]
  },
  {
   "cell_type": "code",
   "execution_count": 2,
   "metadata": {},
   "outputs": [
    {
     "name": "stdout",
     "output_type": "stream",
     "text": [
      "Ближайшие точки: (0, 2)\n",
      "Расстояние между ними: 25.96150997149434\n"
     ]
    }
   ],
   "source": [
    "import random\n",
    "\n",
    "def distance(a, b):\n",
    "    return ((a[0] - b[0]) ** 2 + (a[1] - b[1]) ** 2) ** 0.5\n",
    "\n",
    "n = 5 \n",
    "x, y = [], []  \n",
    "\n",
    "for i in range(n):\n",
    "    x.append(random.randint(1, 100))\n",
    "    y.append(random.randint(1, 100))\n",
    "\n",
    "closest_pair = None\n",
    "min_distance = float('inf')\n",
    "\n",
    "for i in range(n):\n",
    "    for j in range(i+1, n):\n",
    "        d = distance([x[i], y[i]], [x[j], y[j]])\n",
    "        if d < min_distance:\n",
    "            min_distance, closest_pair = d, (i, j)\n",
    "\n",
    "print(\"Ближайшие точки:\", closest_pair)\n",
    "print(\"Расстояние между ними:\", min_distance)"
   ]
  },
  {
   "cell_type": "markdown",
   "metadata": {},
   "source": [
    "#11 Треугольник задан координатами своих вершин: $(x_1,y_1),(x_2,y_2),(x_3,y_3)$. Значения координат определите с помощью присваивания. Они могут быть нецелыми. Найти периметр и площадь треугольника."
   ]
  },
  {
   "cell_type": "code",
   "execution_count": 4,
   "metadata": {},
   "outputs": [
    {
     "name": "stdout",
     "output_type": "stream",
     "text": [
      "Видите координаты точки 1 (x1 y1): 1 2\n",
      "Видите координаты точки 2 (x2 y2): 3 4\n",
      "Видите координаты точки 3 (x3 y3): 5 6\n",
      "Периметр треуугольника: 11.313708498984761\n",
      "Площадь его: 0.0\n"
     ]
    }
   ],
   "source": [
    "import math\n",
    "\n",
    "x1, y1 = map(float, input(\"Видите координаты точки 1 (x1 y1): \").split())\n",
    "x2, y2 = map(float, input(\"Видите координаты точки 2 (x2 y2): \").split())\n",
    "x3, y3 = map(float, input(\"Видите координаты точки 3 (x3 y3): \").split())\n",
    "\n",
    "side1 = math.sqrt((x2 - x1)**2 + (y2 - y1)**2)\n",
    "side2 = math.sqrt((x3 - x2)**2 + (y3 - y2)**2)\n",
    "side3 = math.sqrt((x1 - x3)**2 + (y1 - y3)**2)\n",
    "\n",
    "perimeter = side1 + side2 + side3\n",
    "\n",
    "s = perimeter / 2\n",
    "area = math.sqrt(s * (s - side1) * (s - side2) * (s - side3))\n",
    "\n",
    "print(f\"Периметр треуугольника: {perimeter}\")\n",
    "print(f\"Площадь его: {area}\")\n"
   ]
  },
  {
   "cell_type": "markdown",
   "metadata": {},
   "source": [
    "#12 Пусть пользователь вводит 5 чисел: а, b, c, d, e. Реализуйте программу расчета выражения вида $res=\\frac{a+bc}{2d-e}+Ost[b^e/c]$, где $Ost$ - остаток от деления. Учесть невозможность деления на 0.\n"
   ]
  },
  {
   "cell_type": "code",
   "execution_count": 10,
   "metadata": {},
   "outputs": [
    {
     "name": "stdout",
     "output_type": "stream",
     "text": [
      "Enter the value of a: 1\n",
      "Enter the value of b: 2\n",
      "Enter the value of c: 3\n",
      "Enter the value of d: 4\n",
      "Enter the value of e: 5\n",
      "Result: 4.333333333333334\n"
     ]
    }
   ],
   "source": [
    "\n",
    "a = float(input(\"Введите a: \"))\n",
    "b = float(input(\"Введите b: \"))\n",
    "c = float(input(\"Введите с: \"))\n",
    "d = float(input(\"Введите d: \"))\n",
    "e = float(input(\"Введите e: \"))\n",
    "\n",
    "\n",
    "if c == 0:\n",
    "    print(\"Error: Division by zero (c cannot be zero).\")\n",
    "else:\n",
    "\n",
    "    res = ((a+b*c)/(2*d-e)) + (b**e % c)\n",
    "\n",
    "    print(\"Результат:\", res)\n"
   ]
  },
  {
   "cell_type": "markdown",
   "metadata": {},
   "source": [
    "1.2. Строки, функции и методы работы со строками\n",
    "\n",
    "\n",
    "#1 Введите строку, состоящую из двух цифр. Преобразуйте ее в целое и вещественное число. Выведите полученные три значения (строку, целое число, вещественное число) на экран в одной строке через запятую, затем пропустите строку и вновь выведите значения по одному на строке. Перед каждым значением выведите его тип.\n"
   ]
  },
  {
   "cell_type": "code",
   "execution_count": 13,
   "metadata": {},
   "outputs": [
    {
     "name": "stdout",
     "output_type": "stream",
     "text": [
      "Enter a two-digit string: 11\n",
      "11, 11, 11.0\n",
      "String: 11\n",
      "Type: <class 'str'>\n",
      "Integer: 11\n",
      "Type: <class 'int'>\n",
      "Real Number: 11.0\n",
      "Type: <class 'float'>\n"
     ]
    }
   ],
   "source": [
    "\n",
    "input_string = input(\"Введите строку из 2 цифр: \")\n",
    "\n",
    "if len(input_string) != 2 or not input_string.isdigit():\n",
    "    print(\"Invalid input. Please enter a valid two-digit string.\")\n",
    "else:\n",
    "    \n",
    "    integer_value = int(input_string)\n",
    "    real_value = float(input_string)\n",
    "    \n",
    "    print(f\"{input_string}, {integer_value}, {real_value}\")\n",
    "\n",
    "    print(f\"Строка: {input_string}\")\n",
    "    print(f\"Type: {type(input_string)}\")\n",
    "\n",
    "    print(f\"Число: {integer_value}\")\n",
    "    print(f\"Type: {type(integer_value)}\")\n",
    "\n",
    "    print(f\"Веществкное число: {real_value}\")\n",
    "    print(f\"Type: {type(real_value)}\")\n"
   ]
  },
  {
   "cell_type": "markdown",
   "metadata": {},
   "source": [
    "2. Для строки 'Финансовый университет' двумя способами получить подстроку с 1-го по 4-й символы включительно."
   ]
  },
  {
   "cell_type": "code",
   "execution_count": 9,
   "metadata": {},
   "outputs": [
    {
     "name": "stdout",
     "output_type": "stream",
     "text": [
      "Обрезка 1 : Фина\n"
     ]
    }
   ],
   "source": [
    "\n",
    "input_string = 'Финансовый университет'\n",
    "\n",
    "substring_slicing = input_string[0:4]  \n",
    "print(\"Обрезка 1 :\", substring_slicing)\n",
    "\n",
    "#substring_method = input_string[0:4 + 1]  \n",
    "#print(\"Обрезка 2 :\", substring_method)\n",
    "\n",
    "\n"
   ]
  },
  {
   "cell_type": "markdown",
   "metadata": {},
   "source": [
    "3. Составить строку из всех четных символов строки 'Финансовый университет'."
   ]
  },
  {
   "cell_type": "code",
   "execution_count": 15,
   "metadata": {},
   "outputs": [
    {
     "name": "stdout",
     "output_type": "stream",
     "text": [
      "String of even-indexed characters: FnnilUiest\n"
     ]
    }
   ],
   "source": [
    "\n",
    "input_string = 'Финансовый университет'\n",
    "\n",
    "even_characters = input_string[::2]\n",
    "\n",
    "print(\"Вывод :\", even_characters)\n"
   ]
  },
  {
   "cell_type": "markdown",
   "metadata": {},
   "source": [
    "4. Получить подстроку неизвестной заранее строки, содержащую половину символов строки и расположенную посередине строки."
   ]
  },
  {
   "cell_type": "code",
   "execution_count": 16,
   "metadata": {},
   "outputs": [
    {
     "name": "stdout",
     "output_type": "stream",
     "text": [
      "Enter a string: qwerty abc\n",
      "Middle Substring with Half of the Characters: erty \n"
     ]
    }
   ],
   "source": [
    "\n",
    "input_string = input(\"Введите строку: \")\n",
    "\n",
    "length = len(input_string)\n",
    "\n",
    "start_index = length // 4  \n",
    "end_index = 3 * length // 4  \n",
    "\n",
    "middle_substring = input_string[start_index:end_index]\n",
    "\n",
    "print(\"Вывод:\", middle_substring)\n"
   ]
  },
  {
   "cell_type": "markdown",
   "metadata": {},
   "source": [
    "5. Коротко записать создание строки 'oneoneoneoneoneonetwotwotwo'"
   ]
  },
  {
   "cell_type": "code",
   "execution_count": 2,
   "metadata": {},
   "outputs": [
    {
     "name": "stdout",
     "output_type": "stream",
     "text": [
      "oneoneoneoneonetwotwotwo\n"
     ]
    }
   ],
   "source": [
    "\n",
    "substring_one = 'one' * 5  \n",
    "substring_two = 'two' * 3  \n",
    "result_string = substring_one + substring_two\n",
    "print(result_string)\n"
   ]
  },
  {
   "cell_type": "markdown",
   "metadata": {},
   "source": [
    "6. Для введенной строки выведите (на отдельной строке):\n",
    "- второй символ этой строки;\n",
    "- предпоследний символ этой строки;\n",
    "- всю строку, кроме последних двух символов;\n",
    "- все символы с четными индексами (считая, что индексация начинается с 0, поэтому символы выводятся, начиная с первого);\n",
    "- все символы с нечетными индексами, то есть начиная со второго символа строки;\n",
    "- все символы в обратном порядке;\n",
    "- все символы строки через один в обратном порядке, начиная с последнего;\n",
    "- длину данной строки."
   ]
  },
  {
   "cell_type": "code",
   "execution_count": 18,
   "metadata": {},
   "outputs": [
    {
     "name": "stdout",
     "output_type": "stream",
     "text": [
      "Enter a string: qwerty\n",
      "Second character: w\n",
      "Penultimate character: t\n",
      "String except last two characters: qwer\n",
      "Characters with even indexes: qet\n",
      "Characters with odd indexes (starting from the second): wry\n",
      "All characters in reverse order: ytrewq\n",
      "Characters separated by one in reverse order: ytrewq\n",
      "Length of the string: 6\n"
     ]
    }
   ],
   "source": [
    "\n",
    "input_string = input(\"Введите строку: \")\n",
    "\n",
    "second_char = input_string[1]\n",
    "\n",
    "penultimate_char = input_string[-2]\n",
    "\n",
    "string_except_last_two = input_string[:-2]\n",
    "\n",
    "even_characters = input_string[::2]\n",
    "\n",
    "odd_characters = input_string[1::2]\n",
    "\n",
    "reverse_characters = input_string[::-1]\n",
    "\n",
    "reverse_separated = input_string[-1::-1]\n",
    "\n",
    "string_length = len(input_string)\n",
    "\n",
    "print(\"2 символ:\", second_char)\n",
    "print(\"последний знак:\", penultimate_char)\n",
    "print(\"строка без 2 символов:\", string_except_last_two)\n",
    "print(\"четкие индексы:\", even_characters)\n",
    "print(\"нечеткие индексы:\", odd_characters)\n",
    "print(\"инверсия:\", reverse_characters)\n",
    "print(\"инверсия +1:\", reverse_separated)\n",
    "print(\"кол-во символов:\", string_length)\n"
   ]
  },
  {
   "cell_type": "markdown",
   "metadata": {},
   "source": [
    "7. Не используя метод count, для заданной строки выполните:\n",
    "- если символ * в данной строке отсутствует, выведите текст «нет символа»;\n",
    "- если символ * встречается в строке только один раз, выведите его индекс;\n",
    "- если символ * встречается два и более раз, выведите индекс его первого, второго и последнего вхождения, удалите первый и последний символ * из строки."
   ]
  },
  {
   "cell_type": "code",
   "execution_count": 5,
   "metadata": {},
   "outputs": [
    {
     "name": "stdout",
     "output_type": "stream",
     "text": [
      "Введите строку: йцуке*12\n",
      "Кол-во * : 5\n"
     ]
    }
   ],
   "source": [
    "\n",
    "input_string = input(\"Введите строку: \")\n",
    "\n",
    "first_star_index = -1\n",
    "second_star_index = -1\n",
    "last_star_index = -1\n",
    "\n",
    "if '*' not in input_string:\n",
    "    print(\"нет символа\")\n",
    "else:\n",
    "    \n",
    "    star_count = 0\n",
    "    for i, char in enumerate(input_string):\n",
    "        if char == '*':\n",
    "            star_count += 1\n",
    "            if star_count == 1:\n",
    "                first_star_index = i\n",
    "            elif star_count == 2:\n",
    "                second_star_index = i\n",
    "            last_star_index = i\n",
    "\n",
    "    \n",
    "    if star_count == 1:\n",
    "        print(\"Индекс нахождения * :\", first_star_index)\n",
    "    else:\n",
    "        \n",
    "        print(\"Index of 1 * character:\", first_star_index)\n",
    "        print(\"Index of 2 * character:\", second_star_index)\n",
    "        print(\"Index of last * character:\", last_star_index)\n",
    "\n",
    "        modified_string = input_string[:first_star_index] + input_string[first_star_index + 1:last_star_index] + input_string[last_star_index + 1:]\n",
    "        print(\"Modified string:\", modified_string)\n"
   ]
  },
  {
   "cell_type": "markdown",
   "metadata": {},
   "source": [
    "8. Дана строка, состоящая из слов, разделенных пробелами. В этой строке:\n",
    "- удалите все лишние пробелы (в начале, в конце, между словами оставить ровно один пробел);\n",
    "- поменяйте регистр символов (строчные сделать прописными, прописные – строчными);\n",
    "- определите, сколько в ней слов.\n"
   ]
  },
  {
   "cell_type": "code",
   "execution_count": 21,
   "metadata": {},
   "outputs": [
    {
     "name": "stdout",
     "output_type": "stream",
     "text": [
      "Enter a string with words separated by spaces:  RHRHRHR RHRHRHRV \n",
      "Transformed String: rhrhrhr rhrhrhrv\n",
      "Number of Words: 2\n"
     ]
    }
   ],
   "source": [
    "\n",
    "input_string = input(\"Введите строку \")\n",
    "\n",
    "words = input_string.strip().split()\n",
    "\n",
    "transformed_string = \"\"\n",
    "word_count = len(words)\n",
    "\n",
    "for i, word in enumerate(words):\n",
    "    if i > 0:\n",
    "        transformed_string += \" \"  \n",
    "    transformed_string += word.swapcase()  \n",
    "\n",
    "\n",
    "print(\"Transformed String:\", transformed_string)\n",
    "print(\"Number of Words:\", word_count)\n"
   ]
  },
  {
   "cell_type": "markdown",
   "metadata": {},
   "source": [
    "9. Строка содержит фамилию, имя и отчество, записанные через пробелы. Например «Иванов Иван Иванович». Для этой строки:\n",
    "- выведите информацию в виде:\n",
    "```\n",
    "Фамилия       Иванов\n",
    "Имя           Иван\n",
    "Отчество      Иванович\n",
    "```\n",
    "- получите строки вида «Иванов И.И.» и «И.И. Иванов»."
   ]
  },
  {
   "cell_type": "code",
   "execution_count": 25,
   "metadata": {},
   "outputs": [
    {
     "name": "stdout",
     "output_type": "stream",
     "text": [
      "Enter a full name (Surname Firstname Patronymic): Ageenko Bogdan Michailovich\n",
      "Formatted Name (Surname Firstname): Ageenko Bogdan\n",
      "Formatted Name (Initials Surname): B.M. Ageenko\n"
     ]
    }
   ],
   "source": [
    "\n",
    "full_name = input(\"Введите полностью ФИО: \")\n",
    "\n",
    "\n",
    "name_parts = full_name.split()\n",
    "\n",
    "if len(name_parts) >= 3:\n",
    "   \n",
    "    surname = name_parts[0]\n",
    "    firstname = name_parts[1]\n",
    "    patronymic = name_parts[2]\n",
    "\n",
    "  \n",
    "    full_name_format1 = f\"{surname} {firstname}\"\n",
    "\n",
    "   \n",
    "    initials = f\"{firstname[0]}.{patronymic[0]}.\"\n",
    "    full_name_format2 = f\"{initials} {surname}\"\n",
    "\n",
    "    print(\"Formatted Name (Surname Firstname):\", full_name_format1)\n",
    "    print(\"Formatted Name (Initials Surname):\", full_name_format2)\n",
    "else:\n",
    "    print(\"Invalid input. Please provide a full name with at least three parts (Surname Firstname Patronymic).\")\n"
   ]
  },
  {
   "cell_type": "markdown",
   "metadata": {},
   "source": [
    "10. Напишите программу, которая осуществляет вывод кошки на экран. Примечание: кошка выглядят примерно так:\n",
    "```\n",
    "         /\\_/\\ \n",
    "         /@ @\\ \n",
    "        (~~0~~)\n",
    "\n",
    " ```"
   ]
  },
  {
   "cell_type": "code",
   "execution_count": 28,
   "metadata": {},
   "outputs": [
    {
     "name": "stdout",
     "output_type": "stream",
     "text": [
      "\n",
      "    /\\_/\\\n",
      "    /@ @\\\n",
      "   (~~0~~)\n",
      "\n"
     ]
    }
   ],
   "source": [
    "\n",
    "cat_art = \"\"\"\n",
    "    /\\\\_/\\\\\n",
    "    /@ @\\\\\n",
    "   (~~0~~)\n",
    "\"\"\"\n",
    "print(cat_art)\n",
    "\n"
   ]
  },
  {
   "cell_type": "markdown",
   "metadata": {},
   "source": [
    "11. Для двух произвольных строк провести сравнение на совпадение содержимого без учета регистра букв и начальных и конечных пробельных символов. Например, для двух строк ' HeLLO WOrlD' и 'hello WORLD ' такое сравнение должно возвращать True (содержание строк совпадает)."
   ]
  },
  {
   "cell_type": "code",
   "execution_count": 29,
   "metadata": {},
   "outputs": [
    {
     "name": "stdout",
     "output_type": "stream",
     "text": [
      "Enter the first string: HeLLO WOrlD\n",
      "Enter the second string: hello WORLD\n",
      "The strings match (ignoring case and leading/trailing spaces).\n"
     ]
    }
   ],
   "source": [
    "\n",
    "string1 = input(\"Введите строку 1: \")\n",
    "string2 = input(\"Введите строку 2: \")\n",
    "\n",
    "\n",
    "string1 = string1.strip().lower()\n",
    "string2 = string2.strip().lower()\n",
    "\n",
    "\n",
    "if string1 == string2:\n",
    "    print(\"Совпадают.\")\n",
    "else:\n",
    "    print(\"Не свопадают.\")\n"
   ]
  },
  {
   "cell_type": "markdown",
   "metadata": {},
   "source": [
    "12. По номеру года определите, является ли данный год високосным. (год является високосным, если его номер кратен 4, но не кратен 100, а также если он кратен 400)."
   ]
  },
  {
   "cell_type": "code",
   "execution_count": 30,
   "metadata": {},
   "outputs": [
    {
     "name": "stdout",
     "output_type": "stream",
     "text": [
      "Enter a year: 2023\n",
      "2023 is not a leap year.\n"
     ]
    }
   ],
   "source": [
    "\n",
    "year = int(input(\"Введите год: \"))\n",
    "\n",
    "\n",
    "if (year % 4 == 0 and year % 100 != 0) or (year % 400 == 0):\n",
    "    print(f\"{year} являеться.\")\n",
    "else:\n",
    "    print(f\"{year} не являеться.\")\n"
   ]
  },
  {
   "cell_type": "markdown",
   "metadata": {},
   "source": [
    "13. Даны точки $A=(1,1),B=(5,5),C=(1,4),D=(7,2)$. Найти точку пересечения отрезков $AB$ и $CD$."
   ]
  },
  {
   "cell_type": "code",
   "execution_count": 33,
   "metadata": {},
   "outputs": [
    {
     "name": "stdout",
     "output_type": "stream",
     "text": [
      "The intersection point is (3.25, 3.25)\n"
     ]
    }
   ],
   "source": [
    "\n",
    "Ax, Ay = 1, 1\n",
    "Bx, By = 5, 5\n",
    "Cx, Cy = 1, 4\n",
    "Dx, Dy = 7, 2\n",
    "\n",
    "def do_segments_intersect(Ax, Ay, Bx, By, Cx, Cy, Dx, Dy):\n",
    "  \n",
    "    ABx, ABy = Bx - Ax, By - Ay\n",
    "    CDx, CDy = Dx - Cx, Dy - Cy\n",
    "\n",
    "\n",
    "    determinant = ABx * CDy - ABy * CDx\n",
    "\n",
    "\n",
    "    if determinant == 0:\n",
    "        return False\n",
    "\n",
    "\n",
    "    t = ((Cx - Ax) * CDy - (Cy - Ay) * CDx) / determinant\n",
    "    u = ((Cx - Ax) * ABy - (Cy - Ay) * ABx) / determinant\n",
    "\n",
    "    if 0 <= t <= 1 and 0 <= u <= 1:\n",
    "        intersection_x = Ax + t * ABx\n",
    "        intersection_y = Ay + t * ABy\n",
    "        return intersection_x, intersection_y\n",
    "    else:\n",
    "        return False\n",
    "\n",
    "intersection = do_segments_intersect(Ax, Ay, Bx, By, Cx, Cy, Dx, Dy)\n",
    "\n",
    "if intersection:\n",
    "    print(f\"Точка пересечение ({intersection[0]}, {intersection[1]})\")\n",
    "else:\n",
    "    print(\"нет точки пересечение.\")\n"
   ]
  },
  {
   "cell_type": "code",
   "execution_count": null,
   "metadata": {},
   "outputs": [],
   "source": []
  },
  {
   "cell_type": "code",
   "execution_count": null,
   "metadata": {},
   "outputs": [],
   "source": []
  },
  {
   "cell_type": "code",
   "execution_count": null,
   "metadata": {},
   "outputs": [],
   "source": []
  },
  {
   "cell_type": "code",
   "execution_count": null,
   "metadata": {},
   "outputs": [],
   "source": []
  },
  {
   "cell_type": "code",
   "execution_count": null,
   "metadata": {},
   "outputs": [],
   "source": []
  },
  {
   "cell_type": "code",
   "execution_count": null,
   "metadata": {},
   "outputs": [],
   "source": []
  }
 ],
 "metadata": {
  "kernelspec": {
   "display_name": "Python 3 (ipykernel)",
   "language": "python",
   "name": "python3"
  },
  "language_info": {
   "codemirror_mode": {
    "name": "ipython",
    "version": 3
   },
   "file_extension": ".py",
   "mimetype": "text/x-python",
   "name": "python",
   "nbconvert_exporter": "python",
   "pygments_lexer": "ipython3",
   "version": "3.11.4"
  },
  "toc": {
   "base_numbering": 1,
   "nav_menu": {},
   "number_sections": true,
   "sideBar": true,
   "skip_h1_title": false,
   "title_cell": "Table of Contents",
   "title_sidebar": "Contents",
   "toc_cell": true,
   "toc_position": {},
   "toc_section_display": true,
   "toc_window_display": false
  },
  "varInspector": {
   "cols": {
    "lenName": 16,
    "lenType": 16,
    "lenVar": 40
   },
   "kernels_config": {
    "python": {
     "delete_cmd_postfix": "",
     "delete_cmd_prefix": "del ",
     "library": "var_list.py",
     "varRefreshCmd": "print(var_dic_list())"
    },
    "r": {
     "delete_cmd_postfix": ") ",
     "delete_cmd_prefix": "rm(",
     "library": "var_list.r",
     "varRefreshCmd": "cat(var_dic_list()) "
    }
   },
   "types_to_exclude": [
    "module",
    "function",
    "builtin_function_or_method",
    "instance",
    "_Feature"
   ],
   "window_display": false
  }
 },
 "nbformat": 4,
 "nbformat_minor": 4
}
