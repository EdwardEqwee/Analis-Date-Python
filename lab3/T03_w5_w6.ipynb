{
 "cells": [
  {
   "cell_type": "markdown",
   "metadata": {
    "toc": true
   },
   "source": [
    "<h1>Table of Contents<span class=\"tocSkip\"></span></h1>\n",
    "<div class=\"toc\"><ul class=\"toc-item\"><li><span><a href=\"#Тема-3.-Функции\" data-toc-modified-id=\"Тема-3.-Функции-1\"><span class=\"toc-item-num\">1&nbsp;&nbsp;</span>Тема 3. Функции</a></span></li><li><span><a href=\"#Задания\" data-toc-modified-id=\"Задания-2\"><span class=\"toc-item-num\">2&nbsp;&nbsp;</span>Задания</a></span></li></ul></div>"
   ]
  },
  {
   "cell_type": "markdown",
   "metadata": {},
   "source": [
    "\n",
    "# Тема 3. Функции"
   ]
  },
  {
   "cell_type": "markdown",
   "metadata": {},
   "source": [
    "# Задания\n",
    "\n",
    "Выполните задания\n",
    "\n"
   ]
  },
  {
   "cell_type": "markdown",
   "metadata": {},
   "source": [
    "1. Имеется список из 20 случайных чисел от 0 до 100. Напишите функцию, которая разбивает этот список на $n$ списков по $k$ элементов и включает все эти списки в новый список. Используйте $k$ в качестве параметра функции.\n",
    "\n",
    "2. Напишите функцию, вычисляющую факториал числа, передаваемого в качестве параметра.\n",
    "\n",
    "3. Написать функцию умножения, принимающую от одного до трех параметров. Функцию вызвать с приведенными ниже аргументами. Для случая a4 выбрать 3 первых и 3 последних значения.\n",
    "```\n",
    "a1 = (15, 10 ,5)\n",
    "a2 = (3, 1)\n",
    "a3 = [2, 35, 55]\n",
    "a4 = (5, 10 ,15, 20)\n",
    "```\n",
    "\n",
    "4. Напишите функцию, которая для заданного радиуса r вычисляет площадь круга и длину окружности. Функция возвращает кортеж из 2 значений.\n",
    "\n",
    "5. Реализовать функции для выполнения четырех арифметических операций, преобразующих целые числа в целое число. Создать словарь с функциями исоответствующими им симв олами операций. Для двух заранее заданных целых чисел (например, 25 и 4) выполнить выбранную пользователем арифметическую операцию.\n",
    "\n",
    "6. Написать калькулятор для строковых выражений вида '<число> <операция> <число>', где <число> - целое число, например 113, <арифметическая операция> - одна из операций `+,-,*,//,%,^`. Пример: `calc('13 - 5') -> 8`\n",
    "\n",
    "7. Написать функцию, которая преобразует целое число (от 0 до 999) из текстового представления на русском языке в число типа int. Пример: `to_int('тридцать три') -> 33`\n",
    "\n",
    "8. Написать функцию, которая преобразует целое число (от 0 до 999) из текстового представления на русском языке в число типа int. И сообщает об ошибках (выводит на экран описание типа ошибки и возвращает число -1). Пример: to_int('тридцать три') -> 33 Пример: to_int(\"сто сорок тридцать два сто\") -> -1 Вывод: тридцать - некорректное расположение в числе."
   ]
  },
  {
   "cell_type": "markdown",
   "metadata": {},
   "source": [
    "\n",
    "\n",
    "1. Имеется список из 20 случайных чисел от 0 до 100. Напишите функцию, которая разбивает этот список на $n$ списков по $k$ элементов и включает все эти списки в новый список. Используйте $k$ в качестве параметра функции."
   ]
  },
  {
   "cell_type": "code",
   "execution_count": 1,
   "metadata": {},
   "outputs": [
    {
     "name": "stdout",
     "output_type": "stream",
     "text": [
      "Список 1: [30, 97, 30, 40, 41]\n",
      "Список 2: [48, 92, 65, 96, 4]\n",
      "Список 3: [82, 19, 56, 64, 100]\n",
      "Список 4: [11, 68, 9, 40, 2]\n"
     ]
    }
   ],
   "source": [
    "import random\n",
    "\n",
    "def split_list(input_list, n, k):\n",
    "    if n * k != len(input_list):\n",
    "        raise ValueError(\"Total number of elements in sublists (n * k) must equal the length of the input list.\")\n",
    "\n",
    "    result = []\n",
    "\n",
    "    for i in range(0, len(input_list), k):\n",
    "        sublist = input_list[i:i + k]\n",
    "        result.append(sublist)\n",
    "\n",
    "    return result\n",
    "\n",
    "\n",
    "\n",
    "num = [random.randint(0, 100) for _ in range(20)]\n",
    "\n",
    "n = 4  \n",
    "k = 5  \n",
    "sublists = split_list(num, n, k)\n",
    "\n",
    "for i, sublist in enumerate(sublists, 1):\n",
    "    print(f\"Список {i}: {sublist}\")\n"
   ]
  },
  {
   "cell_type": "markdown",
   "metadata": {},
   "source": [
    "2. Напишите функцию, вычисляющую факториал числа, передаваемого в качестве параметра."
   ]
  },
  {
   "cell_type": "code",
   "execution_count": 2,
   "metadata": {},
   "outputs": [],
   "source": [
    "def factorial(n):\n",
    "    if n == 0:\n",
    "        return 1\n",
    "    else:\n",
    "        return n * factorial(n - 1)\n",
    "    \n",
    "a = int(input())\n",
    "print(factorial(a))"
   ]
  },
  {
   "cell_type": "markdown",
   "metadata": {},
   "source": [
    "3. Написать функцию умножения, принимающую от одного до трех параметров. Функцию вызвать с приведенными ниже аргументами. Для случая a4 выбрать 3 первых и 3 последних значения.\n",
    "```\n",
    "a1 = (15, 10 ,5)\n",
    "a2 = (3, 1)\n",
    "a3 = [2, 35, 55]\n",
    "a4 = (5, 10 ,15, 20)\n",
    "```"
   ]
  },
  {
   "cell_type": "code",
   "execution_count": 4,
   "metadata": {},
   "outputs": [
    {
     "name": "stdout",
     "output_type": "stream",
     "text": [
      "Результат a1: 750\n",
      "Результат a2: 3\n",
      "Результат a3: 3850\n",
      "Результат a4 (первые 3 и последние 3 элемента): 2250000\n"
     ]
    }
   ],
   "source": [
    "def multip(a, b=1, c=1):\n",
    "    return a * b * c\n",
    "\n",
    "a1 = (15, 10, 5)\n",
    "a2 = (3, 1)\n",
    "a3 = [2, 35, 55]\n",
    "a4 = (5, 10, 15, 20)\n",
    "\n",
    "result_a1 = multip(*a1)  \n",
    "result_a2 = multip(*a2)  \n",
    "result_a3 = multip(*a3)  \n",
    "result_a4 = multip(*a4[:3]) * multip(*a4[-3:])  \n",
    "\n",
    "print(f\"Результат a1: {result_a1}\")\n",
    "print(f\"Результат a2: {result_a2}\")\n",
    "print(f\"Результат a3: {result_a3}\")\n",
    "print(f\"Результат a4 (первые 3 и последние 3 элемента): {result_a4}\")\n"
   ]
  },
  {
   "cell_type": "markdown",
   "metadata": {},
   "source": [
    "4. Напишите функцию, которая для заданного радиуса r вычисляет площадь круга и длину окружности. Функция возвращает кортеж из 2 значений."
   ]
  },
  {
   "cell_type": "code",
   "execution_count": 1,
   "metadata": {},
   "outputs": [
    {
     "ename": "ValueError",
     "evalue": "could not convert string to float: ''",
     "output_type": "error",
     "traceback": [
      "\u001b[1;31m---------------------------------------------------------------------------\u001b[0m",
      "\u001b[1;31mValueError\u001b[0m                                Traceback (most recent call last)",
      "\u001b[1;32mc:\\Users\\cated\\Downloads\\питон\\T03_w5_w6.ipynb Cell 12\u001b[0m line \u001b[0;36m1\n\u001b[0;32m      <a href='vscode-notebook-cell:/c%3A/Users/cated/Downloads/%D0%BF%D0%B8%D1%82%D0%BE%D0%BD/T03_w5_w6.ipynb#X14sZmlsZQ%3D%3D?line=8'>9</a>\u001b[0m     circum \u001b[39m=\u001b[39m \u001b[39m2\u001b[39m \u001b[39m*\u001b[39m math\u001b[39m.\u001b[39mpi \u001b[39m*\u001b[39m r\n\u001b[0;32m     <a href='vscode-notebook-cell:/c%3A/Users/cated/Downloads/%D0%BF%D0%B8%D1%82%D0%BE%D0%BD/T03_w5_w6.ipynb#X14sZmlsZQ%3D%3D?line=10'>11</a>\u001b[0m     \u001b[39mreturn\u001b[39;00m (area, circum)\n\u001b[1;32m---> <a href='vscode-notebook-cell:/c%3A/Users/cated/Downloads/%D0%BF%D0%B8%D1%82%D0%BE%D0%BD/T03_w5_w6.ipynb#X14sZmlsZQ%3D%3D?line=13'>14</a>\u001b[0m radius \u001b[39m=\u001b[39m \u001b[39mfloat\u001b[39m(\u001b[39minput\u001b[39m(\u001b[39m\"\u001b[39m\u001b[39mВведите радиус круга: \u001b[39m\u001b[39m\"\u001b[39m))\n\u001b[0;32m     <a href='vscode-notebook-cell:/c%3A/Users/cated/Downloads/%D0%BF%D0%B8%D1%82%D0%BE%D0%BD/T03_w5_w6.ipynb#X14sZmlsZQ%3D%3D?line=16'>17</a>\u001b[0m circle_pr \u001b[39m=\u001b[39m circle_properties(radius)\n\u001b[0;32m     <a href='vscode-notebook-cell:/c%3A/Users/cated/Downloads/%D0%BF%D0%B8%D1%82%D0%BE%D0%BD/T03_w5_w6.ipynb#X14sZmlsZQ%3D%3D?line=18'>19</a>\u001b[0m \u001b[39mif\u001b[39;00m circle_properties:\n",
      "\u001b[1;31mValueError\u001b[0m: could not convert string to float: ''"
     ]
    },
    {
     "name": "stdout",
     "output_type": "stream",
     "text": [
      "12\n"
     ]
    }
   ],
   "source": [
    "import math\n",
    "\n",
    "def circle_properties(r):\n",
    "    if r < 0:\n",
    "        return None  \n",
    "\n",
    "\n",
    "    area = math.pi * r**2\n",
    "    circum = 2 * math.pi * r\n",
    "\n",
    "    return (area, circum)\n",
    "\n",
    "\n",
    "radius = float(input(\"Введите радиус круга: \"))\n",
    "\n",
    "\n",
    "circle_pr = circle_properties(radius)\n",
    "\n",
    "if circle_properties:\n",
    "    area, circum = circle_pr\n",
    "    print(f\"Площадь круга: {area:.2f}\")\n",
    "    print(f\"Длина окружности: {circum:.2f}\")\n",
    "else:\n",
    "    print(\"Радиус должен быть неотрицательным числом.\")\n"
   ]
  },
  {
   "cell_type": "markdown",
   "metadata": {},
   "source": [
    "5. Реализовать функции для выполнения четырех арифметических операций, преобразующих целые числа в целое число. Создать словарь с функциями исоответствующими им симв олами операций. Для двух заранее заданных целых чисел (например, 25 и 4) выполнить выбранную пользователем арифметическую операцию."
   ]
  },
  {
   "cell_type": "code",
   "execution_count": 7,
   "metadata": {},
   "outputs": [
    {
     "name": "stdout",
     "output_type": "stream",
     "text": [
      "Введите первое целое число: 23\n",
      "Введите второе целое число: 15\n",
      "Выберите операцию (+, -, *, /): +\n",
      "Результат операции: 38\n"
     ]
    }
   ],
   "source": [
    "def add(x, y):\n",
    "    return x + y\n",
    "\n",
    "def subtract(x, y):\n",
    "    return x - y\n",
    "\n",
    "def multiply(x, y):\n",
    "    return x * y\n",
    "\n",
    "def divide(x, y):\n",
    "    if y == 0:\n",
    "        return \"Деление на ноль недопустимо\"\n",
    "    return x / y\n",
    "\n",
    "operations = {\n",
    "    '+': add,\n",
    "    '-': subtract,\n",
    "    '*': multiply,\n",
    "    '/': divide\n",
    "}\n",
    "\n",
    "num1 = int(input(\"Введите первое целое число: \"))\n",
    "num2 = int(input(\"Введите второе целое число: \"))\n",
    "\n",
    "\n",
    "operation = input(\"Выберите операцию (+, -, *, /): \")\n",
    "\n",
    "\n",
    "if operation not in operations:\n",
    "    print(\"Недопустимая операция\")\n",
    "else:\n",
    "\n",
    "    result = operations[operation](num1, num2)\n",
    "    print(f\"Результат операции: {result}\")"
   ]
  },
  {
   "cell_type": "markdown",
   "metadata": {},
   "source": [
    "6. Написать калькулятор для строковых выражений вида '<число> <операция> <число>', где <число> - целое число, например 113, <арифметическая операция> - одна из операций `+,-,*,//,%,^`. Пример: `calc('13 - 5') -> 8`"
   ]
  },
  {
   "cell_type": "code",
   "execution_count": 2,
   "metadata": {},
   "outputs": [
    {
     "name": "stdout",
     "output_type": "stream",
     "text": [
      "120 - 20\n",
      "Результат: 100.0\n"
     ]
    }
   ],
   "source": [
    "def calc(expression):\n",
    "    try:\n",
    "        num1, operator, num2 = expression.split()\n",
    "        num1 = float(num1)\n",
    "        num2 = float(num2)\n",
    "\n",
    "        if operator == '+':\n",
    "            result = num1 + num2\n",
    "        elif operator == '-':\n",
    "            result = num1 - num2\n",
    "        elif operator == '*':\n",
    "            result = num1 * num2\n",
    "        elif operator == '/':\n",
    "            if num2 == 0:\n",
    "                return \"Деление на ноль недопустимо\"\n",
    "            result = num1 / num2\n",
    "        elif operator == '%':\n",
    "            result = num1 % num2\n",
    "        elif operator == '^':\n",
    "            result = num1 ** num2\n",
    "        else:\n",
    "            return \"Недопустимая операция\"\n",
    "        \n",
    "        return result\n",
    "    except (ValueError, ZeroDivisionError):\n",
    "        return \"Некорректное выражение\"\n",
    "\n",
    "expression = input( )\n",
    "result = calc(expression)\n",
    "print(f\"Результат: {result}\")\n"
   ]
  },
  {
   "cell_type": "markdown",
   "metadata": {},
   "source": [
    "7. Написать функцию, которая преобразует целое число (от 0 до 999) из текстового представления на русском языке в число типа int. Пример: `to_int('тридцать три') -> 33`"
   ]
  },
  {
   "cell_type": "code",
   "execution_count": 14,
   "metadata": {},
   "outputs": [
    {
     "name": "stdout",
     "output_type": "stream",
     "text": [
      "двадцать два\n",
      "Результат: 22\n"
     ]
    }
   ],
   "source": [
    "def to_int(text):\n",
    "\n",
    "    numbers = {\n",
    "        'ноль': 0, 'один': 1, 'два': 2, 'три': 3, 'четыре': 4, 'пять': 5, 'шесть': 6, 'семь': 7, 'восемь': 8, 'девять': 9,\n",
    "        'десять': 10, 'одиннадцать': 11, 'двенадцать': 12, 'тринадцать': 13, 'четырнадцать': 14, 'пятнадцать': 15,\n",
    "        'шестнадцать': 16, 'семнадцать': 17, 'восемнадцать': 18, 'девятнадцать': 19,\n",
    "    }\n",
    "    \n",
    "    tens = {\n",
    "        'двадцать': 20, 'тридцать': 30, 'сорок': 40, 'пятьдесят': 50, 'шестьдесят': 60, 'семьдесят': 70, 'восемьдесят': 80, 'девяносто': 90,\n",
    "    }\n",
    "    \n",
    "\n",
    "    words = text.split()\n",
    "\n",
    "\n",
    "    number = 0\n",
    "    total = 0\n",
    "    \n",
    "    for word in words:\n",
    "\n",
    "        if word in numbers:\n",
    "            number += numbers[word]\n",
    "        elif word in tens:\n",
    "            number += tens[word]\n",
    "        else:\n",
    "            return \"Некорректное число\"\n",
    "        \n",
    "\n",
    "        if word == 'тысяча':\n",
    "            number *= 1000\n",
    "            total += number\n",
    "            number = 0\n",
    "    \n",
    "\n",
    "    total += number\n",
    "    \n",
    "    return total\n",
    "\n",
    "\n",
    "text  = input( )\n",
    "result = to_int(text)\n",
    "print(f\"Результат: {result}\")\n"
   ]
  },
  {
   "cell_type": "markdown",
   "metadata": {},
   "source": [
    "8. Написать функцию, которая преобразует целое число (от 0 до 999) из текстового представления на русском языке в число типа int. И сообщает об ошибках (выводит на экран описание типа ошибки и возвращает число -1). Пример: to_int('тридцать три') -> 33 Пример: to_int(\"сто сорок тридцать два сто\") -> -1 Вывод: тридцать - некорректное расположение в числе."
   ]
  },
  {
   "cell_type": "code",
   "execution_count": 11,
   "metadata": {},
   "outputs": [
    {
     "name": "stdout",
     "output_type": "stream",
     "text": [
      "Результат 1: Некорректное число\n"
     ]
    }
   ],
   "source": [
    "def to_int(text):\n",
    "    # Создаем словари, связывающие текстовые представления чисел и их числовые значения\n",
    "    numbers = {\n",
    "        'ноль': 0, 'один': 1, 'два': 2, 'три': 3, 'четыре': 4, 'пять': 5, 'шесть': 6, 'семь': 7, 'восемь': 8, 'девять': 9,\n",
    "        'десять': 10, 'одиннадцать': 11, 'двенадцать': 12, 'тринадцать': 13, 'четырнадцать': 14, 'пятнадцать': 15,\n",
    "        'шестнадцать': 16, 'семнадцать': 17, 'восемнадцать': 18, 'девятнадцать': 19,\n",
    "        'двадцать': 20, 'тридцать': 30, 'сорок': 40, 'пятьдесят': 50, 'шестьдесят': 60, 'семьдесят': 70, 'восемьдесят': 80, 'девяносто': 90,\n",
    "    }\n",
    "    \n",
    "    # Разбиваем текст на слова\n",
    "    words = text.split()\n",
    "\n",
    "    # Инициализируем переменные для хранения числа и суммы\n",
    "    number = 0\n",
    "    total = 0\n",
    "    previous_number = None\n",
    "\n",
    "    for word in words:\n",
    "        # Если слово находится в словаре \"numbers\", добавляем его значение к сумме\n",
    "        if word in numbers:\n",
    "            number += numbers[word]\n",
    "            if previous_number is not None and previous_number > numbers[word]:\n",
    "                return f\"{word} - некорректное расположение в числе\"\n",
    "            previous_number = numbers[word]\n",
    "        else:\n",
    "            return \"Некорректное число\"\n",
    "        \n",
    "        if word == 'сто':\n",
    "            if previous_number is not None and previous_number != 1:\n",
    "                return \"Сто - некорректное расположение в числе\"\n",
    "            number = 100\n",
    "\n",
    "        if word == 'тысяч':\n",
    "            if previous_number is not None and previous_number < 1:\n",
    "                return \"Тысяч - некорректное расположение в числе\"\n",
    "            total += number\n",
    "            number = 0\n",
    "            previous_number = None\n",
    "    \n",
    "    # Добавляем оставшееся число к сумме\n",
    "    total += number\n",
    "    \n",
    "    return total\n",
    "\n",
    "# Пример использования\n",
    "text1 = \"сорок четыри\"\n",
    "result1 = to_int(text1)\n",
    "print(f\"Результат 1: {result1}\")\n",
    "\n",
    "\n"
   ]
  },
  {
   "cell_type": "markdown",
   "metadata": {},
   "source": []
  }
 ],
 "metadata": {
  "kernelspec": {
   "display_name": "Python 3 (ipykernel)",
   "language": "python",
   "name": "python3"
  },
  "language_info": {
   "codemirror_mode": {
    "name": "ipython",
    "version": 3
   },
   "file_extension": ".py",
   "mimetype": "text/x-python",
   "name": "python",
   "nbconvert_exporter": "python",
   "pygments_lexer": "ipython3",
   "version": "3.11.4"
  },
  "toc": {
   "base_numbering": 1,
   "nav_menu": {},
   "number_sections": true,
   "sideBar": true,
   "skip_h1_title": false,
   "title_cell": "Table of Contents",
   "title_sidebar": "Contents",
   "toc_cell": true,
   "toc_position": {},
   "toc_section_display": true,
   "toc_window_display": false
  },
  "varInspector": {
   "cols": {
    "lenName": 16,
    "lenType": 16,
    "lenVar": 40
   },
   "kernels_config": {
    "python": {
     "delete_cmd_postfix": "",
     "delete_cmd_prefix": "del ",
     "library": "var_list.py",
     "varRefreshCmd": "print(var_dic_list())"
    },
    "r": {
     "delete_cmd_postfix": ") ",
     "delete_cmd_prefix": "rm(",
     "library": "var_list.r",
     "varRefreshCmd": "cat(var_dic_list()) "
    }
   },
   "types_to_exclude": [
    "module",
    "function",
    "builtin_function_or_method",
    "instance",
    "_Feature"
   ],
   "window_display": false
  }
 },
 "nbformat": 4,
 "nbformat_minor": 4
}
