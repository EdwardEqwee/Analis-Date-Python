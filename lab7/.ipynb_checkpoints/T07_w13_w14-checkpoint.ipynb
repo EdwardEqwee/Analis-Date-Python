{
 "cells": [
  {
   "cell_type": "markdown",
   "metadata": {
    "toc": true
   },
   "source": [
    "<h1>Table of Contents<span class=\"tocSkip\"></span></h1>\n",
    "<div class=\"toc\"><ul class=\"toc-item\"><li><span><a href=\"#Библиотека-Pandas\" data-toc-modified-id=\"Библиотека-Pandas-1\"><span class=\"toc-item-num\">1&nbsp;&nbsp;</span>Библиотека Pandas</a></span></li><li><span><a href=\"#Раздел-1.-Создание-таблиц-из-коллекций\" data-toc-modified-id=\"Раздел-1.-Создание-таблиц-из-коллекций-2\"><span class=\"toc-item-num\">2&nbsp;&nbsp;</span>Раздел 1. Создание таблиц из коллекций</a></span></li><li><span><a href=\"#Раздел-2.-Извлечение-данных-по-условию\" data-toc-modified-id=\"Раздел-2.-Извлечение-данных-по-условию-3\"><span class=\"toc-item-num\">3&nbsp;&nbsp;</span>Раздел 2. Извлечение данных по условию</a></span><ul class=\"toc-item\"><li><ul class=\"toc-item\"><li><span><a href=\"#Работа-с-набором-данных-Financial-Sample\" data-toc-modified-id=\"Работа-с-набором-данных-Financial-Sample-3.0.1\"><span class=\"toc-item-num\">3.0.1&nbsp;&nbsp;</span>Работа с набором данных <em>Financial Sample</em></a></span></li><li><span><a href=\"#Извлечение-данных-по-условию\" data-toc-modified-id=\"Извлечение-данных-по-условию-3.0.2\"><span class=\"toc-item-num\">3.0.2&nbsp;&nbsp;</span>Извлечение данных по условию</a></span></li></ul></li><li><span><a href=\"#Раздел-3.-Группировка-данных\" data-toc-modified-id=\"Раздел-3.-Группировка-данных-3.1\"><span class=\"toc-item-num\">3.1&nbsp;&nbsp;</span>Раздел 3. Группировка данных</a></span></li></ul></li></ul></div>"
   ]
  },
  {
   "cell_type": "markdown",
   "metadata": {
    "id": "2Yn_cT5q5eWw"
   },
   "source": [
    "\n",
    "\n",
    "# Библиотека Pandas"
   ]
  },
  {
   "cell_type": "code",
   "execution_count": 1,
   "metadata": {
    "id": "O3_eV5N1mBsX"
   },
   "outputs": [],
   "source": [
    "import pandas as pd"
   ]
  },
  {
   "cell_type": "markdown",
   "metadata": {},
   "source": [
    "# Раздел 1. Создание таблиц из коллекций"
   ]
  },
  {
   "cell_type": "markdown",
   "metadata": {
    "id": "5lpvxhPt14Rz"
   },
   "source": [
    "<p style=\"font-size:125%; color:#119988; background-color:#EEE\">Задание 1.1</p>\n",
    "\n",
    "Имеется *серия*, содержащая числа от 10 до 1000. Какое число содержит элемент с индексом 175? Вычислите разность элементов с индексами 900 и 16."
   ]
  },
  {
   "cell_type": "code",
   "execution_count": 4,
   "metadata": {
    "id": "dwKG6XBG2aGI"
   },
   "outputs": [
    {
     "name": "stdout",
     "output_type": "stream",
     "text": [
      "Число с индексом 175: 185\n",
      "Разность между элементами с индексами 900 и 16: 884\n"
     ]
    }
   ],
   "source": [
    "# 1.1. Ваш код здесь\n",
    "s = pd.Series(range(10,1001))\n",
    "\n",
    "# Найти число с индексом 175\n",
    "number_at_index_175 = s.iloc[175]\n",
    "\n",
    "# Вычислить разность между элементами с индексами 900 и 16\n",
    "difference_between_indices_900_and_16 = s.iloc[900] - s.iloc[16]\n",
    "\n",
    "print(\"Число с индексом 175:\", number_at_index_175)\n",
    "print(\"Разность между элементами с индексами 900 и 16:\", difference_between_indices_900_and_16)"
   ]
  },
  {
   "cell_type": "markdown",
   "metadata": {
    "id": "KxLDOxlXHcnw"
   },
   "source": [
    "<p style=\"font-size:125%; color:#119988; background-color:#EEE\">Задание 1.2</p>\n",
    "\n",
    "Мебельная фабрика выпускает продукцию  наименований: диваны, кровати, трюмо. Создайте таблицу *DatаFrame*, содержащую: количество призведенной продукции каждого наименования, остаток на складе фабрики. Наименования разместите в строках, а количество и остаток в столбцах."
   ]
  },
  {
   "cell_type": "code",
   "execution_count": 5,
   "metadata": {
    "id": "dwKG6XBG2aGI"
   },
   "outputs": [
    {
     "name": "stdout",
     "output_type": "stream",
     "text": [
      "              Произведено  Остаток на складе\n",
      "Наименование                                \n",
      "Диваны                100                 10\n",
      "Кровати               150                 20\n",
      "Трюмо                  50                  5\n"
     ]
    }
   ],
   "source": [
    "# 1.2. Ваш код здесь\n",
    "# Создаем словарь с данными\n",
    "data = {\n",
    "    'Наименование': ['Диваны', 'Кровати', 'Трюмо'],\n",
    "    'Произведено': [100, 150, 50],\n",
    "    'Остаток на складе': [10, 20, 5]\n",
    "}\n",
    "\n",
    "# Создаем DataFrame\n",
    "df = pd.DataFrame(data)\n",
    "\n",
    "# Устанавливаем 'Наименование' в качестве индекса\n",
    "df.set_index('Наименование', inplace=True)\n",
    "\n",
    "# Выводим DataFrame\n",
    "print(df)\n"
   ]
  },
  {
   "cell_type": "markdown",
   "metadata": {
    "id": "4-VMbARUiXxB"
   },
   "source": [
    "<p style=\"font-size:125%; color:#119988; background-color:#EEE\">Задание 1.3</p>\n",
    "\n",
    "Разделите столбец **car** таблицы **market** на два столбца: **mark** (марка) и **model** (модель).\n",
    "\n",
    "```\n",
    "market = pd.DataFrame({'car':['Lada Granta','Lada Vesta','Kia Rio','Hyunday Creta'], \n",
    "                       'year':[2019,2018,2010,2015], \n",
    "                       'condition':[75,104,20,90], 'km':[130000,210000,75000,94000]})\n",
    "```"
   ]
  },
  {
   "cell_type": "code",
   "execution_count": 9,
   "metadata": {},
   "outputs": [
    {
     "name": "stdout",
     "output_type": "stream",
     "text": [
      "   year  condition      km     mark   model\n",
      "0  2019         75  130000     Lada  Granta\n",
      "1  2018        104  210000     Lada   Vesta\n",
      "2  2010         20   75000      Kia     Rio\n",
      "3  2015         90   94000  Hyundai   Creta\n"
     ]
    }
   ],
   "source": [
    "# 1.3. Ваш код здесь\n",
    "\n",
    "data = {'car': ['Lada Granta', 'Lada Vesta', 'Kia Rio', 'Hyundai Creta'],\n",
    "        'year': [2019, 2018, 2010, 2015],\n",
    "        'condition': [75, 104, 20, 90],\n",
    "        'km': [130000, 210000, 75000, 94000]}\n",
    "\n",
    "market = pd.DataFrame(data)\n",
    "\n",
    "# Разделить столбец 'car' на два столбца 'mark' и 'model'\n",
    "market[['mark', 'model']] = market['car'].str.split(pat=' ', n=1, expand=True)\n",
    "\n",
    "# Удалить исходный столбец 'car', если не нужен\n",
    "market.drop('car', axis=1, inplace=True)\n",
    "\n",
    "# Вывести получившийся DataFrame\n",
    "print(market)"
   ]
  },
  {
   "cell_type": "markdown",
   "metadata": {},
   "source": [
    "<p style=\"font-size:125%; color:#119988; background-color:#EEE\">Задание 1.4</p>\n",
    "\n",
    "Имеются исторические данные о цене акции в виде таблицы DataFrame.\n",
    "\n",
    "```\n",
    "history=pd.DataFrame([[150,20,140,140],[140,31,152,150],\n",
    "                     [147,17,180,164],[129,33,150,167]],\n",
    "                     columns=['Open','Low','High','Close'],\n",
    "                     index=['2020-12-07','2020-12-08','2020-12-09','2020-12-10'])\n",
    "```\n",
    "Найдите минимальную и максимальную цены закрытия, стандартное отклонение цены открытия, среднее значение самой низкой (Low) цены и медиану самой высокой (High) цены."
   ]
  },
  {
   "cell_type": "code",
   "execution_count": 10,
   "metadata": {},
   "outputs": [
    {
     "name": "stdout",
     "output_type": "stream",
     "text": [
      "Минимальная цена закрытия: 140\n",
      "Максимальная цена закрытия: 167\n",
      "Стандартное отклонение цены открытия: 9.327379053088816\n",
      "Среднее значение самой низкой цены: 25.25\n",
      "Медиана самой высокой цены: 151.0\n"
     ]
    }
   ],
   "source": [
    "# 1.4. Ваш код здесь\n",
    "\n",
    "data = [[150, 20, 140, 140],\n",
    "        [140, 31, 152, 150],\n",
    "        [147, 17, 180, 164],\n",
    "        [129, 33, 150, 167]]\n",
    "\n",
    "columns = ['Open', 'Low', 'High', 'Close']\n",
    "index = ['2020-12-07', '2020-12-08', '2020-12-09', '2020-12-10']\n",
    "\n",
    "history = pd.DataFrame(data, columns=columns, index=index)\n",
    "\n",
    "# Найдите минимальную и максимальную цены закрытия (Close)\n",
    "min_close = history['Close'].min()\n",
    "max_close = history['Close'].max()\n",
    "\n",
    "# Стандартное отклонение цены открытия (Open)\n",
    "std_open = history['Open'].std()\n",
    "\n",
    "# Среднее значение самой низкой (Low) цены\n",
    "mean_low = history['Low'].mean()\n",
    "\n",
    "# Медиана самой высокой (High) цены\n",
    "median_high = history['High'].median()\n",
    "\n",
    "print(\"Минимальная цена закрытия:\", min_close)\n",
    "print(\"Максимальная цена закрытия:\", max_close)\n",
    "print(\"Стандартное отклонение цены открытия:\", std_open)\n",
    "print(\"Среднее значение самой низкой цены:\", mean_low)\n",
    "print(\"Медиана самой высокой цены:\", median_high)"
   ]
  },
  {
   "cell_type": "markdown",
   "metadata": {},
   "source": [
    "# Раздел 2. Извлечение данных по условию\n",
    "\n",
    "### Работа с набором данных *Financial Sample*"
   ]
  },
  {
   "cell_type": "code",
   "execution_count": 22,
   "metadata": {},
   "outputs": [
    {
     "data": {
      "text/html": [
       "<div>\n",
       "<style scoped>\n",
       "    .dataframe tbody tr th:only-of-type {\n",
       "        vertical-align: middle;\n",
       "    }\n",
       "\n",
       "    .dataframe tbody tr th {\n",
       "        vertical-align: top;\n",
       "    }\n",
       "\n",
       "    .dataframe thead th {\n",
       "        text-align: right;\n",
       "    }\n",
       "</style>\n",
       "<table border=\"1\" class=\"dataframe\">\n",
       "  <thead>\n",
       "    <tr style=\"text-align: right;\">\n",
       "      <th></th>\n",
       "      <th>Id</th>\n",
       "      <th>Segment</th>\n",
       "      <th>Country</th>\n",
       "      <th>Product</th>\n",
       "      <th>DiscountBand</th>\n",
       "      <th>UnitsSold</th>\n",
       "      <th>ManufacturingPrice</th>\n",
       "      <th>SalePrice</th>\n",
       "      <th>GrossSales</th>\n",
       "      <th>Discounts</th>\n",
       "      <th>Sales</th>\n",
       "      <th>COGS</th>\n",
       "      <th>Profit</th>\n",
       "      <th>Date</th>\n",
       "      <th>MonthNumber</th>\n",
       "      <th>MonthName</th>\n",
       "      <th>Year</th>\n",
       "    </tr>\n",
       "  </thead>\n",
       "  <tbody>\n",
       "    <tr>\n",
       "      <th>0</th>\n",
       "      <td>1</td>\n",
       "      <td>Government</td>\n",
       "      <td>Canada</td>\n",
       "      <td>Carretera</td>\n",
       "      <td>None</td>\n",
       "      <td>1618.5</td>\n",
       "      <td>3.0</td>\n",
       "      <td>20.0</td>\n",
       "      <td>32370.0</td>\n",
       "      <td>0.0</td>\n",
       "      <td>32370.0</td>\n",
       "      <td>16185.0</td>\n",
       "      <td>16185.0</td>\n",
       "      <td>2014-01-01</td>\n",
       "      <td>1.0</td>\n",
       "      <td>January</td>\n",
       "      <td>2014.0</td>\n",
       "    </tr>\n",
       "    <tr>\n",
       "      <th>1</th>\n",
       "      <td>2</td>\n",
       "      <td>Government</td>\n",
       "      <td>Germany</td>\n",
       "      <td>Carretera</td>\n",
       "      <td>None</td>\n",
       "      <td>1321.0</td>\n",
       "      <td>3.0</td>\n",
       "      <td>20.0</td>\n",
       "      <td>26420.0</td>\n",
       "      <td>0.0</td>\n",
       "      <td>26420.0</td>\n",
       "      <td>13210.0</td>\n",
       "      <td>13210.0</td>\n",
       "      <td>2014-01-01</td>\n",
       "      <td>1.0</td>\n",
       "      <td>January</td>\n",
       "      <td>2014.0</td>\n",
       "    </tr>\n",
       "    <tr>\n",
       "      <th>2</th>\n",
       "      <td>3</td>\n",
       "      <td>Midmarket</td>\n",
       "      <td>France</td>\n",
       "      <td>Carretera</td>\n",
       "      <td>None</td>\n",
       "      <td>2178.0</td>\n",
       "      <td>3.0</td>\n",
       "      <td>15.0</td>\n",
       "      <td>32670.0</td>\n",
       "      <td>0.0</td>\n",
       "      <td>32670.0</td>\n",
       "      <td>21780.0</td>\n",
       "      <td>10890.0</td>\n",
       "      <td>2014-06-01</td>\n",
       "      <td>6.0</td>\n",
       "      <td>June</td>\n",
       "      <td>2014.0</td>\n",
       "    </tr>\n",
       "    <tr>\n",
       "      <th>3</th>\n",
       "      <td>4</td>\n",
       "      <td>Midmarket</td>\n",
       "      <td>Germany</td>\n",
       "      <td>Carretera</td>\n",
       "      <td>None</td>\n",
       "      <td>888.0</td>\n",
       "      <td>3.0</td>\n",
       "      <td>15.0</td>\n",
       "      <td>13320.0</td>\n",
       "      <td>0.0</td>\n",
       "      <td>13320.0</td>\n",
       "      <td>8880.0</td>\n",
       "      <td>4440.0</td>\n",
       "      <td>2014-06-01</td>\n",
       "      <td>6.0</td>\n",
       "      <td>June</td>\n",
       "      <td>2014.0</td>\n",
       "    </tr>\n",
       "    <tr>\n",
       "      <th>4</th>\n",
       "      <td>5</td>\n",
       "      <td>Midmarket</td>\n",
       "      <td>Mexico</td>\n",
       "      <td>Carretera</td>\n",
       "      <td>None</td>\n",
       "      <td>2470.0</td>\n",
       "      <td>3.0</td>\n",
       "      <td>15.0</td>\n",
       "      <td>37050.0</td>\n",
       "      <td>0.0</td>\n",
       "      <td>37050.0</td>\n",
       "      <td>24700.0</td>\n",
       "      <td>12350.0</td>\n",
       "      <td>2014-06-01</td>\n",
       "      <td>6.0</td>\n",
       "      <td>June</td>\n",
       "      <td>2014.0</td>\n",
       "    </tr>\n",
       "    <tr>\n",
       "      <th>...</th>\n",
       "      <td>...</td>\n",
       "      <td>...</td>\n",
       "      <td>...</td>\n",
       "      <td>...</td>\n",
       "      <td>...</td>\n",
       "      <td>...</td>\n",
       "      <td>...</td>\n",
       "      <td>...</td>\n",
       "      <td>...</td>\n",
       "      <td>...</td>\n",
       "      <td>...</td>\n",
       "      <td>...</td>\n",
       "      <td>...</td>\n",
       "      <td>...</td>\n",
       "      <td>...</td>\n",
       "      <td>...</td>\n",
       "      <td>...</td>\n",
       "    </tr>\n",
       "    <tr>\n",
       "      <th>1395</th>\n",
       "      <td>1396</td>\n",
       "      <td>Small Business</td>\n",
       "      <td>Albania</td>\n",
       "      <td>Carretera</td>\n",
       "      <td>Green</td>\n",
       "      <td>2348.0</td>\n",
       "      <td>97.0</td>\n",
       "      <td>164.9</td>\n",
       "      <td>10772.0</td>\n",
       "      <td>18.32</td>\n",
       "      <td>10666.0</td>\n",
       "      <td>7540.4</td>\n",
       "      <td>3871.852</td>\n",
       "      <td>2014-12-13</td>\n",
       "      <td>12.0</td>\n",
       "      <td>December</td>\n",
       "      <td>2014.0</td>\n",
       "    </tr>\n",
       "    <tr>\n",
       "      <th>1396</th>\n",
       "      <td>1397</td>\n",
       "      <td>Government</td>\n",
       "      <td>Finland</td>\n",
       "      <td>Montana</td>\n",
       "      <td>Green</td>\n",
       "      <td>2184.0</td>\n",
       "      <td>115.0</td>\n",
       "      <td>195.5</td>\n",
       "      <td>19337.0</td>\n",
       "      <td>21.72</td>\n",
       "      <td>16125.0</td>\n",
       "      <td>13535.9</td>\n",
       "      <td>4269.72</td>\n",
       "      <td>2014-11-24</td>\n",
       "      <td>11.0</td>\n",
       "      <td>November</td>\n",
       "      <td>2014.0</td>\n",
       "    </tr>\n",
       "    <tr>\n",
       "      <th>1397</th>\n",
       "      <td>1398</td>\n",
       "      <td>Enterprise</td>\n",
       "      <td>Albania</td>\n",
       "      <td>Velo</td>\n",
       "      <td>Medium</td>\n",
       "      <td>2756.0</td>\n",
       "      <td>73.0</td>\n",
       "      <td>124.1</td>\n",
       "      <td>17624.0</td>\n",
       "      <td>13.79</td>\n",
       "      <td>15757.0</td>\n",
       "      <td>12336.8</td>\n",
       "      <td>3420.196</td>\n",
       "      <td>2014-04-20</td>\n",
       "      <td>4.0</td>\n",
       "      <td>April</td>\n",
       "      <td>2014.0</td>\n",
       "    </tr>\n",
       "    <tr>\n",
       "      <th>1398</th>\n",
       "      <td>1399</td>\n",
       "      <td>Enterprise</td>\n",
       "      <td>Mexico</td>\n",
       "      <td>Nice</td>\n",
       "      <td>Green</td>\n",
       "      <td>2060.0</td>\n",
       "      <td>64.0</td>\n",
       "      <td>108.8</td>\n",
       "      <td>19143.0</td>\n",
       "      <td>12.09</td>\n",
       "      <td>21038.0</td>\n",
       "      <td>13400.1</td>\n",
       "      <td>2241.28</td>\n",
       "      <td>2014-11-10</td>\n",
       "      <td>11.0</td>\n",
       "      <td>November</td>\n",
       "      <td>2014.0</td>\n",
       "    </tr>\n",
       "    <tr>\n",
       "      <th>1399</th>\n",
       "      <td>1400</td>\n",
       "      <td>Enterprise</td>\n",
       "      <td>Mexico</td>\n",
       "      <td>Paseo</td>\n",
       "      <td>Green</td>\n",
       "      <td>2922.0</td>\n",
       "      <td>58.0</td>\n",
       "      <td>98.6</td>\n",
       "      <td>19885.0</td>\n",
       "      <td>10.96</td>\n",
       "      <td>1793.0</td>\n",
       "      <td>13919.5</td>\n",
       "      <td>2881.092</td>\n",
       "      <td>2014-10-16</td>\n",
       "      <td>10.0</td>\n",
       "      <td>October</td>\n",
       "      <td>2014.0</td>\n",
       "    </tr>\n",
       "  </tbody>\n",
       "</table>\n",
       "<p>1400 rows × 17 columns</p>\n",
       "</div>"
      ],
      "text/plain": [
       "        Id         Segment  Country    Product DiscountBand UnitsSold  \\\n",
       "0        1      Government   Canada  Carretera         None    1618.5   \n",
       "1        2      Government  Germany  Carretera         None    1321.0   \n",
       "2        3       Midmarket   France  Carretera         None    2178.0   \n",
       "3        4       Midmarket  Germany  Carretera         None     888.0   \n",
       "4        5       Midmarket   Mexico  Carretera         None    2470.0   \n",
       "...    ...             ...      ...        ...          ...       ...   \n",
       "1395  1396  Small Business  Albania  Carretera        Green    2348.0   \n",
       "1396  1397      Government  Finland    Montana        Green    2184.0   \n",
       "1397  1398      Enterprise  Albania       Velo       Medium    2756.0   \n",
       "1398  1399      Enterprise   Mexico       Nice        Green    2060.0   \n",
       "1399  1400      Enterprise   Mexico      Paseo        Green    2922.0   \n",
       "\n",
       "     ManufacturingPrice SalePrice GrossSales Discounts    Sales     COGS  \\\n",
       "0                   3.0      20.0    32370.0       0.0  32370.0  16185.0   \n",
       "1                   3.0      20.0    26420.0       0.0  26420.0  13210.0   \n",
       "2                   3.0      15.0    32670.0       0.0  32670.0  21780.0   \n",
       "3                   3.0      15.0    13320.0       0.0  13320.0   8880.0   \n",
       "4                   3.0      15.0    37050.0       0.0  37050.0  24700.0   \n",
       "...                 ...       ...        ...       ...      ...      ...   \n",
       "1395               97.0     164.9    10772.0     18.32  10666.0   7540.4   \n",
       "1396              115.0     195.5    19337.0     21.72  16125.0  13535.9   \n",
       "1397               73.0     124.1    17624.0     13.79  15757.0  12336.8   \n",
       "1398               64.0     108.8    19143.0     12.09  21038.0  13400.1   \n",
       "1399               58.0      98.6    19885.0     10.96   1793.0  13919.5   \n",
       "\n",
       "        Profit        Date MonthNumber MonthName    Year  \n",
       "0      16185.0  2014-01-01         1.0   January  2014.0  \n",
       "1      13210.0  2014-01-01         1.0   January  2014.0  \n",
       "2      10890.0  2014-06-01         6.0      June  2014.0  \n",
       "3       4440.0  2014-06-01         6.0      June  2014.0  \n",
       "4      12350.0  2014-06-01         6.0      June  2014.0  \n",
       "...        ...         ...         ...       ...     ...  \n",
       "1395  3871.852  2014-12-13        12.0  December  2014.0  \n",
       "1396   4269.72  2014-11-24        11.0  November  2014.0  \n",
       "1397  3420.196  2014-04-20         4.0     April  2014.0  \n",
       "1398   2241.28  2014-11-10        11.0  November  2014.0  \n",
       "1399  2881.092  2014-10-16        10.0   October  2014.0  \n",
       "\n",
       "[1400 rows x 17 columns]"
      ]
     },
     "execution_count": 22,
     "metadata": {},
     "output_type": "execute_result"
    }
   ],
   "source": [
    "with open('FinancialSample3.csv', encoding='utf-8') as f:\n",
    "  content = f.readlines()\n",
    "  content = [x.replace('\\n','').split(';') for x in content]\n",
    "\n",
    "pd.DataFrame(content[1:],columns = content[0])"
   ]
  },
  {
   "cell_type": "markdown",
   "metadata": {
    "id": "O19QRQijxc8j"
   },
   "source": [
    "### Извлечение данных по условию\n",
    "\n",
    "Использование условий позволяет выбирать только отвечающие условиям данные.\n",
    "\n",
    "Примеры:\n",
    "\n",
    "`fs[fs['SalePrice']>90] # отобрать результаты, для которых цена продажи больше 90`\n",
    "\n",
    "В результате операции сравнения в квадратных скобках создается список из *True* и *False*, который показывает, какие строки *DataFrame* нужно оставить, а какие убрать.\n",
    "\n",
    "`fs[fs['Discounts']>fs['Discounts'].mean()] # результаты, для которых сумма скидок превышает среднюю сумму скидок`\n",
    "\n",
    "Условия можно комбинировать, используя операторы **&** (логическое И) и | (логическое ИЛИ).\n",
    "\n",
    "`fs[(fs['Discounts']>fs['Discounts'].mean()) & (fs['UnitsSold']<fs['UnitsSold'].mean())].sort_values('Country') # сумма скидок выше среднего, продано товара ниже среднего по выборке`\n",
    "\n",
    "`fs[fs['Segment']=='Enterprise']['COGS'].mean() # найти среднюю себестоимость товаров промышленного (Enterprise) сегмента`\n",
    "\n",
    "Проверьте приведенные примеры в своих ноутбуках."
   ]
  },
  {
   "cell_type": "markdown",
   "metadata": {},
   "source": [
    "<p style=\"font-size:125%; color:#119988; background-color:#EEE\">Задание 2.1</p>\n",
    "\n",
    "Загрузите этот набор данных в таблицу *DataFrame*. Какова сумма валовых продаж (GrossSales) товаров, произведеных *Amarilla* для малого бизнеса?"
   ]
  },
  {
   "cell_type": "code",
   "execution_count": 27,
   "metadata": {},
   "outputs": [
    {
     "name": "stdout",
     "output_type": "stream",
     "text": [
      "Сумма валовых продаж товаров, произведенных Amarilla для малого бизнеса: 5024400.0\n"
     ]
    }
   ],
   "source": [
    "# 2.1. Ваш код здесь\n",
    "\n",
    "# Загрузка набора данных в DataFrame\n",
    "data = pd.read_csv('FinancialSample3.csv', encoding='utf-8', sep=';')\n",
    "\n",
    "# Фильтрация данных для Amarilla и малого бизнеса\n",
    "filtered_data = data[(data['Product'] == 'Amarilla') & (data['Segment'] == 'Small Business')]\n",
    "\n",
    "# Вычисление суммы валовых продаж\n",
    "gross_sales_sum = filtered_data['GrossSales'].sum()\n",
    "\n",
    "print(\"Сумма валовых продаж товаров, произведенных Amarilla для малого бизнеса:\", gross_sales_sum)"
   ]
  },
  {
   "cell_type": "markdown",
   "metadata": {},
   "source": [
    "<p style=\"font-size:125%; color:#119988; background-color:#EEE\">Задание 2.2</p>\n",
    "\n",
    "Определите среднюю стоимость производства (ManufacturingPrice) товаров, выпущенных для Мексики стоимостью (SalePrice) выше, чем стоимость 70% товаров."
   ]
  },
  {
   "cell_type": "code",
   "execution_count": 28,
   "metadata": {},
   "outputs": [
    {
     "name": "stdout",
     "output_type": "stream",
     "text": [
      "Средняя стоимость производства товаров для Мексики с SalePrice выше 70% товаров: 103.23188405797102\n"
     ]
    }
   ],
   "source": [
    "# 2.2. Ваш код здесь\n",
    "\n",
    "# Загрузить набор данных в DataFrame (предполагая, что он находится в CSV-файле)\n",
    "data = pd.read_csv('FinancialSample3.csv', encoding='utf-8', sep=';')\n",
    "\n",
    "# Вычислить 70-й процентиль стоимости SalePrice\n",
    "seventieth_percentile = data['SalePrice'].quantile(0.7)\n",
    "\n",
    "# Фильтрация данных для товаров, выпущенных для Мексики, стоимостью SalePrice выше 70-го процентиля\n",
    "filtered_data = data[(data['Country'] == 'Mexico') & (data['SalePrice'] > seventieth_percentile)]\n",
    "\n",
    "# Вычисление средней стоимости производства (ManufacturingPrice)\n",
    "average_manufacturing_price = filtered_data['ManufacturingPrice'].mean()\n",
    "\n",
    "print(\"Средняя стоимость производства товаров для Мексики с SalePrice выше 70% товаров:\", average_manufacturing_price)\n"
   ]
  },
  {
   "cell_type": "markdown",
   "metadata": {},
   "source": [
    "<p style=\"font-size:125%; color:#119988; background-color:#EEE\">Задание 2.3</p>\n",
    "\n",
    "Найдите минимальную цену производства товара правительственого сегмента, для которого цена продажи ниже цены производства."
   ]
  },
  {
   "cell_type": "code",
   "execution_count": 29,
   "metadata": {},
   "outputs": [
    {
     "name": "stdout",
     "output_type": "stream",
     "text": [
      "Минимальная цена производства товара в правительственном сегменте с ценой продажи ниже цены производства: 10.0\n"
     ]
    }
   ],
   "source": [
    "# 2.3. Ваш код здесь\n",
    "\n",
    "# Загрузить набор данных в DataFrame (предполагая, что он находится в CSV-файле)\n",
    "data = pd.read_csv('FinancialSample3.csv', encoding='utf-8', sep=';')\n",
    "\n",
    "# Фильтрация данных для правительственного сегмента\n",
    "government_segment = data[data['Segment'] == 'Government']\n",
    "\n",
    "# Нахождение минимальной цены производства, где цена продажи ниже цены производства\n",
    "min_manufacturing_price = government_segment[government_segment['SalePrice'] < government_segment['ManufacturingPrice']]['ManufacturingPrice'].min()\n",
    "\n",
    "print(\"Минимальная цена производства товара в правительственном сегменте с ценой продажи ниже цены производства:\", min_manufacturing_price)"
   ]
  },
  {
   "cell_type": "markdown",
   "metadata": {},
   "source": [
    "<p style=\"font-size:125%; color:#119988; background-color:#EEE\">Задание 2.4</p>\n",
    "\n",
    "Какова средняя цена товара, стоимость производства которого ниже средней?"
   ]
  },
  {
   "cell_type": "code",
   "execution_count": 30,
   "metadata": {},
   "outputs": [
    {
     "name": "stdout",
     "output_type": "stream",
     "text": [
      "Средняя цена товара, стоимость производства которого ниже средней: 115.9474406991261\n"
     ]
    }
   ],
   "source": [
    "# 2.4. Ваш код здесь\n",
    "\n",
    "# Загрузить набор данных в DataFrame (предполагая, что он находится в CSV-файле)\n",
    "data = pd.read_csv('FinancialSample3.csv', encoding='utf-8', sep=';')\n",
    "\n",
    "# Вычислите среднюю стоимость производства\n",
    "mean_manufacturing_price = data['ManufacturingPrice'].mean()\n",
    "\n",
    "# Фильтрация данных для товаров, стоимость производства которых ниже средней\n",
    "filtered_data = data[data['ManufacturingPrice'] < mean_manufacturing_price]\n",
    "\n",
    "# Вычисление средней цены для отфильтрованных товаров\n",
    "average_price_for_low_cost_products = filtered_data['SalePrice'].mean()\n",
    "\n",
    "print(\"Средняя цена товара, стоимость производства которого ниже средней:\", average_price_for_low_cost_products)\n"
   ]
  },
  {
   "cell_type": "markdown",
   "metadata": {},
   "source": [
    "<p style=\"font-size:125%; color:#119988; background-color:#EEE\">Задание 2.5</p>\n",
    "\n",
    "Во сколько раз средняя себестоимость (COGS) товаров промышленного сегмента (Enterprize) отличается от средней себестоимости товаров малого бизнеса?"
   ]
  },
  {
   "cell_type": "code",
   "execution_count": 32,
   "metadata": {},
   "outputs": [
    {
     "name": "stdout",
     "output_type": "stream",
     "text": [
      "Средняя себестоимость товаров промышленного сегмента отличается от средней себестоимости товаров малого бизнеса в 0.5714966377808545 раз(а).\n"
     ]
    }
   ],
   "source": [
    "# 2.5. Ваш код здесь\n",
    "\n",
    "# Загрузить набор данных в DataFrame (предполагая, что он находится в CSV-файле)\n",
    "data = pd.read_csv('FinancialSample3.csv', encoding='utf-8', sep=';')\n",
    "\n",
    "# Вычислить среднюю себестоимость (COGS) товаров промышленного сегмента (Enterprise)\n",
    "mean_cogs_enterprise = data[data['Segment'] == 'Enterprise']['COGS'].mean()\n",
    "\n",
    "# Вычислить среднюю себестоимость (COGS) товаров малого бизнеса\n",
    "mean_cogs_small_business = data[data['Segment'] == 'Small Business']['COGS'].mean()\n",
    "\n",
    "# Вычислить разницу между средней себестоимостью товаров промышленного сегмента и малого бизнеса\n",
    "difference_in_cogs = mean_cogs_enterprise / mean_cogs_small_business\n",
    "\n",
    "print(\"Средняя себестоимость товаров промышленного сегмента отличается от средней себестоимости товаров малого бизнеса в\", difference_in_cogs, \"раз(а).\")\n"
   ]
  },
  {
   "cell_type": "markdown",
   "metadata": {},
   "source": [
    "<p style=\"font-size:125%; color:#119988; background-color:#EEE\">Задание 2.6</p>\n",
    "\n",
    "Какова суммарная прибыль всех сделок в правительственном сегменте, заключенных компаниями Carretera и Paseo?"
   ]
  },
  {
   "cell_type": "code",
   "execution_count": 35,
   "metadata": {},
   "outputs": [
    {
     "name": "stdout",
     "output_type": "stream",
     "text": [
      "Суммарная прибыль всех сделок в правительственном сегменте, заключенных компаниями Carretera и Paseo: 4528986.045000001\n"
     ]
    }
   ],
   "source": [
    "# 2.6. Ваш код здесь\n",
    "\n",
    "# Загрузить набор данных в DataFrame (предполагая, что он находится в CSV-файле)\n",
    "data = pd.read_csv('FinancialSample3.csv', encoding='utf-8', sep=';')\n",
    "\n",
    "# Фильтрация данных для правительственного сегмента, заключенных компаниями Carretera и Paseo\n",
    "filtered_data = data[(data['Segment'] == 'Government') & (data['Product'].isin(['Carretera', 'Paseo']))]\n",
    "\n",
    "# Вычисление суммарной прибыли\n",
    "total_profit = filtered_data['Profit'].sum()\n",
    "\n",
    "print(\"Суммарная прибыль всех сделок в правительственном сегменте, заключенных компаниями Carretera и Paseo:\", total_profit)\n"
   ]
  },
  {
   "cell_type": "markdown",
   "metadata": {
    "id": "mLSdzFG55hyA"
   },
   "source": [
    "## Раздел 3. Группировка данных\n",
    "\n"
   ]
  },
  {
   "cell_type": "markdown",
   "metadata": {},
   "source": [
    "<p style=\"font-size:125%; color:#119988; background-color:#EEE\">Задание 3.1</p>\n",
    "\n",
    "Сколько разных систем скидок представлено в таблице?"
   ]
  },
  {
   "cell_type": "code",
   "execution_count": 36,
   "metadata": {},
   "outputs": [
    {
     "name": "stdout",
     "output_type": "stream",
     "text": [
      "Количество разных систем скидок в таблице: 586\n"
     ]
    }
   ],
   "source": [
    "# 3.1. Ваш код здесь\n",
    "\n",
    "# Загрузить набор данных в DataFrame (предполагая, что он находится в CSV-файле)\n",
    "data = pd.read_csv('FinancialSample3.csv', encoding='utf-8', sep=';')\n",
    "\n",
    "# Используйте метод .nunique() для подсчета уникальных значений в столбце 'DiscountSystem'\n",
    "number_of_discount_systems = data['Discounts'].nunique()\n",
    "\n",
    "print(\"Количество разных систем скидок в таблице:\", number_of_discount_systems)\n"
   ]
  },
  {
   "cell_type": "markdown",
   "metadata": {},
   "source": [
    "<p style=\"font-size:125%; color:#119988; background-color:#EEE\">Задание 3.2</p>\n",
    "\n",
    "Какая из систем скидок применяется реже всего?"
   ]
  },
  {
   "cell_type": "code",
   "execution_count": 37,
   "metadata": {},
   "outputs": [
    {
     "name": "stdout",
     "output_type": "stream",
     "text": [
      "Система скидок, которая применяется реже всего: 50274.0\n",
      "Количество раз, которое она применяется: 1\n"
     ]
    }
   ],
   "source": [
    "# 3.2. Ваш код здесь\n",
    "\n",
    "# Загрузить набор данных в DataFrame (предполагая, что он находится в CSV-файле)\n",
    "data = pd.read_csv('FinancialSample3.csv', encoding='utf-8', sep=';')\n",
    "\n",
    "# Используйте метод .value_counts() для подсчета частоты встречаемости каждой системы скидок\n",
    "discount_system_counts = data['Discounts'].value_counts()\n",
    "\n",
    "# Найти систему скидок, которая применяется реже всего (с минимальной частотой)\n",
    "least_used_discount_system = discount_system_counts.idxmin()\n",
    "\n",
    "# Найти количество раз, которое она применяется\n",
    "min_usage_count = discount_system_counts.min()\n",
    "\n",
    "print(\"Система скидок, которая применяется реже всего:\", least_used_discount_system)\n",
    "print(\"Количество раз, которое она применяется:\", min_usage_count)"
   ]
  },
  {
   "cell_type": "markdown",
   "metadata": {},
   "source": [
    "<p style=\"font-size:125%; color:#119988; background-color:#EEE\">Задание 3.3</p>\n",
    "\n",
    "Сколько раз представлены в выборке разные страны?"
   ]
  },
  {
   "cell_type": "code",
   "execution_count": 38,
   "metadata": {},
   "outputs": [
    {
     "name": "stdout",
     "output_type": "stream",
     "text": [
      "Количество разных стран в выборке: 9\n"
     ]
    }
   ],
   "source": [
    "# 3.3. Ваш код здесь\n",
    "\n",
    "\n",
    "# Загрузить набор данных в DataFrame (предполагая, что он находится в CSV-файле)\n",
    "data = pd.read_csv('FinancialSample3.csv', encoding='utf-8', sep=';')\n",
    "\n",
    "# Используйте метод .nunique() для подсчета количества уникальных стран в столбце 'Country'\n",
    "number_of_countries = data['Country'].nunique()\n",
    "\n",
    "print(\"Количество разных стран в выборке:\", number_of_countries)"
   ]
  },
  {
   "cell_type": "markdown",
   "metadata": {},
   "source": [
    "<p style=\"font-size:125%; color:#119988; background-color:#EEE\">Задание 3.4</p>\n",
    "\n",
    "Разбейте значения столбца себестоимости (COGS) для Канады на шесть интервалов."
   ]
  },
  {
   "cell_type": "code",
   "execution_count": 39,
   "metadata": {},
   "outputs": [
    {
     "name": "stdout",
     "output_type": "stream",
     "text": [
      "0         (335.66, 159508.333]\n",
      "7         (335.66, 159508.333]\n",
      "11      (317731.667, 475955.0]\n",
      "14        (335.66, 159508.333]\n",
      "16        (335.66, 159508.333]\n",
      "                 ...          \n",
      "1327      (335.66, 159508.333]\n",
      "1341      (335.66, 159508.333]\n",
      "1356      (335.66, 159508.333]\n",
      "1360      (335.66, 159508.333]\n",
      "1371      (335.66, 159508.333]\n",
      "Name: COGS, Length: 213, dtype: category\n",
      "Categories (6, interval[float64, right]): [(335.66, 159508.333] < (159508.333, 317731.667] < (317731.667, 475955.0] < (475955.0, 634178.333] < (634178.333, 792401.667] < (792401.667, 950625.0]]\n"
     ]
    }
   ],
   "source": [
    "# 3.4. Ваш код здесь\n",
    "\n",
    "# Загрузить набор данных в DataFrame (предполагая, что он находится в CSV-файле)\n",
    "data = pd.read_csv('FinancialSample3.csv', encoding='utf-8', sep=';')\n",
    "\n",
    "# Фильтрация данных только для Канады\n",
    "canada_data = data[data['Country'] == 'Canada']\n",
    "\n",
    "# Определение интервалов себестоимости (COGS)\n",
    "cogs_intervals = pd.cut(canada_data['COGS'], bins=6)\n",
    "\n",
    "# Вывод интервалов\n",
    "print(cogs_intervals)"
   ]
  },
  {
   "cell_type": "markdown",
   "metadata": {},
   "source": [
    "<p style=\"font-size:125%; color:#119988; background-color:#EEE\">Задание 3.5</p>\n",
    "\n",
    "Разбейте значения столбца себестоимости (COGS) для Канады на шесть интервалов."
   ]
  },
  {
   "cell_type": "code",
   "execution_count": 40,
   "metadata": {},
   "outputs": [
    {
     "name": "stdout",
     "output_type": "stream",
     "text": [
      "0         (335.66, 159508.333]\n",
      "7         (335.66, 159508.333]\n",
      "11      (317731.667, 475955.0]\n",
      "14        (335.66, 159508.333]\n",
      "16        (335.66, 159508.333]\n",
      "                 ...          \n",
      "1327      (335.66, 159508.333]\n",
      "1341      (335.66, 159508.333]\n",
      "1356      (335.66, 159508.333]\n",
      "1360      (335.66, 159508.333]\n",
      "1371      (335.66, 159508.333]\n",
      "Name: COGS, Length: 213, dtype: category\n",
      "Categories (6, interval[float64, right]): [(335.66, 159508.333] < (159508.333, 317731.667] < (317731.667, 475955.0] < (475955.0, 634178.333] < (634178.333, 792401.667] < (792401.667, 950625.0]]\n"
     ]
    }
   ],
   "source": [
    "# 3.5. Ваш код здесь\n",
    "\n",
    "# Загрузить набор данных в DataFrame (предполагая, что он находится в CSV-файле)\n",
    "data = pd.read_csv('FinancialSample3.csv', encoding='utf-8', sep=';')\n",
    "\n",
    "# Фильтрация данных только для Канады\n",
    "canada_data = data[data['Country'] == 'Canada']\n",
    "\n",
    "# Определение интервалов себестоимости (COGS)\n",
    "cogs_intervals = pd.cut(canada_data['COGS'], bins=6)\n",
    "\n",
    "# Вывод интервалов\n",
    "print(cogs_intervals)"
   ]
  },
  {
   "cell_type": "code",
   "execution_count": null,
   "metadata": {},
   "outputs": [],
   "source": []
  }
 ],
 "metadata": {
  "colab": {
   "collapsed_sections": [],
   "name": "Тема 8 ГК (запросы) Лекция",
   "provenance": []
  },
  "kernelspec": {
   "display_name": "Python 3 (ipykernel)",
   "language": "python",
   "name": "python3"
  },
  "language_info": {
   "codemirror_mode": {
    "name": "ipython",
    "version": 3
   },
   "file_extension": ".py",
   "mimetype": "text/x-python",
   "name": "python",
   "nbconvert_exporter": "python",
   "pygments_lexer": "ipython3",
   "version": "3.11.4"
  },
  "toc": {
   "base_numbering": 1,
   "nav_menu": {},
   "number_sections": true,
   "sideBar": true,
   "skip_h1_title": false,
   "title_cell": "Table of Contents",
   "title_sidebar": "Contents",
   "toc_cell": true,
   "toc_position": {},
   "toc_section_display": true,
   "toc_window_display": false
  },
  "varInspector": {
   "cols": {
    "lenName": 16,
    "lenType": 16,
    "lenVar": 40
   },
   "kernels_config": {
    "python": {
     "delete_cmd_postfix": "",
     "delete_cmd_prefix": "del ",
     "library": "var_list.py",
     "varRefreshCmd": "print(var_dic_list())"
    },
    "r": {
     "delete_cmd_postfix": ") ",
     "delete_cmd_prefix": "rm(",
     "library": "var_list.r",
     "varRefreshCmd": "cat(var_dic_list()) "
    }
   },
   "types_to_exclude": [
    "module",
    "function",
    "builtin_function_or_method",
    "instance",
    "_Feature"
   ],
   "window_display": false
  }
 },
 "nbformat": 4,
 "nbformat_minor": 4
}
