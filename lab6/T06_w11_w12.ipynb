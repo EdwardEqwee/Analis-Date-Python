{
 "cells": [
  {
   "cell_type": "markdown",
   "metadata": {
    "toc": true
   },
   "source": [
    "<h1>Table of Contents<span class=\"tocSkip\"></span></h1>\n",
    "<div class=\"toc\"><ul class=\"toc-item\"><li><span><a href=\"#Обработка-и-анализ-данных-в-Numpy-массивах\" data-toc-modified-id=\"Обработка-и-анализ-данных-в-Numpy-массивах-1\"><span class=\"toc-item-num\">1&nbsp;&nbsp;</span>Обработка и анализ данных в Numpy-массивах</a></span></li></ul></div>"
   ]
  },
  {
   "cell_type": "markdown",
   "metadata": {},
   "source": [
    "\n",
    "\n",
    "\n",
    "# Обработка и анализ данных в Numpy-массивах"
   ]
  },
  {
   "cell_type": "markdown",
   "metadata": {},
   "source": [
    "<p style=\"font-size:125%; color:#119988; background-color:#EEE\">Задание 1</p>\n",
    "\n",
    "Дано: списки `a,b=[1,1,1],[3,3,3]`\n",
    "\n",
    "Создать одномерные массивы A и B из списков а и b.\n",
    "\n",
    "Вычислить выражение $-((B-А)*(B/2))$"
   ]
  },
  {
   "cell_type": "code",
   "execution_count": 1,
   "metadata": {},
   "outputs": [],
   "source": [
    "import numpy as np"
   ]
  },
  {
   "cell_type": "code",
   "execution_count": 135,
   "metadata": {},
   "outputs": [],
   "source": [
    "#1 Ваш код здесь\n"
   ]
  },
  {
   "cell_type": "markdown",
   "metadata": {},
   "source": [
    "<p style=\"font-size:125%; color:#119988; background-color:#EEE\">Задание 2</p>\n",
    "\n",
    "Используя как можно меньше операций в исходном массиве \"шахматная доска\" np.zeros((8,8)), добиться расстановки кодов \"шахматных фигур\".\n",
    "\n",
    "Ожидаемый результат:\n",
    "```\n",
    "[[-4., -3., -2., -6., -5., -2., -3., -4.],\n",
    " [-1., -1., -1., -1., -1., -1., -1., -1.],\n",
    " [0., 0., 0., 0., 0., 0., 0., 0.],\n",
    " [0., 0., 0., 0., 0., 0., 0., 0.],\n",
    " [0., 0., 0., 0., 0., 0., 0., 0.],\n",
    " [0., 0., 0., 0., 0., 0., 0., 0.],\n",
    " [1., 1., 1., 1., 1., 1., 1., 1.],\n",
    " [4., 3., 2., 6., 5., 2., 3., 4.]]\n",
    " ```"
   ]
  },
  {
   "cell_type": "code",
   "execution_count": null,
   "metadata": {},
   "outputs": [],
   "source": [
    "#2. Ваш код здесь\n",
    "\n"
   ]
  },
  {
   "cell_type": "markdown",
   "metadata": {},
   "source": [
    "<p style=\"font-size:125%; color:#119988; background-color:#EEE\">Задание 3</p>\n",
    "\n",
    "Средствами NumPy рассчитать произведения четных чисел от 2 до 20 на ближайшие к ним бОльшие нечетные числа"
   ]
  },
  {
   "cell_type": "code",
   "execution_count": 33,
   "metadata": {},
   "outputs": [],
   "source": [
    "# 3. Ваш код здесь\n",
    "\n"
   ]
  },
  {
   "cell_type": "markdown",
   "metadata": {},
   "source": [
    "<p style=\"font-size:125%; color:#119988; background-color:#EEE\">Задание 4</p>\n",
    "\n",
    "Сгенерировать двумерный массив *arr* размерности (4, 7), состоящий из случайных действительных чисел, равномерно распределенных в дипазоне от 0 до 20. Нормализовать значения массива так, что после нормализации максимальный элемент масива будет равен 1.0, минимальный 0.0. Значения округлить (с помощью `np.round()`) до четырех десятичных знаков."
   ]
  },
  {
   "cell_type": "code",
   "execution_count": null,
   "metadata": {},
   "outputs": [],
   "source": [
    "# 4. Ваш код здесь\n",
    "\n"
   ]
  },
  {
   "cell_type": "markdown",
   "metadata": {},
   "source": [
    "<p style=\"font-size:125%; color:#119988; background-color:#EEE\">Задание 5</p>\n",
    "\n",
    "5. Имеется массив my_array\n",
    "```\n",
    "my_array = np.array([[1,2,3,4,5],\n",
    "                [6,7,8,9,10],\n",
    "                [11,12,13,14,15],\n",
    "                [16,17,18,19,20],\n",
    "                [21,22,23,24,25]])\n",
    "```\n",
    "Напишите код, с помощью которого можно извлечь из него центральный фрагмент размером 3 х 3, с числами 7, 8, 9, 12, 13, 14, 17, 18, 19."
   ]
  },
  {
   "cell_type": "code",
   "execution_count": 32,
   "metadata": {},
   "outputs": [],
   "source": [
    "# 5. Ваш код здесь\n",
    "\n",
    "my_array = np.array([[1,2,3,4,5],\n",
    "             [6,7,8,9,10],\n",
    "             [11,12,13,14,15],\n",
    "             [16,17,18,19,20],\n",
    "             [21,22,23,24,25]])\n",
    "\n",
    "\n",
    "\n"
   ]
  },
  {
   "cell_type": "markdown",
   "metadata": {},
   "source": [
    "<p style=\"font-size:125%; color:#119988; background-color:#EEE\">Задание 6</p>\n",
    "\n",
    "Создайте массив *my_sin*, состоящий из синусов элементов массива *my_array*.\n",
    "Посчитайте, чему равна сумма элементов полученного массива. Ответ округлите до\n",
    "трёх цифр после запятой."
   ]
  },
  {
   "cell_type": "code",
   "execution_count": null,
   "metadata": {},
   "outputs": [],
   "source": [
    "# 6. Ваш код здесь\n",
    "\n"
   ]
  },
  {
   "cell_type": "markdown",
   "metadata": {},
   "source": [
    "<p style=\"font-size:125%; color:#119988; background-color:#EEE\">Задание 7</p>\n",
    "\n",
    "Создать матрицу из 20 случайных целых чисел от 0 до 100. Получить второе сверху значение в матрице. Определить индекс этого значения."
   ]
  },
  {
   "cell_type": "code",
   "execution_count": null,
   "metadata": {},
   "outputs": [],
   "source": [
    "# 7. Ваш код здесь\n",
    "\n"
   ]
  },
  {
   "cell_type": "markdown",
   "metadata": {},
   "source": [
    "<p style=\"font-size:125%; color:#119988; background-color:#EEE\">Задание 8</p>\n",
    "\n",
    "Задать два двухмерных массива *ar1* и *ar2* размерности (4, 7), состоящих из случайных целых чисел в пределах от 0 до 10. Построить двухмерный массив размерности (4, 7), каждый элемент которого представляет собой максимум (минимум, среднее) из двух значений, находящихся на аналогичной позиции в массивах *ar1*, *ar2*."
   ]
  },
  {
   "cell_type": "code",
   "execution_count": null,
   "metadata": {},
   "outputs": [],
   "source": [
    "# 8. Ваш код здесь\n",
    "\n"
   ]
  },
  {
   "cell_type": "markdown",
   "metadata": {},
   "source": [
    "<p style=\"font-size:125%; color:#119988; background-color:#EEE\">Задание 9</p>\n",
    "\n",
    "Имеется массив *great_array*\n",
    "```\n",
    "first = [x**(1/2) for x in range(100)]\n",
    "second = [x**(1/3) for x in range(100, 200)]\n",
    "third = [x/y for x in range(200,300,2) for y in [3,5]]\n",
    "great_array = np.array([first, second, third]).T\n",
    "```\n",
    "Чему равна сумма элементов массива great_array, значение которых больше 50?"
   ]
  },
  {
   "cell_type": "code",
   "execution_count": 28,
   "metadata": {},
   "outputs": [],
   "source": [
    "#9 Ваш код здесь\n",
    "\n",
    "first = [x**(1/2) for x in range(100)]\n",
    "second = [x**(1/3) for x in range(100, 200)]\n",
    "third = [x/y for x in range(200,300,2) for y in [3,5]]\n",
    "great_array = np.array([first, second, third]).T\n",
    "\n",
    "\n",
    "\n"
   ]
  },
  {
   "cell_type": "markdown",
   "metadata": {},
   "source": [
    "<p style=\"font-size:125%; color:#119988; background-color:#EEE\">Задание 10</p>\n",
    "\n",
    "Переведите массив *great_array* в одномерную форму. Какое значение в получившемся массиве имеет элемент с индексом 150?"
   ]
  },
  {
   "cell_type": "code",
   "execution_count": 29,
   "metadata": {},
   "outputs": [],
   "source": [
    "# 10. Ваш код здесь\n",
    "\n"
   ]
  },
  {
   "cell_type": "markdown",
   "metadata": {},
   "source": [
    "<p style=\"font-size:125%; color:#119988; background-color:#EEE\">Задание 11</p>\n",
    "\n",
    "Получить индексы, для которых элементы массивов A и B совпадают.\n",
    "```\n",
    "A = np.array([1,2,3,2,3,4,3,4,5,6])\n",
    "B = np.array([7,2,10,2,7,4,9,4,9,8])\n",
    "```\n",
    "Ожидается результат:\n",
    "\n",
    "```\n",
    "array([1, 3, 5, 7])\n",
    "```"
   ]
  },
  {
   "cell_type": "code",
   "execution_count": 12,
   "metadata": {},
   "outputs": [],
   "source": [
    "# 11.\n",
    "\n",
    "A = np.array([1,2,3,2,3,4,3,4,5,6])\n",
    "B = np.array([7,2,10,2,7,4,9,4,9,8])\n",
    "\n",
    "# Ваш код здесь\n",
    "\n"
   ]
  },
  {
   "cell_type": "markdown",
   "metadata": {},
   "source": [
    "<p style=\"font-size:125%; color:#119988; background-color:#EEE\">Задание 12</p>\n",
    "\n",
    "Создайте три массива: массив четных чисел от 2 до 20, массив ближайших к числам первого массива бОльших нечётных чисел, массив векторного произведения первого массива на второй. Соедините все массивы в один двумерный массив, расположив исходные массивы в столбцах."
   ]
  },
  {
   "cell_type": "code",
   "execution_count": 3,
   "metadata": {},
   "outputs": [],
   "source": [
    "# 12.  Ваш код здесь\n",
    "\n"
   ]
  }
 ],
 "metadata": {
  "kernelspec": {
   "display_name": "Python 3 (ipykernel)",
   "language": "python",
   "name": "python3"
  },
  "language_info": {
   "codemirror_mode": {
    "name": "ipython",
    "version": 3
   },
   "file_extension": ".py",
   "mimetype": "text/x-python",
   "name": "python",
   "nbconvert_exporter": "python",
   "pygments_lexer": "ipython3",
   "version": "3.9.7"
  },
  "toc": {
   "base_numbering": 1,
   "nav_menu": {},
   "number_sections": true,
   "sideBar": true,
   "skip_h1_title": false,
   "title_cell": "Table of Contents",
   "title_sidebar": "Contents",
   "toc_cell": true,
   "toc_position": {},
   "toc_section_display": true,
   "toc_window_display": false
  },
  "varInspector": {
   "cols": {
    "lenName": 16,
    "lenType": 16,
    "lenVar": 40
   },
   "kernels_config": {
    "python": {
     "delete_cmd_postfix": "",
     "delete_cmd_prefix": "del ",
     "library": "var_list.py",
     "varRefreshCmd": "print(var_dic_list())"
    },
    "r": {
     "delete_cmd_postfix": ") ",
     "delete_cmd_prefix": "rm(",
     "library": "var_list.r",
     "varRefreshCmd": "cat(var_dic_list()) "
    }
   },
   "types_to_exclude": [
    "module",
    "function",
    "builtin_function_or_method",
    "instance",
    "_Feature"
   ],
   "window_display": false
  }
 },
 "nbformat": 4,
 "nbformat_minor": 4
}
