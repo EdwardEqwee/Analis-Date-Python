{
 "cells": [
  {
   "cell_type": "markdown",
   "id": "75ba224b",
   "metadata": {
    "toc": true
   },
   "source": [
    "<h1>Table of Contents<span class=\"tocSkip\"></span></h1>\n",
    "<div class=\"toc\"><ul class=\"toc-item\"></ul></div>"
   ]
  },
  {
   "cell_type": "markdown",
   "id": "edbef882",
   "metadata": {},
   "source": [
    "<p style=\"font-size:125%; color:#119988; background-color:#EEE\">Задание 1</p>\n",
    "\n",
    "Создайте словарь *food* продуктов питания, ключами которого являются наименования, а значениями цены. Исходные данные для словаря:\n",
    "```\n",
    "titles=('apples,grape,bananas,watermelons,tomatoes'.split(','))\n",
    "prices=(20,25,15,11,15)\n",
    "```"
   ]
  },
  {
   "cell_type": "code",
   "execution_count": 22,
   "id": "7befff06",
   "metadata": {},
   "outputs": [
    {
     "data": {
      "text/plain": [
       "{'apples': 20, 'grape': 25, 'bananas': 15, 'watermelons': 11, 'tomatoes': 15}"
      ]
     },
     "execution_count": 22,
     "metadata": {},
     "output_type": "execute_result"
    }
   ],
   "source": [
    "titles=('apples,grape,bananas,watermelons,tomatoes'.split(','))\n",
    "prices=(20,25,15,11,15)\n",
    "food = dict(zip(titles, prices))\n",
    "food"
   ]
  },
  {
   "cell_type": "markdown",
   "id": "815e7957",
   "metadata": {},
   "source": [
    "<p style=\"font-size:125%; color:#119988; background-color:#EEE\">Задание 2</p>\n",
    "\n",
    "Удалите из словаря *food* арбузы (watermelons) и добавьте дыни (melons) по той же цене."
   ]
  },
  {
   "cell_type": "code",
   "execution_count": 23,
   "id": "50964e18",
   "metadata": {},
   "outputs": [
    {
     "data": {
      "text/plain": [
       "{'apples': 20, 'grape': 25, 'bananas': 15, 'tomatoes': 15, 'melons': 11}"
      ]
     },
     "execution_count": 23,
     "metadata": {},
     "output_type": "execute_result"
    }
   ],
   "source": [
    "del food['watermelons']\n",
    "        \n",
    "food['melons'] = 11\n",
    "food"
   ]
  },
  {
   "cell_type": "markdown",
   "id": "09da5372",
   "metadata": {},
   "source": [
    "<p style=\"font-size:125%; color:#119988; background-color:#EEE\">Задание 3</p>\n",
    "\n",
    "Все цены снижены на 15%. Обновите словарь продуктов."
   ]
  },
  {
   "cell_type": "code",
   "execution_count": 27,
   "id": "b88d99a1",
   "metadata": {},
   "outputs": [
    {
     "data": {
      "text/plain": [
       "{'apples': 17.0,\n",
       " 'grape': 21.25,\n",
       " 'bananas': 12.75,\n",
       " 'tomatoes': 12.75,\n",
       " 'melons': 9.35}"
      ]
     },
     "execution_count": 27,
     "metadata": {},
     "output_type": "execute_result"
    }
   ],
   "source": [
    "# 3\n",
    "food = {product: price * 0.85 for product, price in food.items()}\n",
    "food"
   ]
  },
  {
   "cell_type": "markdown",
   "id": "ea04b336",
   "metadata": {},
   "source": [
    "<p style=\"font-size:125%; color:#119988; background-color:#EEE\">Задание 4</p>\n",
    "\n",
    "Поменяйте местами цены и названия, пусть ключами словаря станут цены, а значениями - названия. Изменилось ли при этом количество элементов словаря? Если да, то объясните, почему."
   ]
  },
  {
   "cell_type": "code",
   "execution_count": 28,
   "id": "968cf531",
   "metadata": {},
   "outputs": [
    {
     "data": {
      "text/plain": [
       "{17.0: 'apples', 21.25: 'grape', 12.75: 'tomatoes', 9.35: 'melons'}"
      ]
     },
     "execution_count": 28,
     "metadata": {},
     "output_type": "execute_result"
    }
   ],
   "source": [
    "# 4\n",
    "food = {price: title for title, price in food.items()}\n",
    "food"
   ]
  },
  {
   "cell_type": "markdown",
   "id": "ef49adb3",
   "metadata": {},
   "source": [
    "<p style=\"font-size:125%; color:#119988; background-color:#EEE\">Задание 5</p>\n",
    "\n",
    "Напишите функцию, возвращающую максимальную степень некоторого натурального числа $k$ (например $k=2$), меньшую данного натурального числа $n$. Пусть $k$ и $n$ будут параметрами функции."
   ]
  },
  {
   "cell_type": "code",
   "execution_count": 29,
   "id": "a56f047a",
   "metadata": {},
   "outputs": [
    {
     "name": "stdout",
     "output_type": "stream",
     "text": [
      "Максимальная степень 2, меньшая чем 10, равна 3\n"
     ]
    }
   ],
   "source": [
    "# 5\n",
    "def find_max(k, n):\n",
    "    max_power = 0\n",
    "    while k ** max_power < n:\n",
    "        max_power += 1\n",
    "    return max_power - 1\n",
    "\n",
    "\n",
    "k = 2\n",
    "n = 10\n",
    "result = find_max(k, n)\n",
    "print(f\"Максимальная степень {k}, меньшая чем {n}, равна {result}\")\n"
   ]
  },
  {
   "cell_type": "markdown",
   "id": "dafc63f5",
   "metadata": {},
   "source": [
    "<p style=\"font-size:125%; color:#119988; background-color:#EEE\">Задание 6</p>\n",
    "\n",
    "Создайте функцию, возвращающую ряд Фибоначчи до определенного натурального числа $n$."
   ]
  },
  {
   "cell_type": "code",
   "execution_count": 30,
   "id": "de7f401f",
   "metadata": {},
   "outputs": [
    {
     "name": "stdout",
     "output_type": "stream",
     "text": [
      "[0, 1, 1, 2, 3, 5, 8, 13, 21, 34]\n"
     ]
    }
   ],
   "source": [
    "# 6\n",
    "def fibonacci_series(n):\n",
    "    fib = []\n",
    "    a, b = 0, 1\n",
    "    while a <= n:\n",
    "        fib.append(a)\n",
    "        a, b = b, a + b\n",
    "    return fib\n",
    "\n",
    "n = 50\n",
    "result = fibonacci_series(n)\n",
    "print(result)\n"
   ]
  },
  {
   "cell_type": "markdown",
   "id": "119e660a",
   "metadata": {},
   "source": [
    "<p style=\"font-size:125%; color:#119988; background-color:#EEE\">Задание 7</p>\n",
    "\n",
    "Создайте рекурсивную функцию, возвращающую ряд Фибоначчи до определенного натурального числа $n$."
   ]
  },
  {
   "cell_type": "code",
   "execution_count": 31,
   "id": "31838c27",
   "metadata": {},
   "outputs": [
    {
     "name": "stdout",
     "output_type": "stream",
     "text": [
      "[0, 1, 1, 2, 3, 5, 8, 13, 21, 34]\n"
     ]
    }
   ],
   "source": [
    "# 7\n",
    "def recurs(n, a=0, b=1, series=None):\n",
    "    if series is None:\n",
    "        series = []\n",
    "\n",
    "    if a > n:\n",
    "        return series\n",
    "\n",
    "    series.append(a)\n",
    "    return recurs(n, b, a + b, series)\n",
    "\n",
    "n = 50\n",
    "result = recurs(n)\n",
    "print(result)\n"
   ]
  },
  {
   "cell_type": "markdown",
   "id": "ec8400ea",
   "metadata": {},
   "source": [
    "<p style=\"font-size:125%; color:#119988; background-color:#EEE\">Задание 8</p>\n",
    "\n",
    "Создайте функцию, которая проверяет, является ли число членом ряда Фибоначчи."
   ]
  },
  {
   "cell_type": "code",
   "execution_count": 33,
   "id": "a8715c73",
   "metadata": {},
   "outputs": [
    {
     "name": "stdout",
     "output_type": "stream",
     "text": [
      "13 является членом ряда Фибоначчи.\n"
     ]
    }
   ],
   "source": [
    "# 8\n",
    "\n",
    "def is_fibonacci(number):\n",
    "    a, b = 0, 1\n",
    "    while a < number:\n",
    "        a, b = b, a + b\n",
    "    return a == number\n",
    "\n",
    "\n",
    "n = 13\n",
    "result = is_fibonacci(n)\n",
    "if result:\n",
    "    print(f\"{n} является членом ряда Фибоначчи.\")\n",
    "else:\n",
    "    print(f\"{n} не является членом ряда Фибоначчи.\")\n"
   ]
  },
  {
   "cell_type": "markdown",
   "id": "eed2994e",
   "metadata": {},
   "source": [
    "<p style=\"font-size:125%; color:#119988; background-color:#EEE\">Задание 9</p>\n",
    "\n",
    "Студентка Александра родилась 11 июня 2003 года в 12 часов дня. Рассчитать время в минутах с момента рождения."
   ]
  },
  {
   "cell_type": "code",
   "execution_count": 2,
   "id": "6d81786f",
   "metadata": {},
   "outputs": [
    {
     "name": "stdout",
     "output_type": "stream",
     "text": [
      "С момента рождения прошло 10703507 минут.\n"
     ]
    }
   ],
   "source": [
    "# 9\n",
    "\n",
    "from datetime import datetime\n",
    "\n",
    "birthday = datetime(2003, 6, 11, 12, 0)\n",
    "\n",
    "current_time = datetime.now()\n",
    "\n",
    "time_difference = current_time - birthday\n",
    "\n",
    "minutes = time_difference.days * 24 * 60 + time_difference.seconds // 60\n",
    "\n",
    "print(f\"С момента рождения прошло {minutes} минут.\")\n",
    "\n"
   ]
  },
  {
   "cell_type": "code",
   "execution_count": null,
   "id": "cea79135",
   "metadata": {},
   "outputs": [],
   "source": []
  }
 ],
 "metadata": {
  "kernelspec": {
   "display_name": "Python 3 (ipykernel)",
   "language": "python",
   "name": "python3"
  },
  "language_info": {
   "codemirror_mode": {
    "name": "ipython",
    "version": 3
   },
   "file_extension": ".py",
   "mimetype": "text/x-python",
   "name": "python",
   "nbconvert_exporter": "python",
   "pygments_lexer": "ipython3",
   "version": "3.11.4"
  },
  "toc": {
   "base_numbering": 1,
   "nav_menu": {},
   "number_sections": true,
   "sideBar": true,
   "skip_h1_title": false,
   "title_cell": "Table of Contents",
   "title_sidebar": "Contents",
   "toc_cell": true,
   "toc_position": {},
   "toc_section_display": true,
   "toc_window_display": false
  },
  "varInspector": {
   "cols": {
    "lenName": 16,
    "lenType": 16,
    "lenVar": 40
   },
   "kernels_config": {
    "python": {
     "delete_cmd_postfix": "",
     "delete_cmd_prefix": "del ",
     "library": "var_list.py",
     "varRefreshCmd": "print(var_dic_list())"
    },
    "r": {
     "delete_cmd_postfix": ") ",
     "delete_cmd_prefix": "rm(",
     "library": "var_list.r",
     "varRefreshCmd": "cat(var_dic_list()) "
    }
   },
   "types_to_exclude": [
    "module",
    "function",
    "builtin_function_or_method",
    "instance",
    "_Feature"
   ],
   "window_display": false
  }
 },
 "nbformat": 4,
 "nbformat_minor": 5
}
