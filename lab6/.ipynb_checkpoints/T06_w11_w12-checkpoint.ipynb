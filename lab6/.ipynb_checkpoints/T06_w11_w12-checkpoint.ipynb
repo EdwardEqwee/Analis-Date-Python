{
 "cells": [
  {
   "cell_type": "markdown",
   "metadata": {
    "toc": true
   },
   "source": [
    "<h1>Table of Contents<span class=\"tocSkip\"></span></h1>\n",
    "<div class=\"toc\"><ul class=\"toc-item\"><li><span><a href=\"#Обработка-и-анализ-данных-в-Numpy-массивах\" data-toc-modified-id=\"Обработка-и-анализ-данных-в-Numpy-массивах-1\"><span class=\"toc-item-num\">1&nbsp;&nbsp;</span>Обработка и анализ данных в Numpy-массивах</a></span></li></ul></div>"
   ]
  },
  {
   "cell_type": "markdown",
   "metadata": {},
   "source": [
    "\n",
    "\n",
    "\n",
    "# Обработка и анализ данных в Numpy-массивах"
   ]
  },
  {
   "cell_type": "markdown",
   "metadata": {},
   "source": [
    "<p style=\"font-size:125%; color:#119988; background-color:#EEE\">Задание 1</p>\n",
    "\n",
    "Дано: списки `a,b=[1,1,1],[3,3,3]`\n",
    "\n",
    "Создать одномерные массивы A и B из списков а и b.\n",
    "\n",
    "Вычислить выражение $-((B-А)*(B/2))$"
   ]
  },
  {
   "cell_type": "code",
   "execution_count": 3,
   "metadata": {},
   "outputs": [],
   "source": [
    "import numpy as np"
   ]
  },
  {
   "cell_type": "code",
   "execution_count": 5,
   "metadata": {},
   "outputs": [
    {
     "name": "stdout",
     "output_type": "stream",
     "text": [
      "[-3. -3. -3.]\n"
     ]
    }
   ],
   "source": [
    "#1 Ваш код     \n",
    "\n",
    "a = [1, 1, 1]\n",
    "b = [3, 3, 3]\n",
    "\n",
    "\n",
    "A = np.array(a)\n",
    "B = np.array(b)\n",
    "\n",
    "\n",
    "result = -((B - A) * (B / 2))\n",
    "\n",
    "print(result)\n"
   ]
  },
  {
   "cell_type": "markdown",
   "metadata": {},
   "source": [
    "<p style=\"font-size:125%; color:#119988; background-color:#EEE\">Задание 2</p>\n",
    "\n",
    "Используя как можно меньше операций в исходном массиве \"шахматная доска\" np.zeros((8,8)), добиться расстановки кодов \"шахматных фигур\".\n",
    "\n",
    "Ожидаемый результат:\n",
    "```\n",
    "[[-4., -3., -2., -6., -5., -2., -3., -4.],\n",
    " [-1., -1., -1., -1., -1., -1., -1., -1.],\n",
    " [0., 0., 0., 0., 0., 0., 0., 0.],\n",
    " [0., 0., 0., 0., 0., 0., 0., 0.],\n",
    " [0., 0., 0., 0., 0., 0., 0., 0.],\n",
    " [0., 0., 0., 0., 0., 0., 0., 0.],\n",
    " [1., 1., 1., 1., 1., 1., 1., 1.],\n",
    " [4., 3., 2., 6., 5., 2., 3., 4.]]\n",
    " ```"
   ]
  },
  {
   "cell_type": "code",
   "execution_count": 12,
   "metadata": {},
   "outputs": [
    {
     "name": "stdout",
     "output_type": "stream",
     "text": [
      "[[4. 3. 2. 6. 5. 2. 3. 4.]\n",
      " [1. 1. 1. 1. 1. 1. 1. 1.]\n",
      " [0. 0. 0. 0. 0. 0. 0. 0.]\n",
      " [0. 0. 0. 0. 0. 0. 0. 0.]\n",
      " [0. 0. 0. 0. 0. 0. 0. 0.]\n",
      " [0. 0. 0. 0. 0. 0. 0. 0.]\n",
      " [0. 0. 0. 0. 0. 0. 0. 0.]\n",
      " [4. 3. 2. 6. 5. 2. 3. 4.]]\n"
     ]
    }
   ],
   "source": [
    "#2. Ваш код здесь\n",
    "\n",
    "chessboard = np.zeros((8, 8))\n",
    "\n",
    "\n",
    "chessboard[0::7, 0::7] = 4  # Ладьи (4)\n",
    "chessboard[0::7, 1::7] = 3  # Кони (3)\n",
    "chessboard[0::7, 2::7] = 2  # Слоны (2)\n",
    "chessboard[0::7, 3::7] = 6  # Ферзи (6)\n",
    "chessboard[0::7, 4::7] = 5  # Короли (5)\n",
    "chessboard[0::7, 5::7] = 2  # Слоны (2)\n",
    "chessboard[0::7, 6::7] = 3  # Кони (3)\n",
    "chessboard[0::7, 7::7] = 4  # Ладьи (4)\n",
    "chessboard[1::7, ::] = 1  # Пешки (1)\n",
    "\n",
    "print(chessboard)"
   ]
  },
  {
   "cell_type": "markdown",
   "metadata": {},
   "source": [
    "<p style=\"font-size:125%; color:#119988; background-color:#EEE\">Задание 3</p>\n",
    "\n",
    "Средствами NumPy рассчитать произведения четных чисел от 2 до 20 на ближайшие к ним бОльшие нечетные числа"
   ]
  },
  {
   "cell_type": "code",
   "execution_count": 10,
   "metadata": {},
   "outputs": [
    {
     "name": "stdout",
     "output_type": "stream",
     "text": [
      "[  6  20  42  72 110 156 210 272 342 420]\n"
     ]
    }
   ],
   "source": [
    "# 3. Ваш код здесь\n",
    "\n",
    "\n",
    "even_numbers1= np.arange(2, 21, 2)\n",
    "\n",
    "\n",
    "closest_odd_numbers = even_numbers + 1\n",
    "\n",
    "\n",
    "products = even_numbers * closest_odd_numbers\n",
    "\n",
    "print(products)\n"
   ]
  },
  {
   "cell_type": "markdown",
   "metadata": {},
   "source": [
    "<p style=\"font-size:125%; color:#119988; background-color:#EEE\">Задание 4</p>\n",
    "\n",
    "Сгенерировать двумерный массив *arr* размерности (4, 7), состоящий из случайных действительных чисел, равномерно распределенных в дипазоне от 0 до 20. Нормализовать значения массива так, что после нормализации максимальный элемент масива будет равен 1.0, минимальный 0.0. Значения округлить (с помощью `np.round()`) до четырех десятичных знаков."
   ]
  },
  {
   "cell_type": "code",
   "execution_count": 11,
   "metadata": {},
   "outputs": [
    {
     "name": "stdout",
     "output_type": "stream",
     "text": [
      "[[0.4706 0.4463 0.7269 0.1215 0.5725 0.0123 0.6879]\n",
      " [0.9282 0.     0.339  0.2057 0.9839 0.6444 0.5312]\n",
      " [0.7743 0.1166 0.8969 0.6877 0.9024 0.2673 0.1085]\n",
      " [1.     0.5611 0.2527 0.0545 0.7811 0.2702 0.1234]]\n"
     ]
    }
   ],
   "source": [
    "# 4. Ваш код здесь\n",
    "arr = np.random.uniform(0, 20, (4, 7))\n",
    "\n",
    "\n",
    "min_value = arr.min()\n",
    "max_value = arr.max()\n",
    "\n",
    "normalized_arr = np.round((arr - min_value) / (max_value - min_value), 4)\n",
    "\n",
    "print(normalized_arr)\n"
   ]
  },
  {
   "cell_type": "markdown",
   "metadata": {},
   "source": [
    "<p style=\"font-size:125%; color:#119988; background-color:#EEE\">Задание 5</p>\n",
    "\n",
    "5. Имеется массив my_array\n",
    "```\n",
    "my_array = np.array([[1,2,3,4,5],\n",
    "                [6,7,8,9,10],\n",
    "                [11,12,13,14,15],\n",
    "                [16,17,18,19,20],\n",
    "                [21,22,23,24,25]])\n",
    "```\n",
    "Напишите код, с помощью которого можно извлечь из него центральный фрагмент размером 3 х 3, с числами 7, 8, 9, 12, 13, 14, 17, 18, 19."
   ]
  },
  {
   "cell_type": "code",
   "execution_count": 12,
   "metadata": {},
   "outputs": [
    {
     "name": "stdout",
     "output_type": "stream",
     "text": [
      "[[ 7  8  9]\n",
      " [12 13 14]\n",
      " [17 18 19]]\n"
     ]
    }
   ],
   "source": [
    "# 5. Ваш код здесь\n",
    "\n",
    "my_array = np.array([[1,2,3,4,5],\n",
    "             [6,7,8,9,10],\n",
    "             [11,12,13,14,15],\n",
    "             [16,17,18,19,20],\n",
    "             [21,22,23,24,25]])\n",
    "\n",
    "\n",
    "\n",
    "center_fragment = my_array[1:4, 1:4]\n",
    "\n",
    "print(center_fragment)\n"
   ]
  },
  {
   "cell_type": "markdown",
   "metadata": {},
   "source": [
    "<p style=\"font-size:125%; color:#119988; background-color:#EEE\">Задание 6</p>\n",
    "\n",
    "Создайте массив *my_sin*, состоящий из синусов элементов массива *my_array*.\n",
    "Посчитайте, чему равна сумма элементов полученного массива. Ответ округлите до\n",
    "трёх цифр после запятой."
   ]
  },
  {
   "cell_type": "code",
   "execution_count": 13,
   "metadata": {},
   "outputs": [
    {
     "name": "stdout",
     "output_type": "stream",
     "text": [
      "-0.058\n"
     ]
    }
   ],
   "source": [
    "# 6. Ваш код здесь\n",
    "\n",
    "my_array = np.array([[1, 2, 3, 4, 5],\n",
    "                    [6, 7, 8, 9, 10],\n",
    "                    [11, 12, 13, 14, 15],\n",
    "                    [16, 17, 18, 19, 20],\n",
    "                    [21, 22, 23, 24, 25]])\n",
    "\n",
    "\n",
    "my_sin = np.sin(my_array)\n",
    "\n",
    "\n",
    "sum_of_sines = my_sin.sum()\n",
    "\n",
    "\n",
    "sum_of_sines_rounded = round(sum_of_sines, 3)\n",
    "\n",
    "print(sum_of_sines_rounded)\n"
   ]
  },
  {
   "cell_type": "markdown",
   "metadata": {},
   "source": [
    "<p style=\"font-size:125%; color:#119988; background-color:#EEE\">Задание 7</p>\n",
    "\n",
    "Создать матрицу из 20 случайных целых чисел от 0 до 100. Получить второе сверху значение в матрице. Определить индекс этого значения."
   ]
  },
  {
   "cell_type": "code",
   "execution_count": 14,
   "metadata": {},
   "outputs": [
    {
     "name": "stdout",
     "output_type": "stream",
     "text": [
      "Матрица:\n",
      "[[81 24 60 33 14]\n",
      " [58 39 10  0 68]\n",
      " [10 37 44 73 69]\n",
      " [51 29 36 57 62]]\n",
      "Второе сверху значение в матрице: 73\n",
      "Индексы этого значения: [[2 3]]\n"
     ]
    }
   ],
   "source": [
    "# 7. Ваш код здесь\n",
    "\n",
    "\n",
    "matrix = np.random.randint(0, 100, size=(4, 5))\n",
    "\n",
    "\n",
    "second_highest_value = np.sort(matrix.flatten())[-2]\n",
    "\n",
    "indices = np.argwhere(matrix == second_highest_value)\n",
    "\n",
    "\n",
    "print(\"Матрица:\")\n",
    "print(matrix)\n",
    "print(\"Второе сверху значение в матрице:\", second_highest_value)\n",
    "print(\"Индексы этого значения:\", indices)"
   ]
  },
  {
   "cell_type": "markdown",
   "metadata": {},
   "source": [
    "<p style=\"font-size:125%; color:#119988; background-color:#EEE\">Задание 8</p>\n",
    "\n",
    "Задать два двухмерных массива *ar1* и *ar2* размерности (4, 7), состоящих из случайных целых чисел в пределах от 0 до 10. Построить двухмерный массив размерности (4, 7), каждый элемент которого представляет собой максимум (минимум, среднее) из двух значений, находящихся на аналогичной позиции в массивах *ar1*, *ar2*."
   ]
  },
  {
   "cell_type": "code",
   "execution_count": 15,
   "metadata": {},
   "outputs": [
    {
     "name": "stdout",
     "output_type": "stream",
     "text": [
      "Массив ar1:\n",
      "[[8 7 2 0 6 4 7]\n",
      " [9 0 8 3 5 8 3]\n",
      " [9 5 3 6 9 8 7]\n",
      " [4 4 5 2 5 1 3]]\n",
      "\n",
      "Массив ar2:\n",
      "[[10  4  7  5  6  7  9]\n",
      " [ 2  6  3  2 10 10  8]\n",
      " [ 0  1 10  8  6  7  6]\n",
      " [ 6  8  2  0  6  3  7]]\n",
      "\n",
      "Максимум:\n",
      "[[10  7  7  5  6  7  9]\n",
      " [ 9  6  8  3 10 10  8]\n",
      " [ 9  5 10  8  9  8  7]\n",
      " [ 6  8  5  2  6  3  7]]\n",
      "\n",
      "Минимум:\n",
      "[[8 4 2 0 6 4 7]\n",
      " [2 0 3 2 5 8 3]\n",
      " [0 1 3 6 6 7 6]\n",
      " [4 4 2 0 5 1 3]]\n",
      "\n",
      "Среднее:\n",
      "[[9.  5.5 4.5 2.5 6.  5.5 8. ]\n",
      " [5.5 3.  5.5 2.5 7.5 9.  5.5]\n",
      " [4.5 3.  6.5 7.  7.5 7.5 6.5]\n",
      " [5.  6.  3.5 1.  5.5 2.  5. ]]\n"
     ]
    }
   ],
   "source": [
    "# 8. Ваш код здесь\n",
    "\n",
    "\n",
    "\n",
    "ar1 = np.random.randint(0, 11, size=(4, 7))\n",
    "ar2 = np.random.randint(0, 11, size=(4, 7))\n",
    "\n",
    "\n",
    "maximum_result = np.maximum(ar1, ar2)\n",
    "minimum_result = np.minimum(ar1, ar2)\n",
    "average_result = (ar1 + ar2) / 2\n",
    "\n",
    "\n",
    "print(\"Массив ar1:\")\n",
    "print(ar1)\n",
    "print(\"\\nМассив ar2:\")\n",
    "print(ar2)\n",
    "print(\"\\nМаксимум:\")\n",
    "print(maximum_result)\n",
    "print(\"\\nМинимум:\")\n",
    "print(minimum_result)\n",
    "print(\"\\nСреднее:\")\n",
    "print(average_result)"
   ]
  },
  {
   "cell_type": "markdown",
   "metadata": {},
   "source": [
    "<p style=\"font-size:125%; color:#119988; background-color:#EEE\">Задание 9</p>\n",
    "\n",
    "Имеется массив *great_array*\n",
    "```\n",
    "first = [x**(1/2) for x in range(100)]\n",
    "second = [x**(1/3) for x in range(100, 200)]\n",
    "third = [x/y for x in range(200,300,2) for y in [3,5]]\n",
    "great_array = np.array([first, second, third]).T\n",
    "```\n",
    "Чему равна сумма элементов массива great_array, значение которых больше 50?"
   ]
  },
  {
   "cell_type": "code",
   "execution_count": 16,
   "metadata": {},
   "outputs": [
    {
     "name": "stdout",
     "output_type": "stream",
     "text": [
      "Сумма элементов больше 50: 5470.0\n"
     ]
    }
   ],
   "source": [
    "#9 Ваш код здесь\n",
    "\n",
    "first = [x**(1/2) for x in range(100)]\n",
    "second = [x**(1/3) for x in range(100, 200)]\n",
    "third = [x/y for x in range(200,300,2) for y in [3,5]]\n",
    "great_array = np.array([first, second, third]).T\n",
    "\n",
    "\n",
    "sum_of_elements = np.sum(great_array[great_array > 50])\n",
    "\n",
    "print(\"Сумма элементов больше 50:\", sum_of_elements)\n",
    "\n"
   ]
  },
  {
   "cell_type": "markdown",
   "metadata": {},
   "source": [
    "<p style=\"font-size:125%; color:#119988; background-color:#EEE\">Задание 10</p>\n",
    "\n",
    "Переведите массив *great_array* в одномерную форму. Какое значение в получившемся массиве имеет элемент с индексом 150?"
   ]
  },
  {
   "cell_type": "code",
   "execution_count": 17,
   "metadata": {},
   "outputs": [
    {
     "name": "stdout",
     "output_type": "stream",
     "text": [
      "Значение элемента с индексом 150: 7.0710678118654755\n"
     ]
    }
   ],
   "source": [
    "# 10. Ваш код здесь\n",
    "\n",
    "import numpy as np\n",
    "\n",
    "first = [x**(1/2) for x in range(100)]\n",
    "second = [x**(1/3) for x in range(100, 200)]\n",
    "third = [x/y for x in range(200, 300, 2) for y in [3, 5]]\n",
    "great_array = np.array([first, second, third]).T\n",
    "\n",
    "\n",
    "great_array_flat = great_array.flatten()\n",
    "\n",
    "\n",
    "element_at_index_150 = great_array_flat[150]\n",
    "\n",
    "print(\"Значение элемента с индексом 150:\", element_at_index_150)\n"
   ]
  },
  {
   "cell_type": "markdown",
   "metadata": {},
   "source": [
    "<p style=\"font-size:125%; color:#119988; background-color:#EEE\">Задание 11</p>\n",
    "\n",
    "Получить индексы, для которых элементы массивов A и B совпадают.\n",
    "```\n",
    "A = np.array([1,2,3,2,3,4,3,4,5,6])\n",
    "B = np.array([7,2,10,2,7,4,9,4,9,8])\n",
    "```\n",
    "Ожидается результат:\n",
    "\n",
    "```\n",
    "array([1, 3, 5, 7])\n",
    "```"
   ]
  },
  {
   "cell_type": "code",
   "execution_count": 18,
   "metadata": {},
   "outputs": [
    {
     "name": "stdout",
     "output_type": "stream",
     "text": [
      "[1 3 5 7]\n"
     ]
    }
   ],
   "source": [
    "# 11.\n",
    "\n",
    "A = np.array([1,2,3,2,3,4,3,4,5,6])\n",
    "B = np.array([7,2,10,2,7,4,9,4,9,8])\n",
    "\n",
    "# Ваш код здесь\n",
    "\n",
    "\n",
    "matching_indices = np.where(A == B)[0]\n",
    "\n",
    "print(matching_indices)"
   ]
  },
  {
   "cell_type": "markdown",
   "metadata": {},
   "source": [
    "<p style=\"font-size:125%; color:#119988; background-color:#EEE\">Задание 12</p>\n",
    "\n",
    "Создайте три массива: массив четных чисел от 2 до 20, массив ближайших к числам первого массива бОльших нечётных чисел, массив векторного произведения первого массива на второй. Соедините все массивы в один двумерный массив, расположив исходные массивы в столбцах."
   ]
  },
  {
   "cell_type": "code",
   "execution_count": 19,
   "metadata": {},
   "outputs": [
    {
     "name": "stdout",
     "output_type": "stream",
     "text": [
      "[[  2   3   6]\n",
      " [  4   5  20]\n",
      " [  6   7  42]\n",
      " [  8   9  72]\n",
      " [ 10  11 110]\n",
      " [ 12  13 156]\n",
      " [ 14  15 210]\n",
      " [ 16  17 272]\n",
      " [ 18  19 342]\n",
      " [ 20  21 420]]\n"
     ]
    }
   ],
   "source": [
    "# 12.  Ваш код здесь\n",
    "\n",
    "even_numbers = np.arange(2, 21, 2)\n",
    "\n",
    "closest_odd_numbers = even_numbers + 1\n",
    "\n",
    "\n",
    "vector_product = even_numbers * closest_odd_numbers\n",
    "\n",
    "\n",
    "combined_array = np.column_stack((even_numbers, closest_odd_numbers, vector_product))\n",
    "\n",
    "print(combined_array)\n"
   ]
  },
  {
   "cell_type": "code",
   "execution_count": null,
   "metadata": {},
   "outputs": [],
   "source": []
  }
 ],
 "metadata": {
  "kernelspec": {
   "display_name": "Python 3 (ipykernel)",
   "language": "python",
   "name": "python3"
  },
  "language_info": {
   "codemirror_mode": {
    "name": "ipython",
    "version": 3
   },
   "file_extension": ".py",
   "mimetype": "text/x-python",
   "name": "python",
   "nbconvert_exporter": "python",
   "pygments_lexer": "ipython3",
   "version": "3.11.4"
  },
  "toc": {
   "base_numbering": 1,
   "nav_menu": {},
   "number_sections": true,
   "sideBar": true,
   "skip_h1_title": false,
   "title_cell": "Table of Contents",
   "title_sidebar": "Contents",
   "toc_cell": true,
   "toc_position": {},
   "toc_section_display": true,
   "toc_window_display": false
  },
  "varInspector": {
   "cols": {
    "lenName": 16,
    "lenType": 16,
    "lenVar": 40
   },
   "kernels_config": {
    "python": {
     "delete_cmd_postfix": "",
     "delete_cmd_prefix": "del ",
     "library": "var_list.py",
     "varRefreshCmd": "print(var_dic_list())"
    },
    "r": {
     "delete_cmd_postfix": ") ",
     "delete_cmd_prefix": "rm(",
     "library": "var_list.r",
     "varRefreshCmd": "cat(var_dic_list()) "
    }
   },
   "types_to_exclude": [
    "module",
    "function",
    "builtin_function_or_method",
    "instance",
    "_Feature"
   ],
   "window_display": false
  }
 },
 "nbformat": 4,
 "nbformat_minor": 4
}
