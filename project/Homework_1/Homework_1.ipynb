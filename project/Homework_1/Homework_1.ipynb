{
 "cells": [
  {
   "cell_type": "markdown",
   "metadata": {
    "toc": true
   },
   "source": [
    "<h1>Table of Contents<span class=\"tocSkip\"></span></h1>\n",
    "<div class=\"toc\"><ul class=\"toc-item\"><li><span><a href=\"#-Homework-1-(Topics-1-4:-Data-Structures,-Indexing,-Cleaning-Data,-Math)\" data-toc-modified-id=\"-Homework-1-(Topics-1-4:-Data-Structures,-Indexing,-Cleaning-Data,-Math)-1\"><span class=\"toc-item-num\">1&nbsp;&nbsp;</span><center> Homework 1 (Topics 1-4: Data Structures, Indexing, Cleaning Data, Math)</center></a></span><ul class=\"toc-item\"><li><ul class=\"toc-item\"><li><ul class=\"toc-item\"><li><span><a href=\"#Task-1.\" data-toc-modified-id=\"Task-1.-1.0.0.1\"><span class=\"toc-item-num\">1.0.0.1&nbsp;&nbsp;</span>Task 1.</a></span></li><li><span><a href=\"#Варианты-ответов:\" data-toc-modified-id=\"Варианты-ответов:-1.0.0.2\"><span class=\"toc-item-num\">1.0.0.2&nbsp;&nbsp;</span>Варианты ответов:</a></span></li><li><span><a href=\"#Task-2.\" data-toc-modified-id=\"Task-2.-1.0.0.3\"><span class=\"toc-item-num\">1.0.0.3&nbsp;&nbsp;</span>Task 2.</a></span></li><li><span><a href=\"#Вопросы:\" data-toc-modified-id=\"Вопросы:-1.0.0.4\"><span class=\"toc-item-num\">1.0.0.4&nbsp;&nbsp;</span>Вопросы:</a></span></li><li><span><a href=\"#Task-3.\" data-toc-modified-id=\"Task-3.-1.0.0.5\"><span class=\"toc-item-num\">1.0.0.5&nbsp;&nbsp;</span>Task 3.</a></span></li><li><span><a href=\"#Выберите-все-верные-пункты:\" data-toc-modified-id=\"Выберите-все-верные-пункты:-1.0.0.6\"><span class=\"toc-item-num\">1.0.0.6&nbsp;&nbsp;</span>Выберите все верные пункты:</a></span></li><li><span><a href=\"#Task-4.\" data-toc-modified-id=\"Task-4.-1.0.0.7\"><span class=\"toc-item-num\">1.0.0.7&nbsp;&nbsp;</span>Task 4.</a></span></li><li><span><a href=\"#Пояснения:\" data-toc-modified-id=\"Пояснения:-1.0.0.8\"><span class=\"toc-item-num\">1.0.0.8&nbsp;&nbsp;</span>Пояснения:</a></span></li></ul></li><li><span><a href=\"#Информация-для-последующих-заданий\" data-toc-modified-id=\"Информация-для-последующих-заданий-1.0.1\"><span class=\"toc-item-num\">1.0.1&nbsp;&nbsp;</span>Информация для последующих заданий</a></span></li></ul></li><li><span><a href=\"#Описание-данных\" data-toc-modified-id=\"Описание-данных-1.1\"><span class=\"toc-item-num\">1.1&nbsp;&nbsp;</span>Описание данных</a></span><ul class=\"toc-item\"><li><span><a href=\"#Таблица-transactions.csv\" data-toc-modified-id=\"Таблица-transactions.csv-1.1.1\"><span class=\"toc-item-num\">1.1.1&nbsp;&nbsp;</span>Таблица <code>transactions.csv</code></a></span></li><li><span><a href=\"#Таблица-gender_train.csv\" data-toc-modified-id=\"Таблица-gender_train.csv-1.1.2\"><span class=\"toc-item-num\">1.1.2&nbsp;&nbsp;</span>Таблица <code>gender_train.csv</code></a></span></li><li><span><a href=\"#Таблица-tr_mcc_codes.csv\" data-toc-modified-id=\"Таблица-tr_mcc_codes.csv-1.1.3\"><span class=\"toc-item-num\">1.1.3&nbsp;&nbsp;</span>Таблица <code>tr_mcc_codes.csv</code></a></span></li><li><span><a href=\"#Таблица-tr_types.csv\" data-toc-modified-id=\"Таблица-tr_types.csv-1.1.4\"><span class=\"toc-item-num\">1.1.4&nbsp;&nbsp;</span>Таблица <code>tr_types.csv</code></a></span><ul class=\"toc-item\"><li><span><a href=\"#Task-5.\" data-toc-modified-id=\"Task-5.-1.1.4.1\"><span class=\"toc-item-num\">1.1.4.1&nbsp;&nbsp;</span>Task 5.</a></span></li><li><span><a href=\"#Task-6.\" data-toc-modified-id=\"Task-6.-1.1.4.2\"><span class=\"toc-item-num\">1.1.4.2&nbsp;&nbsp;</span>Task 6.</a></span></li><li><span><a href=\"#Выберите-все-верные-пункты:\" data-toc-modified-id=\"Выберите-все-верные-пункты:-1.1.4.3\"><span class=\"toc-item-num\">1.1.4.3&nbsp;&nbsp;</span>Выберите все верные пункты:</a></span></li><li><span><a href=\"#Task-7.\" data-toc-modified-id=\"Task-7.-1.1.4.4\"><span class=\"toc-item-num\">1.1.4.4&nbsp;&nbsp;</span>Task 7.</a></span></li><li><span><a href=\"#Выберите-все-верные-пункты:\" data-toc-modified-id=\"Выберите-все-верные-пункты:-1.1.4.5\"><span class=\"toc-item-num\">1.1.4.5&nbsp;&nbsp;</span>Выберите все верные пункты:</a></span></li><li><span><a href=\"#Task-8.\" data-toc-modified-id=\"Task-8.-1.1.4.6\"><span class=\"toc-item-num\">1.1.4.6&nbsp;&nbsp;</span>Task 8.</a></span></li></ul></li></ul></li></ul></li></ul></div>"
   ]
  },
  {
   "cell_type": "markdown",
   "metadata": {},
   "source": [
    "# <center> Homework 1 (Topics 1-4: Data Structures, Indexing, Cleaning Data, Math)"
   ]
  },
  {
   "cell_type": "code",
   "execution_count": 1,
   "metadata": {
    "ExecuteTime": {
     "end_time": "2020-04-23T10:16:05.965275Z",
     "start_time": "2020-04-23T10:16:05.312704Z"
    }
   },
   "outputs": [],
   "source": [
    "import pandas as pd\n",
    "import numpy as np"
   ]
  },
  {
   "cell_type": "markdown",
   "metadata": {},
   "source": [
    "#### Task 1. \n",
    "Задание:\n",
    "\n",
    "1. Создайте Series из последовательности 15 значений, равномерно разбивающих отрезок [0, 20] (воспользуйтесь функцией linspace)\n",
    "2. Определите отношение элементов полученной серии к их предыдущим элементам (\\*). \n",
    "3. В результате необходимо получить среднее полученного вектора, оставив в нём только те значения, которые не более чем 1.5 (\\**). \n",
    "\n",
    "Выберите из ответов тот, который максимально близок к полученному (c точки зрения абсолютной разницы).\n",
    "\n",
    "#### Варианты ответов:\n",
    "    - 1) 1.24\n",
    "    - 2) 1.18 \n",
    "    - 3) 0.71\n",
    "    - 4) 1.13\n",
    "\n",
    "\n",
    "##### Пояснения:\n",
    "(\\*) Если было бы необходимо найти последовательность из 3-х значений,  \n",
    "равномерно разбивающих отрезок [0,1], то это были бы значения [0, 0.5, 1]. \n",
    "\n",
    "(\\**) Если был бы дан список элементов a = [1,2,3,12], отношения элементов к предыдущим будут равны [NaN, 2, 1.5, 4].  \n",
    "А на последнем этапе в таком примере останется только [1.5] и среднее значение будет также 1.5."
   ]
  },
  {
   "cell_type": "code",
   "execution_count": 2,
   "metadata": {
    "ExecuteTime": {
     "end_time": "2020-04-23T10:13:26.017568Z",
     "start_time": "2020-04-23T10:13:26.014793Z"
    }
   },
   "outputs": [
    {
     "name": "stdout",
     "output_type": "stream",
     "text": [
      "1.181677812927813\n"
     ]
    }
   ],
   "source": [
    "### Type your code here\n",
    "\n",
    "series = pd.Series(np.linspace(0, 20, 15))\n",
    "\n",
    "# Отношение элементов к предыдущим элементам\n",
    "ratio_series = series / series.shift(1)\n",
    "\n",
    "# Выбираем значения не более чем 1.5\n",
    "filtered_series = ratio_series[ratio_series <= 1.5]\n",
    "\n",
    "# Вычисляем среднее\n",
    "mean_value = filtered_series.mean()\n",
    "print(mean_value)"
   ]
  },
  {
   "cell_type": "markdown",
   "metadata": {},
   "source": [
    "#### Task 2. \n",
    "Выберите все верные ответы касательно следующих четырех Series:\n",
    "    - pd.Series('abcde'); (1) \n",
    "    - pd.Series(['abcde']); (2) \n",
    "    - pd.Series(list('abcde')); (3)\n",
    "    - pd.Series(\"abcde\"); (4)\n",
    "    \n",
    "##### Пояснения:\n",
    "(\\*)\n",
    "- функция list: в строке каждый символ - это отдельный элемент для list\n",
    "- квадратные скобки: в квадратных скобках списку передается множество элементов по отдельности через запятую\n",
    "\n",
    "\n",
    "#### Вопросы:\n",
    "    - 1) Серия (1) совпадает с серией (2), так как в каждом из случаев серия создаётся из списка строк\n",
    "    - 2) Серия (2) совпадает с серией (3), так как в каждом из случаев серия создаётся из списка символов \n",
    "    - 3) Серия (1) не совпадает с серией (4), так как в (4) используются двойные кавычки \"\" вместо одинарных '' \n",
    "    \n",
    "    \n",
    "    \n",
    "    Ответ :\n",
    "    \n",
    "    pd.Series('abcde') - Это создание серии из строки 'abcde'. В этом случае, каждая буква будет отдельным элементом серии, как если бы мы использовали list('abcde'). Таким образом, утверждение (1) совпадает с утверждением (3).\n",
    "    \n",
    "    pd.Series(['abcde']) - Это создание серии из списка, который содержит один элемент - строку 'abcde'. В данном случае, в серии будет один элемент, и это не совпадает с утверждением (3), где каждая буква будет отдельным элементом.\n",
    "\n",
    "    pd.Series(list('abcde')) - Это создание серии из списка, который содержит пять элементов - символы 'a', 'b', 'c', 'd' и 'e'. Это совпадает с утверждением (2), где также создается серия из списка символов.\n",
    "\n",
    "    pd.Series(\"abcde\") - Это создание серии из строки \"abcde\", где строка целиком будет одним элементом серии. Это не совпадает с утверждением (1), где каждая буква будет отдельным элементом.\n",
    "\n",
    "    Итак, верные утверждения:\n",
    "\n",
    "    Серия (1) совпадает с серией (3), так как в каждом из случаев серия создаётся из списка символов (в данном случае, строка представляется как список символов).\n",
    "    Серия (2) совпадает с серией (3), так как в каждом из случаев серия создаётся из списка символов.\n",
    "    Таким образом, ответы 1) и 2) верны.\n",
    "\n",
    "\n",
    "\n",
    "\n"
   ]
  },
  {
   "cell_type": "code",
   "execution_count": 2,
   "metadata": {},
   "outputs": [
    {
     "name": "stdout",
     "output_type": "stream",
     "text": [
      "Утверждение 1: Серия (1) совпадает с серией (2) - True\n",
      "Утверждение 2: Серия (2) совпадает с серией (3) - False\n",
      "Утверждение 3: Серия (1) не совпадает с серией (4) - False\n"
     ]
    }
   ],
   "source": [
    "# Создаем указанные Series\n",
    "series_1 = pd.Series('abcde')\n",
    "series_2 = pd.Series(['abcde'])\n",
    "series_3 = pd.Series(list('abcde'))\n",
    "series_4 = pd.Series(\"abcde\")\n",
    "\n",
    "# Проверяем утверждения\n",
    "statement_1 = series_1.equals(series_2)\n",
    "statement_2 = series_2.equals(series_3)\n",
    "statement_3 = not series_1.equals(series_4)\n",
    "\n",
    "# Выводим результаты\n",
    "print(f\"Утверждение 1: Серия (1) совпадает с серией (2) - {statement_1}\")\n",
    "print(f\"Утверждение 2: Серия (2) совпадает с серией (3) - {statement_2}\")\n",
    "print(f\"Утверждение 3: Серия (1) не совпадает с серией (4) - {statement_3}\")"
   ]
  },
  {
   "cell_type": "markdown",
   "metadata": {},
   "source": [
    "#### Task 3. \n",
    "\n",
    "По клиенту получены зашумленные данные (объект s типа Series) по его транзакциям. \n",
    "\n",
    "Для заданного ниже объекта s проделайте следующее:\n",
    "1. Создайте новый Series, значения которого совпадают со значениями s, а индексы - целочисленные значения от 2 до 12, не включая 12. \n",
    "2. Выберите из s элементы с индексами 3 и 5, после чего просуммируйте их, сохранив результат (1). \n",
    "3. Выберите из s только целочисленные элементы и вычислите их дисперсию (2). (\\*)\n",
    "\n",
    "Все полученные результаты округлите до 2-х знаков после запятой.\n",
    "\n",
    "#### Выберите все верные пункты:\n",
    "    - 1) Ответ (1) - 642.52\n",
    "    - 2) Ответ (1) - 91.78\n",
    "    - 3) Ответ (1) - не может быть определён\n",
    "    - 4) Ответ (2) - 57591.19\n",
    "    - 5) Ответ (2) - 210.12\n",
    "    - 6) Ответ (2) - не может быть определён\n",
    "\n",
    "##### Пояснения:\n",
    "(\\*) Целочисленные значения - значения, имеющие тип int.\n",
    "- Дисперсия рассчитывается с помощью функции из библиотеки numpy: np.var( , ddof=0) или встроенной в python функции: .var(ddof=1)"
   ]
  },
  {
   "cell_type": "code",
   "execution_count": 7,
   "metadata": {
    "ExecuteTime": {
     "end_time": "2020-04-23T10:17:18.795695Z",
     "start_time": "2020-04-23T10:17:18.791449Z"
    }
   },
   "outputs": [
    {
     "name": "stdout",
     "output_type": "stream",
     "text": [
      "Ответ (1): 57.46\n",
      "Ответ (2): 1115.8 \n",
      "\n",
      "\n",
      "Ответ (1) - 642.52: Нет\n",
      " Ответ (1) - 91.78: Да\n",
      " Ответ (1) - не может быть определён: Нет\n",
      " Ответ (2) - 57591.19: Нет\n",
      " Ответ (2) - 210.12: Нет\n",
      " Ответ (2) - не может быть определён: Нет\n"
     ]
    }
   ],
   "source": [
    "\n",
    "# Заданный Series\n",
    "s = pd.Series([12.345, 45.67, 89, 34, 78.9, 23.456, 11, 9, 10.12, 67.89, 123.456, 55])\n",
    "\n",
    "# Создание нового Series с индексами от 2 до 11\n",
    "new_series = pd.Series(s.values[:10], index=range(2, 12))\n",
    "\n",
    "# Выбор элементов с индексами 3 и 5 и их суммирование\n",
    "result_1 = s.iloc[[3, 5]].sum()\n",
    "\n",
    "# Выбор только целочисленных элементов и вычисление их дисперсии\n",
    "integer_elements = s[s.astype(int) == s]\n",
    "result_2 = np.var(integer_elements, ddof=1)\n",
    "\n",
    "# Ответы округлены до 2-х знаков после запятой\n",
    "result_1 = round(result_1, 2)\n",
    "result_2 = round(result_2, 2)\n",
    "\n",
    "# Вывод результатов\n",
    "print(f\"Ответ (1): {result_1}\")\n",
    "print(f\"Ответ (2): {result_2} \\n\\n\")\n",
    "print (\"Ответ (1) - 642.52: Нет\\n Ответ (1) - 91.78: Да\\n Ответ (1) - не может быть определён: Нет\\n Ответ (2) - 57591.19: Нет\\n Ответ (2) - 210.12: Нет\\n Ответ (2) - не может быть определён: Нет\")"
   ]
  },
  {
   "cell_type": "markdown",
   "metadata": {},
   "source": [
    "#### Task 4. \n",
    "1. Сгенерируйте Series из 100 значений нормально распределённой СВ (np.random.normal с дефолтными параметрами - нулевым средним и единичной дисперсией).\n",
    "2. Возведите каждое значение серии в 3 степень, а значения индекса увеличьте в 3 раза. \n",
    "3. Ответьте на следующие вопросы через запятую (без пробелов) (\\*)\n",
    "    - 1) Выведите сумму элементов, строго меньших 2.6, имеющих нечётные значения индекса. \n",
    "    - 2) Выведите количество значений серии меньше нуля.\n",
    "\n",
    "#### Пояснения:\n",
    "(\\*) Если получились ответы 3, 4.32, то в форму необходимо внести их в виде \"3,4.32\". То есть вещественные числа необходимо разделять точками. Не забудьте про фиксированный seed (его менять не нужно)!\n",
    " - Определенное значение seed нужно, чтобы ответы у всех выполняющих\n",
    "это задание были одинаковые и их можно было проверить (так как генерируются\n",
    "одинаковые series).\n",
    " - Следует внимательнее использовать [ ] для выбора данных по нескольким условиям:\n",
    "либо выбирать данные последовательно, либо сразу по нескольким условиям,\n",
    "но через оператор &. Отличие оператора and от оператора &: and - выводит\n",
    "последнее проверенное значение, & - выводит пересечение значений.\n",
    "Пример: s[ _  &  _ ].sum() "
   ]
  },
  {
   "cell_type": "code",
   "execution_count": 4,
   "metadata": {
    "ExecuteTime": {
     "end_time": "2020-04-23T10:18:35.713300Z",
     "start_time": "2020-04-23T10:18:35.710616Z"
    }
   },
   "outputs": [
    {
     "name": "stdout",
     "output_type": "stream",
     "text": [
      "-15.150748101821666 51\n"
     ]
    }
   ],
   "source": [
    "np.random.seed(242)\n",
    "### Type your code here\n",
    "\n",
    "# Генерация 100 случайных чисел из нормального распределения\n",
    "data = np.random.normal(size=100)\n",
    "\n",
    "# Создание pandas Series из сгенерированных данных\n",
    "series = pd.Series(data)\n",
    "\n",
    "# Возведение каждого элемента в куб и умножение индексов на 3\n",
    "series = series ** 3\n",
    "series.index = series.index * 3\n",
    "\n",
    "# Вычисление суммы значений, которые меньше 2.6 и имеют нечетные индексы\n",
    "sum_less_2 = series[(series < 2.6) & (series.index % 2 != 0)].sum()\n",
    "\n",
    "# Подсчет количества отрицательных значений в серии\n",
    "count_negative_values = (series < 0).sum()\n",
    "\n",
    "# Вывод результатов\n",
    "print(sum_less_2, count_negative_values)"
   ]
  },
  {
   "cell_type": "markdown",
   "metadata": {},
   "source": [
    "### Информация для последующих заданий\n",
    "- Для всех последующих заданий будем использовать обезличенные транзакционные банковские данные. Для этого считайте в переменные tr_mcc_codes, tr_types, transactions и gender_train из одноимённых таблиц из папки data. Для таблицы transactions используйте только первые n=1000000 строк. Обратите внимание на разделители внутри каждого из файлов - они могут различаться!"
   ]
  },
  {
   "cell_type": "code",
   "execution_count": 20,
   "metadata": {
    "ExecuteTime": {
     "end_time": "2020-04-23T10:19:13.080203Z",
     "start_time": "2020-04-23T10:19:13.077711Z"
    }
   },
   "outputs": [],
   "source": [
    "### Type your code here\n",
    "\n",
    "# Считываем данные из файлов\n",
    "tr_mcc_codes = pd.read_csv('C:/Users/cated/OneDrive/Документы/transact/tr_mcc_codes.csv', sep=';')\n",
    "tr_types = pd.read_csv('C:/Users/cated/OneDrive/Документы/transact/tr_types.csv', sep=';')\n",
    "transactions = pd.read_csv('C:/Users/cated/OneDrive/Документы/transact/transactions.csv', sep=',', nrows=1000000, encoding = 'utf-8')\n",
    "gender_train = pd.read_csv('C:/Users/cated/OneDrive/Документы/transact/gender_train.csv', sep=';')\n"
   ]
  },
  {
   "cell_type": "markdown",
   "metadata": {},
   "source": [
    "## Описание данных\n",
    "### Таблица ```transactions.csv```\n",
    "##### Описание\n",
    "Таблица содержит историю транзакций клиентов банка за один год и три месяца.\n",
    "\n",
    "##### Формат данных\n",
    "\n",
    "```\n",
    "customer_id,tr_datetime,mcc_code,tr_type,amount,term_id\n",
    "111111,15 01:40:52,1111,1000,-5224,111111\n",
    "111112,15 15:18:32,3333,2000,-100,11122233\n",
    "...\n",
    "```\n",
    "##### Описание полей\n",
    "\n",
    " - ```customer_id``` — идентификатор клиента;\n",
    " - ```tr_datetime``` — день и время совершения транзакции (дни нумеруются с начала данных);\n",
    " - ```mcc_code``` — mcc-код транзакции;\n",
    " - ```tr_type``` — тип транзакции;\n",
    " - ```amount``` — сумма транзакции в условных единицах со знаком; ```+``` — начисление средств клиенту (приходная транзакция), ```-``` — списание средств (расходная транзакция);\n",
    " - ```term_id``` — идентификатор терминала;\n",
    "\n",
    "\n",
    "### Таблица ```gender_train.csv```\n",
    "\n",
    "##### Описание\n",
    "Данная таблица содержит информацию по полу для части клиентов, для которых он известен. Для остальных клиентов пол неизвестен.\n",
    "\n",
    "##### Формат данных\n",
    "```\n",
    "customer_id,gender\n",
    "111111,0\n",
    "111112,1\n",
    "...\n",
    "```\n",
    "\n",
    "##### Описание полей\n",
    " - ```customer_id``` — идентификатор клиента;\n",
    " - ```gender``` — пол клиента;\n",
    "\n",
    "### Таблица ```tr_mcc_codes.csv```\n",
    "\n",
    "##### Описание\n",
    "Данная таблица содержит описание mcc-кодов транзакций.\n",
    "\n",
    "##### Формат данных\n",
    "```\n",
    "mcc_code;mcc_description\n",
    "1000;словесное описание mcc-кода 1000\n",
    "2000;словесное описание mcc-кода 2000\n",
    "...\n",
    "```\n",
    "\n",
    "##### Описание полей\n",
    " - ```mcc_code``` – mcc-код транзакции;\n",
    " - ```mcc_description``` — описание mcc-кода транзакции.\n",
    "\n",
    "### Таблица ```tr_types.csv```\n",
    "\n",
    "##### Описание\n",
    "Данная таблица содержит описание типов транзакций.\n",
    "\n",
    "##### Формат данных\n",
    "```\n",
    "tr_type;tr_description\n",
    "1000;словесное описание типа транзакции 1000\n",
    "2000;словесное описание типа транзакции 2000\n",
    "...\n",
    "```\n",
    "\n",
    "##### Описание полей\n",
    " - ```tr_type``` – тип транзакции;\n",
    " - ```tr_description``` — описание типа транзакции;"
   ]
  },
  {
   "cell_type": "markdown",
   "metadata": {},
   "source": [
    "#### Task 5.\n",
    "1. В tr_types выберите произвольные 100 строк с помощью метода sample (указав при этом random_seed равный 242)\n",
    "2. В полученной на предыдущем этапе подвыборке найдите долю наблюдений (стобец tr_description), в которой содержится подстрока 'плата' (в любом регистре). (\\*)\n",
    "\n",
    "Выведите ответ в виде вещественного числа, округлённого до двух знаков после запятой, отделив дробную часть точкой в формате \"123.45\"\n",
    "\n",
    "##### Пояснения:\n",
    "(\\*) Строки \"ПлатА за аренду\", \"ПлатАза аренду\", \"ПЛАТА\" удовлетворяют условию, так как будучи переведёнными в нижний регистр содержат подстроку \"плата\"."
   ]
  },
  {
   "cell_type": "code",
   "execution_count": 6,
   "metadata": {
    "ExecuteTime": {
     "end_time": "2020-04-23T10:19:45.872766Z",
     "start_time": "2020-04-23T10:19:45.870317Z"
    },
    "scrolled": true
   },
   "outputs": [
    {
     "name": "stdout",
     "output_type": "stream",
     "text": [
      "0.26\n"
     ]
    }
   ],
   "source": [
    "### Type your code here\n",
    "\n",
    "# Выбираем 100 случайных строк с random_seed=242\n",
    "random_sample = tr_types.sample(n=100, random_state=242)\n",
    "\n",
    "# Находим долю наблюдений, в которых содержится подстрока 'плата' (в любом регистре)\n",
    "contains_plata = random_sample['tr_description'].str.contains('плата', case=False).mean()\n",
    "\n",
    "# Выводим ответ в нужном формате\n",
    "print(f'{contains_plata:.2f}')"
   ]
  },
  {
   "cell_type": "markdown",
   "metadata": {},
   "source": [
    "#### Task 6. \n",
    "1. Для поля tr_type датафрейма transactions посчитайте частоту встречаемости всех типов транзакций tr_type в transactions.\n",
    "2. Из перечисленных вариантов выберите те, которые попали в топ-5 транзакций по частоте встречаемости.\n",
    "\n",
    "#### Выберите все верные пункты:\n",
    "    - 1) Выдача наличных в АТМ Сбербанк России\n",
    "    - 2) Комиссия за обслуживание ссудного счета\n",
    "    - 3) Списание по требованию\t\n",
    "    - 4) Оплата услуги. Банкоматы СБ РФ\n",
    "    - 5) Погашение кредита (в пределах одного филиала)\n",
    "    - 6) Покупка. POS ТУ СБ РФ"
   ]
  },
  {
   "cell_type": "code",
   "execution_count": 14,
   "metadata": {
    "ExecuteTime": {
     "end_time": "2020-04-23T10:20:31.273965Z",
     "start_time": "2020-04-23T10:20:31.271483Z"
    }
   },
   "outputs": [
    {
     "name": "stdout",
     "output_type": "stream",
     "text": [
      "[1010, 2010, 7070, 1110, 1030, 2370]\n",
      "Топ-6 транзакций по частоте встречаемости:\n",
      "- Выдача наличных в АТМ Сбербанк России\n",
      "- Комиссия за обслуживание ссудного счета\n",
      "- Списание по требованию\n",
      "- Оплата услуги. Банкоматы СБ РФ\n",
      "- Погашение кредита (в пределах одного филиала)\n",
      "- Покупка. POS ТУ СБ РФ\n"
     ]
    }
   ],
   "source": [
    "### Type your code here\n",
    "\n",
    "# Группируем данные по полю tr_type и считаем частоту встречаемости каждого типа транзакции\n",
    "tr_type_counts = transactions['tr_type'].value_counts()\n",
    "\n",
    "# Получаем топ-5 типов транзакций по частоте встречаемости\n",
    "top_6_tr_types = tr_type_counts.head(6).index.tolist()\n",
    "\n",
    "# Выводим результат\n",
    "print(top_6_tr_types)\n",
    "\n",
    "options = {\n",
    "    1010: 'Выдача наличных в АТМ Сбербанк России',\n",
    "    2010: 'Комиссия за обслуживание ссудного счета',\n",
    "    7070: 'Списание по требованию',\n",
    "    1110: 'Оплата услуги. Банкоматы СБ РФ',\n",
    "    1030: 'Погашение кредита (в пределах одного филиала)',\n",
    "    2370: 'Покупка. POS ТУ СБ РФ'\n",
    "}\n",
    "\n",
    "selected_options = [options[tr_type] for tr_type in top_6_tr_types]\n",
    "\n",
    "print(\"Топ-6 транзакций по частоте встречаемости:\")\n",
    "for option in selected_options:\n",
    "    print(f\"- {option}\")\n",
    "    \n",
    "    \n",
    "    \n",
    "    \n",
    "# Группируем данные по полю tr_type и считаем частоту встречаемости каждого типа транзакции\n",
    "#tr_type_counts = transactions['tr_type'].value_counts()\n",
    "\n",
    "# Получаем топ-5 типов транзакций по частоте встречаемости\n",
    "#top_5_tr_types = tr_type_counts.head(5)\n",
    "\n",
    "# Выводим результат\n",
    "#print(top_5_tr_types)\n",
    "\n",
    "# 1) Выдача наличных в АТМ Сбербанк России\n",
    "#print('1) Выдача наличных в АТМ Сбербанк России:', 'Yes' if 101 in top_5_tr_types.index else 'No')\n",
    "\n",
    "# 2) Комиссия за обслуживание ссудного счета\n",
    "#print('2) Комиссия за обслуживание ссудного счета:', 'Yes' if 120 in top_5_tr_types.index else 'No')\n",
    "\n",
    "# 3) Списание по требованию\n",
    "#print('3) Списание по требованию:', 'Yes' if 201 in top_5_tr_types.index else 'No')\n",
    "\n",
    "# 4) Оплата услуги. Банкоматы СБ РФ\n",
    "#print('4) Оплата услуги. Банкоматы СБ РФ:', 'Yes' if 110 in top_5_tr_types.index else 'No')\n",
    "\n",
    "# 5) Погашение кредита (в пределах одного филиала)\n",
    "#print('5) Погашение кредита (в пределах одного филиала):', 'Yes' if 600 in top_5_tr_types.index else 'No')\n",
    "\n"
   ]
  },
  {
   "cell_type": "markdown",
   "metadata": {},
   "source": [
    "#### Task 7.\n",
    "1. В датафрейме transactions задайте столбец  customer_id в качестве индекса.\n",
    "2. Выделите клиента с максимальной суммой транзакции (то есть с максимальным приходом на карту). (\\*)\n",
    "3. Найдите у него наиболее часто встречающийся модуль суммы приходов/расходов. (\\**)\n",
    "\n",
    "\n",
    "#### Выберите все верные пункты:\n",
    "    - 1) 1122957.89\n",
    "    - 2) 15721.41\n",
    "    - 3) 22459.16\n",
    "    - 4) 13475494.63\n",
    "    - 5) 107407.78\n",
    "    - 6) 65019.26\n",
    "\n",
    "##### Пояснения:\n",
    "(\\*) Если у клиента были транзакции [-10000, 10, 0, -10], то максимумом будет являться значение 10. <br>\n",
    "(\\**) Если у клиента были транзакции [-10000, 10, 0, -10], то наиболее встречающийся модуль суммы транзакций равен 10, и встретился он 2 раза."
   ]
  },
  {
   "cell_type": "code",
   "execution_count": 21,
   "metadata": {
    "ExecuteTime": {
     "end_time": "2020-04-23T10:20:53.265495Z",
     "start_time": "2020-04-23T10:20:53.263208Z"
    },
    "scrolled": true
   },
   "outputs": [
    {
     "name": "stdout",
     "output_type": "stream",
     "text": [
      "Максимальная сумма транзакции: 145984525.17\n",
      "Наиболее встречающийся модуль суммы: 22459.16 встречается 25 раз(а)\n"
     ]
    }
   ],
   "source": [
    "### Type your code here\n",
    "\n",
    "transactions.set_index('customer_id', inplace=True)\n",
    "\n",
    "# Найдите клиента с максимальной суммой транзакции\n",
    "max_customer_id = transactions['amount'].idxmax()\n",
    "\n",
    "# Выделите все транзакции этого клиента\n",
    "max_customer_transactions = transactions.loc[max_customer_id]\n",
    "\n",
    "# Найдите модуль суммы транзакций этого клиента\n",
    "mode_amount = max_customer_transactions['amount'].abs().mode()\n",
    "\n",
    "# Если есть мода, то выведите ее значение и количество встречаемости\n",
    "if not mode_amount.empty:\n",
    "    mode_value = mode_amount.values[0]\n",
    "    mode_count = max_customer_transactions['amount'].abs().value_counts().loc[mode_value]\n",
    "    print(\"Максимальная сумма транзакции:\", max_customer_transactions['amount'].max())\n",
    "    print(\"Наиболее встречающийся модуль суммы:\", mode_value, \"встречается\", mode_count, \"раз(а)\")\n",
    "else:\n",
    "    print(\"Для клиента нет наиболее встречающегося модуля суммы.\")"
   ]
  },
  {
   "cell_type": "markdown",
   "metadata": {},
   "source": [
    "#### Task 8.\n",
    "1. Найдите максимальную разницу между медианами суммы транзакций, посчитанными при заданных ниже условиях по полю amount из таблицы transactions (\\*):\n",
    "    - Медиана суммы транзакций\n",
    "    - Медиана суммы транзакций по тем строкам, которые ни в одном из своих столбцов не содержат пустые значения\n",
    "    - Медиана суммы транзакций по строкам, отсортированным по полю amount в порядке возрастания, и из которых удалены дублирующиеся по столбцам [mcc_code, tr_type] строки, причём при удалении соответстующих дублей остаются только последние из дублирующихся строк (keep='last')\n",
    "\n",
    "Выведите ответ в виде вещественного числа, округлённого до двух знаков после запятой, отделив дробную часть точкой в формате \"123.45\"\n",
    "\n",
    "##### Пояснения:\n",
    "(\\*) Для вычисления максимальной разницы между значениями списка можно использовать функцию np.ptp  \n",
    "(\\**) Если в результате получились значения [1,3,5], то макимальная разница между ними 4 == 5-1."
   ]
  },
  {
   "cell_type": "code",
   "execution_count": 23,
   "metadata": {
    "ExecuteTime": {
     "end_time": "2020-04-23T10:21:36.645933Z",
     "start_time": "2020-04-23T10:21:36.643612Z"
    },
    "scrolled": true
   },
   "outputs": [
    {
     "name": "stdout",
     "output_type": "stream",
     "text": [
      "\n",
      "Промежуточные значения:\n",
      "Медиана суммы транзакций (все строки): -5614.79\n",
      "Медиана суммы транзакций (без пустых значений): -5596.6\n",
      "Медиана суммы транзакций (отсортированные и уникальные строки): -920.83\n",
      "\n",
      "Результат (максимальная разница между медианами): 4693.96\n"
     ]
    }
   ],
   "source": [
    "### Type your code here\n",
    "\n",
    "# Медиана суммы транзакций\n",
    "median_all = transactions['amount'].median()\n",
    "\n",
    "# Медиана суммы транзакций по строкам без пустых значений\n",
    "median_no_null = transactions.dropna()['amount'].median()\n",
    "\n",
    "# Медиана суммы транзакций по отсортированным и уникальным строкам\n",
    "median_sorted_unique = transactions.sort_values('amount').drop_duplicates(subset=['mcc_code', 'tr_type'], keep='last')['amount'].median()\n",
    "\n",
    "# Вычислите максимальную разницу между медианами\n",
    "max_difference = np.ptp([median_all, median_no_null, median_sorted_unique])\n",
    "\n",
    "# Вывод промежуточные значения\n",
    "print(\"\\nПромежуточные значения:\")\n",
    "print(\"Медиана суммы транзакций (все строки):\", median_all)\n",
    "print(\"Медиана суммы транзакций (без пустых значений):\", median_no_null)\n",
    "print(\"Медиана суммы транзакций (отсортированные и уникальные строки):\", median_sorted_unique)\n",
    "\n",
    "# Вывод результат с округлением до двух знаков после запятой\n",
    "result = round(max_difference, 2)\n",
    "print(\"\\nРезультат (максимальная разница между медианами):\", result)"
   ]
  },
  {
   "cell_type": "code",
   "execution_count": null,
   "metadata": {},
   "outputs": [],
   "source": []
  }
 ],
 "metadata": {
  "hide_input": false,
  "kernelspec": {
   "display_name": "Python 3 (ipykernel)",
   "language": "python",
   "name": "python3"
  },
  "language_info": {
   "codemirror_mode": {
    "name": "ipython",
    "version": 3
   },
   "file_extension": ".py",
   "mimetype": "text/x-python",
   "name": "python",
   "nbconvert_exporter": "python",
   "pygments_lexer": "ipython3",
   "version": "3.11.4"
  },
  "toc": {
   "base_numbering": 1,
   "nav_menu": {},
   "number_sections": true,
   "sideBar": true,
   "skip_h1_title": false,
   "title_cell": "Table of Contents",
   "title_sidebar": "Contents",
   "toc_cell": true,
   "toc_position": {},
   "toc_section_display": true,
   "toc_window_display": false
  },
  "varInspector": {
   "cols": {
    "lenName": 16,
    "lenType": 16,
    "lenVar": 40
   },
   "kernels_config": {
    "python": {
     "delete_cmd_postfix": "",
     "delete_cmd_prefix": "del ",
     "library": "var_list.py",
     "varRefreshCmd": "print(var_dic_list())"
    },
    "r": {
     "delete_cmd_postfix": ") ",
     "delete_cmd_prefix": "rm(",
     "library": "var_list.r",
     "varRefreshCmd": "cat(var_dic_list()) "
    }
   },
   "types_to_exclude": [
    "module",
    "function",
    "builtin_function_or_method",
    "instance",
    "_Feature"
   ],
   "window_display": false
  }
 },
 "nbformat": 4,
 "nbformat_minor": 2
}
